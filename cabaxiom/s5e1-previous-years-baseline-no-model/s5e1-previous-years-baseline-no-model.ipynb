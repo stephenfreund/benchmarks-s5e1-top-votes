{
 "cells": [
  {
   "cell_type": "markdown",
   "id": "e770",
   "metadata": {},
   "source": [
    "# Forecasting using previous years as a baseline"
   ]
  },
  {
   "cell_type": "markdown",
   "id": "89e4",
   "metadata": {},
   "source": [
    "See my EDA and Linear Regression baseline notebook for more information about this dataset:\n",
    "- https://www.kaggle.com/code/cabaxiom/s5e1-eda-and-linear-regression-baseline?scriptVersionId=216127469"
   ]
  },
  {
   "cell_type": "markdown",
   "id": "b4f0",
   "metadata": {},
   "source": [
    "This forecast contains much of the same first steps as my previous notebook - aggregating on country, product and store, then making the forecast for the daily number of sales for the next three years, before disagregating back to get the number of sales for each country, product and store.\n",
    "\n",
    "**Forecast:**\n",
    "\n",
    "The forecast in this notebook takes the mean number of sales for each day of the year for the previous x years and uses this as the forecast. **No model is used**.\n",
    "\n",
    "Day of the week has been considered."
   ]
  },
  {
   "cell_type": "markdown",
   "id": "5569",
   "metadata": {},
   "source": [
    "### Preliminaries"
   ]
  },
  {
   "cell_type": "code",
   "execution_count": null,
   "id": "9b56",
   "metadata": {
    "execution": {
     "iopub.execute_input": "2025-01-05T21:07:05.632823Z",
     "iopub.status.busy": "2025-01-05T21:07:05.632386Z",
     "iopub.status.idle": "2025-01-05T21:07:06.914073Z",
     "shell.execute_reply": "2025-01-05T21:07:06.912931Z",
     "shell.execute_reply.started": "2025-01-05T21:07:05.632787Z"
    }
   },
   "outputs": [],
   "source": [
    "import numpy as np\n",
    "import pandas as pd\n",
    "import matplotlib.pyplot as plt\n",
    "import seaborn as sns\n",
    "\n",
    "sns.set_style('whitegrid')"
   ]
  },
  {
   "cell_type": "code",
   "execution_count": null,
   "id": "588a",
   "metadata": {
    "_kg_hide-input": true,
    "execution": {
     "iopub.execute_input": "2025-01-05T21:07:06.915818Z",
     "iopub.status.busy": "2025-01-05T21:07:06.915374Z",
     "iopub.status.idle": "2025-01-05T21:07:06.92052Z",
     "shell.execute_reply": "2025-01-05T21:07:06.919244Z",
     "shell.execute_reply.started": "2025-01-05T21:07:06.91578Z"
    }
   },
   "outputs": [],
   "source": [
    "import warnings\n",
    "\n",
    "warnings.filterwarnings(\"ignore\", category=FutureWarning, module=\"seaborn._oldcore\")"
   ]
  },
  {
   "cell_type": "code",
   "execution_count": null,
   "id": "2e5c",
   "metadata": {
    "execution": {
     "iopub.execute_input": "2025-01-05T21:07:06.923082Z",
     "iopub.status.busy": "2025-01-05T21:07:06.922753Z",
     "iopub.status.idle": "2025-01-05T21:07:07.467448Z",
     "shell.execute_reply": "2025-01-05T21:07:07.466209Z",
     "shell.execute_reply.started": "2025-01-05T21:07:06.923052Z"
    }
   },
   "outputs": [],
   "source": [
    "train_df = pd.read_csv(\"./input/playground-series-s5e1/train.csv\", parse_dates=[\"date\"])\n",
    "test_df = pd.read_csv(\"./input/playground-series-s5e1/test.csv\", parse_dates=[\"date\"])"
   ]
  },
  {
   "cell_type": "code",
   "execution_count": null,
   "id": "d922",
   "metadata": {
    "execution": {
     "iopub.execute_input": "2025-01-05T21:07:07.469302Z",
     "iopub.status.busy": "2025-01-05T21:07:07.46888Z",
     "iopub.status.idle": "2025-01-05T21:07:07.48132Z",
     "shell.execute_reply": "2025-01-05T21:07:07.480158Z",
     "shell.execute_reply.started": "2025-01-05T21:07:07.469269Z"
    }
   },
   "outputs": [],
   "source": [
    "print(\"Train - Earliest date:\", train_df[\"date\"].min())\n",
    "print(\"Train - Latest date:\", train_df[\"date\"].max())\n",
    "\n",
    "print(\"Test - Earliest date:\", test_df[\"date\"].min())\n",
    "print(\"Test - Latest date:\", test_df[\"date\"].max())"
   ]
  },
  {
   "cell_type": "markdown",
   "id": "df01",
   "metadata": {},
   "source": [
    "## Country Weights"
   ]
  },
  {
   "cell_type": "markdown",
   "id": "f7ab",
   "metadata": {},
   "source": [
    "We aggregate the country variable when making the forecast as we found in my EDA [notebook](https://www.kaggle.com/code/cabaxiom/s5e1-eda-and-linear-regression-baseline?scriptVersionId=216127469). This works as the proportion of sales in each country for every year is equal to the proportion of GDP per captia for that country and year."
   ]
  },
  {
   "cell_type": "code",
   "execution_count": null,
   "id": "61e5",
   "metadata": {
    "execution": {
     "iopub.execute_input": "2025-01-05T21:07:07.483091Z",
     "iopub.status.busy": "2025-01-05T21:07:07.482642Z",
     "iopub.status.idle": "2025-01-05T21:07:07.551579Z",
     "shell.execute_reply": "2025-01-05T21:07:07.550323Z",
     "shell.execute_reply.started": "2025-01-05T21:07:07.483034Z"
    }
   },
   "outputs": [],
   "source": [
    "gdp_per_capita_df = pd.read_csv(\"./input/world-gdpgdp-gdp-per-capita-and-annual-growths/gdp_per_capita.csv\")\n",
    "\n",
    "years =  [\"2010\", \"2011\", \"2012\", \"2013\", \"2014\", \"2015\", \"2016\", \"2017\", \"2018\", \"2019\", \"2020\"]\n",
    "gdp_per_capita_filtered_df = gdp_per_capita_df.loc[gdp_per_capita_df[\"Country Name\"].isin(train_df[\"country\"].unique()), [\"Country Name\"] + years].set_index(\"Country Name\")\n",
    "gdp_per_capita_filtered_df[\"2010_ratio\"] = gdp_per_capita_filtered_df[\"2010\"] / gdp_per_capita_filtered_df.sum()[\"2010\"]\n",
    "for year in years:\n",
    "    gdp_per_capita_filtered_df[f\"{year}_ratio\"] = gdp_per_capita_filtered_df[year] / gdp_per_capita_filtered_df.sum()[year]\n",
    "gdp_per_capita_filtered_ratios_df = gdp_per_capita_filtered_df[[i+\"_ratio\" for i in years]]\n",
    "gdp_per_capita_filtered_ratios_df.columns = [int(i) for i in years]\n",
    "gdp_per_capita_filtered_ratios_df = gdp_per_capita_filtered_ratios_df.unstack().reset_index().rename(columns = {\"level_0\": \"year\", 0: \"ratio\", \"Country Name\": \"country\"})\n",
    "gdp_per_capita_filtered_ratios_df['year'] = pd.to_datetime(gdp_per_capita_filtered_ratios_df['year'], format='%Y')"
   ]
  },
  {
   "cell_type": "markdown",
   "id": "a3d7",
   "metadata": {},
   "source": [
    "## Imputing Missing Values"
   ]
  },
  {
   "cell_type": "markdown",
   "id": "6453",
   "metadata": {},
   "source": [
    "Imputing missing values, using this information."
   ]
  },
  {
   "cell_type": "code",
   "execution_count": null,
   "id": "a20c",
   "metadata": {
    "execution": {
     "iopub.execute_input": "2025-01-05T21:07:07.553254Z",
     "iopub.status.busy": "2025-01-05T21:07:07.552853Z",
     "iopub.status.idle": "2025-01-05T21:07:14.521153Z",
     "shell.execute_reply": "2025-01-05T21:07:14.520046Z",
     "shell.execute_reply.started": "2025-01-05T21:07:07.553221Z"
    }
   },
   "outputs": [],
   "source": [
    "gdp_per_capita_filtered_ratios_df[\"year\"] = gdp_per_capita_filtered_ratios_df[\"year\"].dt.year\n",
    "train_df_imputed = train_df.copy()\n",
    "print(f\"Missing values remaining: {train_df_imputed['num_sold'].isna().sum()}\")\n",
    "\n",
    "train_df_imputed[\"year\"] = train_df_imputed[\"date\"].dt.year\n",
    "for year in train_df_imputed[\"year\"].unique():\n",
    "    # Impute Time Series 1 (Canada, Discount Stickers, Holographic Goose)\n",
    "    target_ratio = gdp_per_capita_filtered_ratios_df.loc[(gdp_per_capita_filtered_ratios_df[\"year\"] == year) & (gdp_per_capita_filtered_ratios_df[\"country\"] == \"Norway\"), \"ratio\"].values[0] # Using Norway as should have the best precision\n",
    "    current_raito = gdp_per_capita_filtered_ratios_df.loc[(gdp_per_capita_filtered_ratios_df[\"year\"] == year) & (gdp_per_capita_filtered_ratios_df[\"country\"] == \"Canada\"), \"ratio\"].values[0]\n",
    "    ratio_can = current_raito / target_ratio\n",
    "    train_df_imputed.loc[(train_df_imputed[\"country\"] == \"Canada\") & (train_df_imputed[\"store\"] == \"Discount Stickers\") & (train_df_imputed[\"product\"] == \"Holographic Goose\") & (train_df_imputed[\"year\"] == year), \"num_sold\"] = (train_df_imputed.loc[(train_df_imputed[\"country\"] == \"Norway\") & (train_df_imputed[\"store\"] == \"Discount Stickers\") & (train_df_imputed[\"product\"] == \"Holographic Goose\") & (train_df_imputed[\"year\"] == year), \"num_sold\"] * ratio_can).values\n",
    "    \n",
    "    # Impute Time Series 2 (Only Missing Values)\n",
    "    current_ts =  train_df_imputed.loc[(train_df_imputed[\"country\"] == \"Canada\") & (train_df_imputed[\"store\"] == \"Premium Sticker Mart\") & (train_df_imputed[\"product\"] == \"Holographic Goose\") & (train_df_imputed[\"year\"] == year)]\n",
    "    missing_ts_dates = current_ts.loc[current_ts[\"num_sold\"].isna(), \"date\"]\n",
    "    train_df_imputed.loc[(train_df_imputed[\"country\"] == \"Canada\") & (train_df_imputed[\"store\"] == \"Premium Sticker Mart\") & (train_df_imputed[\"product\"] == \"Holographic Goose\") & (train_df_imputed[\"year\"] == year) & (train_df_imputed[\"date\"].isin(missing_ts_dates)), \"num_sold\"] = (train_df_imputed.loc[(train_df_imputed[\"country\"] == \"Norway\") & (train_df_imputed[\"store\"] == \"Premium Sticker Mart\") & (train_df_imputed[\"product\"] == \"Holographic Goose\") & (train_df_imputed[\"year\"] == year) & (train_df_imputed[\"date\"].isin(missing_ts_dates)), \"num_sold\"] * ratio_can).values\n",
    "\n",
    "    # Impute Time Series 3 (Only Missing Values)\n",
    "    current_ts =  train_df_imputed.loc[(train_df_imputed[\"country\"] == \"Canada\") & (train_df_imputed[\"store\"] == \"Stickers for Less\") & (train_df_imputed[\"product\"] == \"Holographic Goose\") & (train_df_imputed[\"year\"] == year)]\n",
    "    missing_ts_dates = current_ts.loc[current_ts[\"num_sold\"].isna(), \"date\"]\n",
    "    train_df_imputed.loc[(train_df_imputed[\"country\"] == \"Canada\") & (train_df_imputed[\"store\"] == \"Stickers for Less\") & (train_df_imputed[\"product\"] == \"Holographic Goose\") & (train_df_imputed[\"year\"] == year) & (train_df_imputed[\"date\"].isin(missing_ts_dates)), \"num_sold\"] = (train_df_imputed.loc[(train_df_imputed[\"country\"] == \"Norway\") & (train_df_imputed[\"store\"] == \"Stickers for Less\") & (train_df_imputed[\"product\"] == \"Holographic Goose\") & (train_df_imputed[\"year\"] == year) & (train_df_imputed[\"date\"].isin(missing_ts_dates)), \"num_sold\"] * ratio_can).values\n",
    "    \n",
    "    # Impute Time Series 4 (Kenya, Discount Stickers, Holographic Goose)\n",
    "    current_raito = gdp_per_capita_filtered_ratios_df.loc[(gdp_per_capita_filtered_ratios_df[\"year\"] == year) & (gdp_per_capita_filtered_ratios_df[\"country\"] == \"Kenya\"), \"ratio\"].values[0]\n",
    "    ratio_ken = current_raito / target_ratio\n",
    "    train_df_imputed.loc[(train_df_imputed[\"country\"] == \"Kenya\") & (train_df_imputed[\"store\"] == \"Discount Stickers\") & (train_df_imputed[\"product\"] == \"Holographic Goose\") & (train_df_imputed[\"year\"] == year), \"num_sold\"] = (train_df_imputed.loc[(train_df_imputed[\"country\"] == \"Norway\") & (train_df_imputed[\"store\"] == \"Discount Stickers\") & (train_df_imputed[\"product\"] == \"Holographic Goose\")& (train_df_imputed[\"year\"] == year), \"num_sold\"] * ratio_ken).values\n",
    "\n",
    "    # Impute Time Series 5 (Only Missing Values)\n",
    "    current_ts = train_df_imputed.loc[(train_df_imputed[\"country\"] == \"Kenya\") & (train_df_imputed[\"store\"] == \"Premium Sticker Mart\") & (train_df_imputed[\"product\"] == \"Holographic Goose\") & (train_df_imputed[\"year\"] == year)]\n",
    "    missing_ts_dates = current_ts.loc[current_ts[\"num_sold\"].isna(), \"date\"]\n",
    "    train_df_imputed.loc[(train_df_imputed[\"country\"] == \"Kenya\") & (train_df_imputed[\"store\"] == \"Premium Sticker Mart\") & (train_df_imputed[\"product\"] == \"Holographic Goose\") & (train_df_imputed[\"year\"] == year) & (train_df_imputed[\"date\"].isin(missing_ts_dates)), \"num_sold\"] = (train_df_imputed.loc[(train_df_imputed[\"country\"] == \"Norway\") & (train_df_imputed[\"store\"] == \"Premium Sticker Mart\") & (train_df_imputed[\"product\"] == \"Holographic Goose\") & (train_df_imputed[\"year\"] == year) & (train_df_imputed[\"date\"].isin(missing_ts_dates)), \"num_sold\"] * ratio_ken).values\n",
    "\n",
    "    # Impute Time Series 6 (Only Missing Values)\n",
    "    current_ts = train_df_imputed.loc[(train_df_imputed[\"country\"] == \"Kenya\") & (train_df_imputed[\"store\"] == \"Stickers for Less\") & (train_df_imputed[\"product\"] == \"Holographic Goose\") & (train_df_imputed[\"year\"] == year)]\n",
    "    missing_ts_dates = current_ts.loc[current_ts[\"num_sold\"].isna(), \"date\"]\n",
    "    train_df_imputed.loc[(train_df_imputed[\"country\"] == \"Kenya\") & (train_df_imputed[\"store\"] == \"Stickers for Less\") & (train_df_imputed[\"product\"] == \"Holographic Goose\") & (train_df_imputed[\"year\"] == year) & (train_df_imputed[\"date\"].isin(missing_ts_dates)), \"num_sold\"] = (train_df_imputed.loc[(train_df_imputed[\"country\"] == \"Norway\") & (train_df_imputed[\"store\"] == \"Stickers for Less\") & (train_df_imputed[\"product\"] == \"Holographic Goose\") & (train_df_imputed[\"year\"] == year) & (train_df_imputed[\"date\"].isin(missing_ts_dates)), \"num_sold\"] * ratio_ken).values\n",
    "\n",
    "    # Impute Time Series 7 (Only Missing Values)\n",
    "    current_ts = train_df_imputed.loc[(train_df_imputed[\"country\"] == \"Kenya\") & (train_df_imputed[\"store\"] == \"Discount Stickers\") & (train_df_imputed[\"product\"] == \"Kerneler\") & (train_df_imputed[\"year\"] == year)]\n",
    "    missing_ts_dates = current_ts.loc[current_ts[\"num_sold\"].isna(), \"date\"]\n",
    "    train_df_imputed.loc[(train_df_imputed[\"country\"] == \"Kenya\") & (train_df_imputed[\"store\"] == \"Discount Stickers\") & (train_df_imputed[\"product\"] == \"Kerneler\") & (train_df_imputed[\"year\"] == year) & (train_df_imputed[\"date\"].isin(missing_ts_dates)), \"num_sold\"] = (train_df_imputed.loc[(train_df_imputed[\"country\"] == \"Norway\") & (train_df_imputed[\"store\"] == \"Discount Stickers\") & (train_df_imputed[\"product\"] == \"Kerneler\") & (train_df_imputed[\"year\"] == year) & (train_df_imputed[\"date\"].isin(missing_ts_dates)), \"num_sold\"] * ratio_ken).values\n",
    "    \n",
    "print(f\"Missing values remaining: {train_df_imputed['num_sold'].isna().sum()}\")"
   ]
  },
  {
   "cell_type": "code",
   "execution_count": null,
   "id": "f64e",
   "metadata": {
    "execution": {
     "iopub.execute_input": "2025-01-05T21:07:14.522499Z",
     "iopub.status.busy": "2025-01-05T21:07:14.522187Z",
     "iopub.status.idle": "2025-01-05T21:07:14.533325Z",
     "shell.execute_reply": "2025-01-05T21:07:14.532248Z",
     "shell.execute_reply.started": "2025-01-05T21:07:14.522469Z"
    }
   },
   "outputs": [],
   "source": [
    "missing_rows = train_df_imputed.loc[train_df_imputed[\"num_sold\"].isna()]\n",
    "\n",
    "train_df_imputed.loc[train_df_imputed[\"id\"] == 23719, \"num_sold\"] = 4\n",
    "train_df_imputed.loc[train_df_imputed[\"id\"] == 207003, \"num_sold\"] = 195\n",
    "\n",
    "print(f\"Missing values remaining: {train_df_imputed['num_sold'].isna().sum()}\")"
   ]
  },
  {
   "cell_type": "markdown",
   "id": "8fb8",
   "metadata": {},
   "source": [
    "## Store Weights"
   ]
  },
  {
   "cell_type": "markdown",
   "id": "5727",
   "metadata": {},
   "source": [
    "We aggregate the stores, as we found that each store has the same proportion of sales on every day during the EDA."
   ]
  },
  {
   "cell_type": "code",
   "execution_count": null,
   "id": "0592",
   "metadata": {
    "execution": {
     "iopub.execute_input": "2025-01-05T21:07:14.536288Z",
     "iopub.status.busy": "2025-01-05T21:07:14.535992Z",
     "iopub.status.idle": "2025-01-05T21:07:14.575223Z",
     "shell.execute_reply": "2025-01-05T21:07:14.574065Z",
     "shell.execute_reply.started": "2025-01-05T21:07:14.536263Z"
    }
   },
   "outputs": [],
   "source": [
    "store_weights = train_df_imputed.groupby(\"store\")[\"num_sold\"].sum()/train_df_imputed[\"num_sold\"].sum()"
   ]
  },
  {
   "cell_type": "markdown",
   "id": "a891",
   "metadata": {},
   "source": [
    "## Product Weights"
   ]
  },
  {
   "cell_type": "markdown",
   "id": "0458",
   "metadata": {},
   "source": [
    "We aggregate over products, as we found during the EDA that the proportion of sales for each product can be fitted with a trigonometric function."
   ]
  },
  {
   "cell_type": "code",
   "execution_count": null,
   "id": "ee24",
   "metadata": {
    "execution": {
     "iopub.execute_input": "2025-01-05T21:07:14.577325Z",
     "iopub.status.busy": "2025-01-05T21:07:14.576896Z",
     "iopub.status.idle": "2025-01-05T21:07:15.02722Z",
     "shell.execute_reply": "2025-01-05T21:07:15.026137Z",
     "shell.execute_reply.started": "2025-01-05T21:07:14.577285Z"
    }
   },
   "outputs": [],
   "source": [
    "product_df = train_df_imputed.groupby([\"date\",\"product\"])[\"num_sold\"].sum().reset_index()\n",
    "product_ratio_df = product_df.pivot(index=\"date\", columns=\"product\", values=\"num_sold\")\n",
    "product_ratio_df = product_ratio_df.apply(lambda x: x/x.sum(),axis=1)\n",
    "product_ratio_df = product_ratio_df.stack().rename(\"ratios\").reset_index()\n",
    "\n",
    "\n",
    "product_ratio_2017_df = product_ratio_df.loc[product_ratio_df[\"date\"].dt.year == 2015].copy()\n",
    "product_ratio_2018_df = product_ratio_df.loc[product_ratio_df[\"date\"].dt.year == 2016].copy()\n",
    "product_ratio_2019_df = product_ratio_df.loc[product_ratio_df[\"date\"].dt.year == 2015].copy()\n",
    "\n",
    "product_ratio_2017_df[\"date\"] = product_ratio_2017_df[\"date\"] + pd.DateOffset(years=2)\n",
    "product_ratio_2018_df[\"date\"] = product_ratio_2018_df[\"date\"] + pd.DateOffset(years=2)\n",
    "product_ratio_2019_df[\"date\"] =  product_ratio_2019_df[\"date\"] + pd.DateOffset(years=4)\n",
    "\n",
    "forecasted_ratios_df = pd.concat([product_ratio_2017_df, product_ratio_2018_df, product_ratio_2019_df])\n",
    "\n"
   ]
  },
  {
   "cell_type": "markdown",
   "id": "1721",
   "metadata": {},
   "source": [
    "## Aggregating Time Series"
   ]
  },
  {
   "cell_type": "markdown",
   "id": "7251",
   "metadata": {},
   "source": [
    "Making the aggregation over all countries, stores and products, obtaining the total sales each day as our new time series that we want to forecast."
   ]
  },
  {
   "cell_type": "code",
   "execution_count": null,
   "id": "3f9a",
   "metadata": {
    "execution": {
     "iopub.execute_input": "2025-01-05T21:07:15.028616Z",
     "iopub.status.busy": "2025-01-05T21:07:15.028343Z",
     "iopub.status.idle": "2025-01-05T21:07:15.062809Z",
     "shell.execute_reply": "2025-01-05T21:07:15.061732Z",
     "shell.execute_reply.started": "2025-01-05T21:07:15.028593Z"
    }
   },
   "outputs": [],
   "source": [
    "original_train_df_imputed = train_df_imputed.copy()\n",
    "train_df_imputed = train_df_imputed.groupby([\"date\"])[\"num_sold\"].sum().reset_index()"
   ]
  },
  {
   "cell_type": "markdown",
   "id": "28c0",
   "metadata": {},
   "source": [
    "Lets have a look at the number of sales each day over time:"
   ]
  },
  {
   "cell_type": "code",
   "execution_count": null,
   "id": "dc62",
   "metadata": {
    "execution": {
     "iopub.execute_input": "2025-01-05T21:07:15.064166Z",
     "iopub.status.busy": "2025-01-05T21:07:15.063837Z",
     "iopub.status.idle": "2025-01-05T21:07:15.935731Z",
     "shell.execute_reply": "2025-01-05T21:07:15.934499Z",
     "shell.execute_reply.started": "2025-01-05T21:07:15.064134Z"
    }
   },
   "outputs": [],
   "source": [
    "f,ax = plt.subplots(figsize=(20,9))\n",
    "sns.lineplot(data=train_df_imputed, x=\"date\", y=\"num_sold\", linewidth = 1);"
   ]
  },
  {
   "cell_type": "code",
   "execution_count": null,
   "id": "0b27",
   "metadata": {
    "execution": {
     "iopub.execute_input": "2025-01-05T21:07:15.937274Z",
     "iopub.status.busy": "2025-01-05T21:07:15.936879Z",
     "iopub.status.idle": "2025-01-05T21:07:15.947675Z",
     "shell.execute_reply": "2025-01-05T21:07:15.946497Z",
     "shell.execute_reply.started": "2025-01-05T21:07:15.937239Z"
    }
   },
   "outputs": [],
   "source": [
    "train_df_imputed[\"year\"] = train_df_imputed[\"date\"].dt.year\n",
    "train_df_imputed[\"month\"] = train_df_imputed[\"date\"].dt.month\n",
    "train_df_imputed[\"day\"] = train_df_imputed[\"date\"].dt.day\n",
    "train_df_imputed[\"day_of_week\"] = train_df_imputed[\"date\"].dt.dayofweek"
   ]
  },
  {
   "cell_type": "code",
   "execution_count": null,
   "id": "1161",
   "metadata": {
    "execution": {
     "iopub.execute_input": "2025-01-05T21:07:15.949114Z",
     "iopub.status.busy": "2025-01-05T21:07:15.948784Z",
     "iopub.status.idle": "2025-01-05T21:07:15.973204Z",
     "shell.execute_reply": "2025-01-05T21:07:15.972178Z",
     "shell.execute_reply.started": "2025-01-05T21:07:15.949083Z"
    }
   },
   "outputs": [],
   "source": [
    "#get the dates to forecast for\n",
    "test_total_sales_df = test_df.groupby([\"date\"])[\"id\"].first().reset_index().drop(columns=\"id\")\n",
    "\n",
    "test_total_sales_df[\"month\"] = test_total_sales_df[\"date\"].dt.month\n",
    "test_total_sales_df[\"day\"] = test_total_sales_df[\"date\"].dt.day\n",
    "test_total_sales_df[\"day_of_week\"] = test_total_sales_df[\"date\"].dt.day_of_week"
   ]
  },
  {
   "cell_type": "markdown",
   "id": "93a5",
   "metadata": {},
   "source": [
    "Account for day of week in the forecast by removing its effect on the number of sales. For example Sataurday has more sales than other days, so we multipy it by a number less than 1, to try and take the variation caused by day of the week out.Thus standardising the number of sales by the day of week."
   ]
  },
  {
   "cell_type": "code",
   "execution_count": null,
   "id": "de51",
   "metadata": {
    "execution": {
     "iopub.execute_input": "2025-01-05T21:07:15.974803Z",
     "iopub.status.busy": "2025-01-05T21:07:15.974383Z",
     "iopub.status.idle": "2025-01-05T21:07:15.995666Z",
     "shell.execute_reply": "2025-01-05T21:07:15.994764Z",
     "shell.execute_reply.started": "2025-01-05T21:07:15.974718Z"
    }
   },
   "outputs": [],
   "source": [
    "day_of_week_ratio = (train_df_imputed.groupby(\"day_of_week\")[\"num_sold\"].mean() / train_df_imputed.groupby(\"day_of_week\")[\"num_sold\"].mean().mean()).rename(\"day_of_week_ratios\")\n",
    "display(day_of_week_ratio)\n",
    "train_df_imputed = pd.merge(train_df_imputed, day_of_week_ratio, how=\"left\", on=\"day_of_week\")\n",
    "train_df_imputed[\"adjusted_num_sold\"] = train_df_imputed[\"num_sold\"] / train_df_imputed[\"day_of_week_ratios\"]"
   ]
  },
  {
   "cell_type": "markdown",
   "id": "7c7c",
   "metadata": {},
   "source": [
    "Ignore this, its just to check we didn't make a mistake when standardising:"
   ]
  },
  {
   "cell_type": "code",
   "execution_count": null,
   "id": "c23c",
   "metadata": {
    "execution": {
     "iopub.execute_input": "2025-01-05T21:07:15.997119Z",
     "iopub.status.busy": "2025-01-05T21:07:15.996717Z",
     "iopub.status.idle": "2025-01-05T21:07:16.013448Z",
     "shell.execute_reply": "2025-01-05T21:07:16.012378Z",
     "shell.execute_reply.started": "2025-01-05T21:07:15.997081Z"
    }
   },
   "outputs": [],
   "source": [
    "sanity_check = (train_df_imputed[\"num_sold\"].sum() - train_df_imputed[\"adjusted_num_sold\"].sum()) / train_df_imputed[\"num_sold\"].sum()\n",
    "print(f\"This number should be very small {sanity_check:.6f}\")"
   ]
  },
  {
   "cell_type": "markdown",
   "id": "ff5f",
   "metadata": {},
   "source": [
    "## Making the forecast"
   ]
  },
  {
   "cell_type": "markdown",
   "id": "2b6f",
   "metadata": {},
   "source": [
    "We make the forecast by taking the mean number of sales for that day of the year over the past x years. it's probably a good idea to use the full data, but if any trends exist over time it might be best to only use the past few years. Feel free to experiment with this value."
   ]
  },
  {
   "cell_type": "code",
   "execution_count": null,
   "id": "2aff",
   "metadata": {
    "execution": {
     "iopub.execute_input": "2025-01-05T21:07:16.015267Z",
     "iopub.status.busy": "2025-01-05T21:07:16.014791Z",
     "iopub.status.idle": "2025-01-05T21:07:16.037672Z",
     "shell.execute_reply": "2025-01-05T21:07:16.036463Z",
     "shell.execute_reply.started": "2025-01-05T21:07:16.015223Z"
    }
   },
   "outputs": [],
   "source": [
    "train_last_x_years_df = train_df_imputed.loc[train_df_imputed[\"year\"] >= 2010]\n",
    "train_day_mean_df = train_last_x_years_df.groupby([\"month\", \"day\"])[\"adjusted_num_sold\"].mean().reset_index()"
   ]
  },
  {
   "cell_type": "code",
   "execution_count": null,
   "id": "3361",
   "metadata": {
    "execution": {
     "iopub.execute_input": "2025-01-05T21:07:16.039063Z",
     "iopub.status.busy": "2025-01-05T21:07:16.038688Z",
     "iopub.status.idle": "2025-01-05T21:07:16.059495Z",
     "shell.execute_reply": "2025-01-05T21:07:16.058376Z",
     "shell.execute_reply.started": "2025-01-05T21:07:16.039025Z"
    }
   },
   "outputs": [],
   "source": [
    "test_total_sales_df = pd.merge(test_total_sales_df, train_day_mean_df, how=\"left\", on=[\"month\", \"day\"])\n",
    "# Applying the day of week ratios back, thus increasing the number of sales if its a Sataurday for example\n",
    "test_total_sales_df = pd.merge(test_total_sales_df, day_of_week_ratio.reset_index(), how=\"left\", on=\"day_of_week\")\n",
    "test_total_sales_df[\"num_sold\"] = test_total_sales_df[\"adjusted_num_sold\"] * test_total_sales_df[\"day_of_week_ratios\"]"
   ]
  },
  {
   "cell_type": "markdown",
   "id": "fe63",
   "metadata": {},
   "source": [
    "Lets take a look at our forecast:"
   ]
  },
  {
   "cell_type": "code",
   "execution_count": null,
   "id": "042c",
   "metadata": {
    "execution": {
     "iopub.execute_input": "2025-01-05T21:07:16.061168Z",
     "iopub.status.busy": "2025-01-05T21:07:16.060755Z",
     "iopub.status.idle": "2025-01-05T21:07:16.97115Z",
     "shell.execute_reply": "2025-01-05T21:07:16.969957Z",
     "shell.execute_reply.started": "2025-01-05T21:07:16.061129Z"
    }
   },
   "outputs": [],
   "source": [
    "f,ax = plt.subplots(figsize=(20,10))\n",
    "sns.lineplot(data = pd.concat([train_df_imputed,test_total_sales_df]).reset_index(drop=True), x=\"date\", y=\"num_sold\", linewidth=0.6);\n",
    "ax.axvline(pd.to_datetime(\"2017-01-01\"), color='black', linestyle='--');"
   ]
  },
  {
   "cell_type": "markdown",
   "id": "dd4c",
   "metadata": {},
   "source": [
    "## Disaggregating Total Sales Forecast"
   ]
  },
  {
   "cell_type": "markdown",
   "id": "b210",
   "metadata": {},
   "source": [
    "We need to divide the total sales forecast for each day between the categorical variables so we get the forecast for each day, country, product and store."
   ]
  },
  {
   "cell_type": "code",
   "execution_count": null,
   "id": "1675",
   "metadata": {
    "execution": {
     "iopub.execute_input": "2025-01-05T21:07:16.972387Z",
     "iopub.status.busy": "2025-01-05T21:07:16.972088Z",
     "iopub.status.idle": "2025-01-05T21:07:17.100808Z",
     "shell.execute_reply": "2025-01-05T21:07:17.099788Z",
     "shell.execute_reply.started": "2025-01-05T21:07:16.972359Z"
    }
   },
   "outputs": [],
   "source": [
    "# Adding in the store ratios\n",
    "store_weights_df = store_weights.reset_index()\n",
    "test_sub_df = pd.merge(test_df, test_total_sales_df, how=\"left\", on=\"date\")\n",
    "test_sub_df = test_sub_df.rename(columns = {\"num_sold\":\"day_num_sold\"})\n",
    "# Adding in the product ratios\n",
    "test_sub_df = pd.merge(test_sub_df, store_weights_df, how=\"left\", on=\"store\")\n",
    "test_sub_df = test_sub_df.rename(columns = {\"num_sold\":\"store_ratio\"})\n",
    "# Adding in the country ratios\n",
    "test_sub_df[\"year\"] = test_sub_df[\"date\"].dt.year\n",
    "test_sub_df = pd.merge(test_sub_df, gdp_per_capita_filtered_ratios_df, how=\"left\", on=[\"year\", \"country\"])\n",
    "test_sub_df = test_sub_df.rename(columns = {\"ratio\":\"country_ratio\"})\n",
    "# Adding in the product ratio\n",
    "test_sub_df = pd.merge(test_sub_df, forecasted_ratios_df, how=\"left\", on=[\"date\", \"product\"])\n",
    "test_sub_df = test_sub_df.rename(columns = {\"ratios\":\"product_ratio\"})\n",
    "\n",
    "# Disaggregating the forecast\n",
    "test_sub_df[\"num_sold\"] = test_sub_df[\"day_num_sold\"] * test_sub_df[\"store_ratio\"] * test_sub_df[\"country_ratio\"] * test_sub_df[\"product_ratio\"]\n",
    "test_sub_df[\"num_sold\"] = test_sub_df[\"num_sold\"].round()"
   ]
  },
  {
   "cell_type": "code",
   "execution_count": null,
   "id": "a8da",
   "metadata": {
    "execution": {
     "iopub.execute_input": "2025-01-05T21:07:17.102136Z",
     "iopub.status.busy": "2025-01-05T21:07:17.101834Z",
     "iopub.status.idle": "2025-01-05T21:07:17.109301Z",
     "shell.execute_reply": "2025-01-05T21:07:17.108095Z",
     "shell.execute_reply.started": "2025-01-05T21:07:17.10211Z"
    }
   },
   "outputs": [],
   "source": [
    "def plot_individual_ts(df):\n",
    "    colour_map = {\"Canada\": \"blue\", \"Finland\": \"orange\", \"Italy\": \"green\", \"Kenya\":\"red\", \"Norway\": \"purple\", \"Singapore\": \"brown\"}\n",
    "    for country in df[\"country\"].unique():\n",
    "        f,axes = plt.subplots(df[\"store\"].nunique()*df[\"product\"].nunique(),figsize=(20,70))\n",
    "        count = 0\n",
    "        for store in df[\"store\"].unique():\n",
    "            for product in df[\"product\"].unique():\n",
    "                plot_df = df.loc[(df[\"product\"] == product) & (df[\"country\"] == country) & (df[\"store\"] == store)]\n",
    "                sns.lineplot(data = plot_df, x=\"date\", y=\"num_sold\", linewidth=0.5, ax=axes[count], color=colour_map[country])\n",
    "                axes[count].set_title(f\"{country} - {store} - {product}\")\n",
    "                axes[count].axvline(pd.to_datetime(\"2017-01-01\"), color='black', linestyle='--');\n",
    "                count+=1"
   ]
  },
  {
   "cell_type": "markdown",
   "id": "97fc",
   "metadata": {},
   "source": [
    "Lets take a look at each of the 90 time series to see if the forecasts look reasonable:"
   ]
  },
  {
   "cell_type": "code",
   "execution_count": null,
   "id": "5403",
   "metadata": {
    "execution": {
     "iopub.execute_input": "2025-01-05T21:07:17.110979Z",
     "iopub.status.busy": "2025-01-05T21:07:17.110546Z"
    }
   },
   "outputs": [],
   "source": [
    "plot_individual_ts(pd.concat([original_train_df_imputed,test_sub_df]).reset_index(drop=True))"
   ]
  },
  {
   "cell_type": "markdown",
   "id": "788d",
   "metadata": {},
   "source": [
    "## Submission"
   ]
  },
  {
   "cell_type": "code",
   "execution_count": null,
   "id": "5b9f",
   "metadata": {
    "execution": {
     "iopub.execute_input": "2025-01-05T00:11:23.753914Z",
     "iopub.status.busy": "2025-01-05T00:11:23.753501Z",
     "iopub.status.idle": "2025-01-05T00:11:23.911409Z",
     "shell.execute_reply": "2025-01-05T00:11:23.910407Z",
     "shell.execute_reply.started": "2025-01-05T00:11:23.753884Z"
    }
   },
   "outputs": [],
   "source": [
    "submission = pd.read_csv(\"./input/playground-series-s5e1/sample_submission.csv\")\n",
    "submission[\"num_sold\"] = test_sub_df[\"num_sold\"]\n",
    "\n",
    "submission.to_csv('submission.csv', index = False)\n",
    "\n",
    "display(submission.head(2))"
   ]
  }
 ],
 "metadata": {
  "kaggle": {
   "accelerator": "none",
   "dataSources": [
    {
     "databundleVersionId": 10652996,
     "sourceId": 85723,
     "sourceType": "competition"
    },
    {
     "datasetId": 2007861,
     "sourceId": 3325325,
     "sourceType": "datasetVersion"
    }
   ],
   "dockerImageVersionId": 30822,
   "isGpuEnabled": false,
   "isInternetEnabled": true,
   "language": "python",
   "sourceType": "notebook"
  },
  "kernelspec": {
   "display_name": "Python 3",
   "language": "python",
   "name": "python3"
  },
  "language_info": {
   "codemirror_mode": {
    "name": "ipython",
    "version": 3
   },
   "file_extension": ".py",
   "mimetype": "text/x-python",
   "name": "python",
   "nbconvert_exporter": "python",
   "pygments_lexer": "ipython3",
   "version": "3.10.12"
  }
 },
 "nbformat": 4,
 "nbformat_minor": 4
}
