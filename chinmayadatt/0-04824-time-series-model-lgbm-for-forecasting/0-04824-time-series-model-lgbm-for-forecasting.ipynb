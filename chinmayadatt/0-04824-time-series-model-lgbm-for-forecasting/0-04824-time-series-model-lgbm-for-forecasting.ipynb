{
 "cells": [
  {
   "cell_type": "markdown",
   "id": "e111",
   "metadata": {},
   "source": [
    "*References* 1.: https://www.kaggle.com/code/act18l/linearregression-subtract-bias-makes-lb-0-054"
   ]
  },
  {
   "cell_type": "markdown",
   "id": "2680",
   "metadata": {},
   "source": [
    "2.:\n",
    "https://www.kaggle.com/code/cabaxiom/s5e1-eda-and-linear-regression-baseline/notebook"
   ]
  },
  {
   "cell_type": "markdown",
   "id": "bd84",
   "metadata": {},
   "source": [
    "3. lgbm model results\n",
    "\n",
    "https://www.kaggle.com/datasets/chinmayadatt/lgbm-model-results"
   ]
  },
  {
   "cell_type": "markdown",
   "id": "cf42",
   "metadata": {},
   "source": [
    "4. https://www.kaggle.com/code/vyacheslavbolotin/ps-s5e1-ensemble-of-solutions\n",
    "5. https://www.kaggle.com/code/zyh1104/sticker-sales-solution-ensembling"
   ]
  },
  {
   "cell_type": "markdown",
   "id": "405b",
   "metadata": {},
   "source": [
    "**Please upvote if you find this notebook useful.**"
   ]
  },
  {
   "cell_type": "code",
   "execution_count": null,
   "id": "1204",
   "metadata": {
    "execution": {
     "iopub.execute_input": "2025-01-31T07:31:59.408905Z",
     "iopub.status.busy": "2025-01-31T07:31:59.408365Z",
     "iopub.status.idle": "2025-01-31T07:31:59.415209Z",
     "shell.execute_reply": "2025-01-31T07:31:59.413956Z",
     "shell.execute_reply.started": "2025-01-31T07:31:59.408863Z"
    }
   },
   "outputs": [],
   "source": [
    "import numpy as np\n",
    "import pandas as pd\n",
    "import matplotlib.pyplot as plt\n",
    "import seaborn as sns\n",
    "\n",
    "from sklearn.linear_model import Ridge,Lasso\n",
    "\n",
    "sns.set_style('darkgrid')"
   ]
  },
  {
   "cell_type": "code",
   "execution_count": null,
   "id": "2c79",
   "metadata": {
    "execution": {
     "iopub.execute_input": "2025-01-31T07:31:59.417935Z",
     "iopub.status.busy": "2025-01-31T07:31:59.417569Z",
     "iopub.status.idle": "2025-01-31T07:31:59.743231Z",
     "shell.execute_reply": "2025-01-31T07:31:59.742002Z",
     "shell.execute_reply.started": "2025-01-31T07:31:59.4179Z"
    }
   },
   "outputs": [],
   "source": [
    "train_df = pd.read_csv(\"./input/playground-series-s5e1/train.csv\", parse_dates=[\"date\"])\n",
    "original_train_df = train_df.copy()\n",
    "test_df = pd.read_csv(\"./input/playground-series-s5e1/test.csv\", parse_dates=[\"date\"])"
   ]
  },
  {
   "cell_type": "code",
   "execution_count": null,
   "id": "d2fa",
   "metadata": {
    "execution": {
     "iopub.execute_input": "2025-01-31T07:31:59.745785Z",
     "iopub.status.busy": "2025-01-31T07:31:59.745073Z",
     "iopub.status.idle": "2025-01-31T07:31:59.80671Z",
     "shell.execute_reply": "2025-01-31T07:31:59.805268Z",
     "shell.execute_reply.started": "2025-01-31T07:31:59.745746Z"
    }
   },
   "outputs": [],
   "source": [
    "gdp_per_capita_df = pd.read_csv(\"./input/world-gdpgdp-gdp-per-capita-and-annual-growths/gdp_per_capita.csv\")\n",
    "\n",
    "years =  [\"2010\", \"2011\", \"2012\", \"2013\", \"2014\", \"2015\", \"2016\", \"2017\", \"2018\", \"2019\", \"2020\"]\n",
    "gdp_per_capita_filtered_df = gdp_per_capita_df.loc[gdp_per_capita_df[\"Country Name\"].isin(train_df[\"country\"].unique()), [\"Country Name\"] + years].set_index(\"Country Name\")\n",
    "gdp_per_capita_filtered_df[\"2010_ratio\"] = gdp_per_capita_filtered_df[\"2010\"] / gdp_per_capita_filtered_df.sum()[\"2010\"]\n",
    "for year in years:\n",
    "    gdp_per_capita_filtered_df[f\"{year}_ratio\"] = gdp_per_capita_filtered_df[year] / gdp_per_capita_filtered_df.sum()[year]\n",
    "gdp_per_capita_filtered_ratios_df = gdp_per_capita_filtered_df[[i+\"_ratio\" for i in years]]\n",
    "gdp_per_capita_filtered_ratios_df.columns = [int(i) for i in years]\n",
    "gdp_per_capita_filtered_ratios_df = gdp_per_capita_filtered_ratios_df.unstack().reset_index().rename(columns = {\"level_0\": \"year\", 0: \"ratio\", \"Country Name\": \"country\"})\n",
    "gdp_per_capita_filtered_ratios_df['year'] = pd.to_datetime(gdp_per_capita_filtered_ratios_df['year'], format='%Y')\n",
    "\n",
    "# For plotting purposes\n",
    "gdp_per_capita_filtered_ratios_df_2 = gdp_per_capita_filtered_ratios_df.copy()\n",
    "gdp_per_capita_filtered_ratios_df_2[\"year\"] = pd.to_datetime(gdp_per_capita_filtered_ratios_df_2['year'].astype(str)) + pd.offsets.YearEnd(1)\n",
    "gdp_per_capita_filtered_ratios_df = pd.concat([gdp_per_capita_filtered_ratios_df, gdp_per_capita_filtered_ratios_df_2]).reset_index()"
   ]
  },
  {
   "cell_type": "code",
   "execution_count": null,
   "id": "2f63",
   "metadata": {
    "execution": {
     "iopub.execute_input": "2025-01-31T07:31:59.808479Z",
     "iopub.status.busy": "2025-01-31T07:31:59.80812Z",
     "iopub.status.idle": "2025-01-31T07:31:59.814545Z",
     "shell.execute_reply": "2025-01-31T07:31:59.813459Z",
     "shell.execute_reply.started": "2025-01-31T07:31:59.80842Z"
    }
   },
   "outputs": [],
   "source": [
    "gdp_per_capita_filtered_ratios_df_2[\"year\"] = gdp_per_capita_filtered_ratios_df_2[\"year\"].dt.year"
   ]
  },
  {
   "cell_type": "code",
   "execution_count": null,
   "id": "7f0c",
   "metadata": {
    "execution": {
     "iopub.execute_input": "2025-01-31T07:31:59.818189Z",
     "iopub.status.busy": "2025-01-31T07:31:59.817326Z",
     "iopub.status.idle": "2025-01-31T07:32:06.670192Z",
     "shell.execute_reply": "2025-01-31T07:32:06.669103Z",
     "shell.execute_reply.started": "2025-01-31T07:31:59.818142Z"
    }
   },
   "outputs": [],
   "source": [
    "train_df_imputed = train_df.copy()\n",
    "missing_value_ids = train_df.loc[train_df[\"num_sold\"].isna(), \"id\"].values\n",
    "print(f\"Missing values remaining: {train_df_imputed['num_sold'].isna().sum()}\")\n",
    "\n",
    "train_df_imputed[\"year\"] = train_df_imputed[\"date\"].dt.year\n",
    "for year in train_df_imputed[\"year\"].unique():\n",
    "    # Impute Time Series 1 (Canada, Discount Stickers, Holographic Goose)\n",
    "    target_ratio = gdp_per_capita_filtered_ratios_df_2.loc[(gdp_per_capita_filtered_ratios_df_2[\"year\"] == year) & (gdp_per_capita_filtered_ratios_df_2[\"country\"] == \"Norway\"), \"ratio\"].values[0] # Using Norway as should have the best precision\n",
    "    current_raito = gdp_per_capita_filtered_ratios_df_2.loc[(gdp_per_capita_filtered_ratios_df_2[\"year\"] == year) & (gdp_per_capita_filtered_ratios_df_2[\"country\"] == \"Canada\"), \"ratio\"].values[0]\n",
    "    ratio_can = current_raito / target_ratio\n",
    "    train_df_imputed.loc[(train_df_imputed[\"country\"] == \"Canada\") & (train_df_imputed[\"store\"] == \"Discount Stickers\") & (train_df_imputed[\"product\"] == \"Holographic Goose\") & (train_df_imputed[\"year\"] == year), \"num_sold\"] = (train_df_imputed.loc[(train_df_imputed[\"country\"] == \"Norway\") & (train_df_imputed[\"store\"] == \"Discount Stickers\") & (train_df_imputed[\"product\"] == \"Holographic Goose\") & (train_df_imputed[\"year\"] == year), \"num_sold\"] * ratio_can).values\n",
    "    \n",
    "    # Impute Time Series 2 (Only Missing Values)\n",
    "    current_ts =  train_df_imputed.loc[(train_df_imputed[\"country\"] == \"Canada\") & (train_df_imputed[\"store\"] == \"Premium Sticker Mart\") & (train_df_imputed[\"product\"] == \"Holographic Goose\") & (train_df_imputed[\"year\"] == year)]\n",
    "    missing_ts_dates = current_ts.loc[current_ts[\"num_sold\"].isna(), \"date\"]\n",
    "    train_df_imputed.loc[(train_df_imputed[\"country\"] == \"Canada\") & (train_df_imputed[\"store\"] == \"Premium Sticker Mart\") & (train_df_imputed[\"product\"] == \"Holographic Goose\") & (train_df_imputed[\"year\"] == year) & (train_df_imputed[\"date\"].isin(missing_ts_dates)), \"num_sold\"] = (train_df_imputed.loc[(train_df_imputed[\"country\"] == \"Norway\") & (train_df_imputed[\"store\"] == \"Premium Sticker Mart\") & (train_df_imputed[\"product\"] == \"Holographic Goose\") & (train_df_imputed[\"year\"] == year) & (train_df_imputed[\"date\"].isin(missing_ts_dates)), \"num_sold\"] * ratio_can).values\n",
    "\n",
    "    # Impute Time Series 3 (Only Missing Values)\n",
    "    current_ts =  train_df_imputed.loc[(train_df_imputed[\"country\"] == \"Canada\") & (train_df_imputed[\"store\"] == \"Stickers for Less\") & (train_df_imputed[\"product\"] == \"Holographic Goose\") & (train_df_imputed[\"year\"] == year)]\n",
    "    missing_ts_dates = current_ts.loc[current_ts[\"num_sold\"].isna(), \"date\"]\n",
    "    train_df_imputed.loc[(train_df_imputed[\"country\"] == \"Canada\") & (train_df_imputed[\"store\"] == \"Stickers for Less\") & (train_df_imputed[\"product\"] == \"Holographic Goose\") & (train_df_imputed[\"year\"] == year) & (train_df_imputed[\"date\"].isin(missing_ts_dates)), \"num_sold\"] = (train_df_imputed.loc[(train_df_imputed[\"country\"] == \"Norway\") & (train_df_imputed[\"store\"] == \"Stickers for Less\") & (train_df_imputed[\"product\"] == \"Holographic Goose\") & (train_df_imputed[\"year\"] == year) & (train_df_imputed[\"date\"].isin(missing_ts_dates)), \"num_sold\"] * ratio_can).values\n",
    "    \n",
    "    # Impute Time Series 4 (Kenya, Discount Stickers, Holographic Goose)\n",
    "    current_raito = gdp_per_capita_filtered_ratios_df_2.loc[(gdp_per_capita_filtered_ratios_df_2[\"year\"] == year) & (gdp_per_capita_filtered_ratios_df_2[\"country\"] == \"Kenya\"), \"ratio\"].values[0]\n",
    "    ratio_ken = current_raito / target_ratio\n",
    "    train_df_imputed.loc[(train_df_imputed[\"country\"] == \"Kenya\") & (train_df_imputed[\"store\"] == \"Discount Stickers\") & (train_df_imputed[\"product\"] == \"Holographic Goose\") & (train_df_imputed[\"year\"] == year), \"num_sold\"] = (train_df_imputed.loc[(train_df_imputed[\"country\"] == \"Norway\") & (train_df_imputed[\"store\"] == \"Discount Stickers\") & (train_df_imputed[\"product\"] == \"Holographic Goose\")& (train_df_imputed[\"year\"] == year), \"num_sold\"] * ratio_ken).values\n",
    "\n",
    "    # Impute Time Series 5 (Only Missing Values)\n",
    "    current_ts = train_df_imputed.loc[(train_df_imputed[\"country\"] == \"Kenya\") & (train_df_imputed[\"store\"] == \"Premium Sticker Mart\") & (train_df_imputed[\"product\"] == \"Holographic Goose\") & (train_df_imputed[\"year\"] == year)]\n",
    "    missing_ts_dates = current_ts.loc[current_ts[\"num_sold\"].isna(), \"date\"]\n",
    "    train_df_imputed.loc[(train_df_imputed[\"country\"] == \"Kenya\") & (train_df_imputed[\"store\"] == \"Premium Sticker Mart\") & (train_df_imputed[\"product\"] == \"Holographic Goose\") & (train_df_imputed[\"year\"] == year) & (train_df_imputed[\"date\"].isin(missing_ts_dates)), \"num_sold\"] = (train_df_imputed.loc[(train_df_imputed[\"country\"] == \"Norway\") & (train_df_imputed[\"store\"] == \"Premium Sticker Mart\") & (train_df_imputed[\"product\"] == \"Holographic Goose\") & (train_df_imputed[\"year\"] == year) & (train_df_imputed[\"date\"].isin(missing_ts_dates)), \"num_sold\"] * ratio_ken).values\n",
    "\n",
    "    # Impute Time Series 6 (Only Missing Values)\n",
    "    current_ts = train_df_imputed.loc[(train_df_imputed[\"country\"] == \"Kenya\") & (train_df_imputed[\"store\"] == \"Stickers for Less\") & (train_df_imputed[\"product\"] == \"Holographic Goose\") & (train_df_imputed[\"year\"] == year)]\n",
    "    missing_ts_dates = current_ts.loc[current_ts[\"num_sold\"].isna(), \"date\"]\n",
    "    train_df_imputed.loc[(train_df_imputed[\"country\"] == \"Kenya\") & (train_df_imputed[\"store\"] == \"Stickers for Less\") & (train_df_imputed[\"product\"] == \"Holographic Goose\") & (train_df_imputed[\"year\"] == year) & (train_df_imputed[\"date\"].isin(missing_ts_dates)), \"num_sold\"] = (train_df_imputed.loc[(train_df_imputed[\"country\"] == \"Norway\") & (train_df_imputed[\"store\"] == \"Stickers for Less\") & (train_df_imputed[\"product\"] == \"Holographic Goose\") & (train_df_imputed[\"year\"] == year) & (train_df_imputed[\"date\"].isin(missing_ts_dates)), \"num_sold\"] * ratio_ken).values\n",
    "\n",
    "    # Impute Time Series 7 (Only Missing Values)\n",
    "    current_ts = train_df_imputed.loc[(train_df_imputed[\"country\"] == \"Kenya\") & (train_df_imputed[\"store\"] == \"Discount Stickers\") & (train_df_imputed[\"product\"] == \"Kerneler\") & (train_df_imputed[\"year\"] == year)]\n",
    "    missing_ts_dates = current_ts.loc[current_ts[\"num_sold\"].isna(), \"date\"]\n",
    "    train_df_imputed.loc[(train_df_imputed[\"country\"] == \"Kenya\") & (train_df_imputed[\"store\"] == \"Discount Stickers\") & (train_df_imputed[\"product\"] == \"Kerneler\") & (train_df_imputed[\"year\"] == year) & (train_df_imputed[\"date\"].isin(missing_ts_dates)), \"num_sold\"] = (train_df_imputed.loc[(train_df_imputed[\"country\"] == \"Norway\") & (train_df_imputed[\"store\"] == \"Discount Stickers\") & (train_df_imputed[\"product\"] == \"Kerneler\") & (train_df_imputed[\"year\"] == year) & (train_df_imputed[\"date\"].isin(missing_ts_dates)), \"num_sold\"] * ratio_ken).values\n",
    "    \n",
    "print(f\"Missing values remaining: {train_df_imputed['num_sold'].isna().sum()}\")"
   ]
  },
  {
   "cell_type": "code",
   "execution_count": null,
   "id": "6053",
   "metadata": {
    "execution": {
     "iopub.execute_input": "2025-01-31T07:32:06.671821Z",
     "iopub.status.busy": "2025-01-31T07:32:06.671526Z",
     "iopub.status.idle": "2025-01-31T07:32:06.694494Z",
     "shell.execute_reply": "2025-01-31T07:32:06.693211Z",
     "shell.execute_reply.started": "2025-01-31T07:32:06.671795Z"
    }
   },
   "outputs": [],
   "source": [
    "missing_rows = train_df_imputed.loc[train_df_imputed[\"num_sold\"].isna()]\n",
    "display(missing_rows)\n",
    "train_df_imputed.loc[train_df_imputed[\"id\"] == 23719, \"num_sold\"] = 4\n",
    "train_df_imputed.loc[train_df_imputed[\"id\"] == 207003, \"num_sold\"] = 195\n",
    "\n",
    "print(f\"Missing values remaining: {train_df_imputed['num_sold'].isna().sum()}\")"
   ]
  },
  {
   "cell_type": "code",
   "execution_count": null,
   "id": "3ee9",
   "metadata": {
    "execution": {
     "iopub.execute_input": "2025-01-31T07:32:06.696504Z",
     "iopub.status.busy": "2025-01-31T07:32:06.696135Z",
     "iopub.status.idle": "2025-01-31T07:32:06.725703Z",
     "shell.execute_reply": "2025-01-31T07:32:06.724473Z",
     "shell.execute_reply.started": "2025-01-31T07:32:06.696467Z"
    }
   },
   "outputs": [],
   "source": [
    "store_weights = train_df_imputed.groupby(\"store\")[\"num_sold\"].sum()/train_df_imputed[\"num_sold\"].sum()\n",
    "store_weights"
   ]
  },
  {
   "cell_type": "code",
   "execution_count": null,
   "id": "534c",
   "metadata": {
    "execution": {
     "iopub.execute_input": "2025-01-31T07:32:06.727309Z",
     "iopub.status.busy": "2025-01-31T07:32:06.726954Z",
     "iopub.status.idle": "2025-01-31T07:32:07.308659Z",
     "shell.execute_reply": "2025-01-31T07:32:07.307488Z",
     "shell.execute_reply.started": "2025-01-31T07:32:06.727275Z"
    }
   },
   "outputs": [],
   "source": [
    "product_df = train_df_imputed.groupby([\"date\",\"product\"])[\"num_sold\"].sum().reset_index()\n",
    "product_ratio_df = product_df.pivot(index=\"date\", columns=\"product\", values=\"num_sold\")\n",
    "product_ratio_df = product_ratio_df.apply(lambda x: x/x.sum(),axis=1)\n",
    "product_ratio_df = product_ratio_df.stack().rename(\"ratios\").reset_index()\n",
    "product_ratio_df.head(4)"
   ]
  },
  {
   "cell_type": "code",
   "execution_count": null,
   "id": "0880",
   "metadata": {
    "execution": {
     "iopub.execute_input": "2025-01-31T07:32:07.310563Z",
     "iopub.status.busy": "2025-01-31T07:32:07.31011Z",
     "iopub.status.idle": "2025-01-31T07:32:07.331006Z",
     "shell.execute_reply": "2025-01-31T07:32:07.329872Z",
     "shell.execute_reply.started": "2025-01-31T07:32:07.310519Z"
    }
   },
   "outputs": [],
   "source": [
    "original_train_df_imputed = train_df_imputed.copy()\n",
    "train_df_imputed = train_df_imputed.groupby([\"date\"])[\"num_sold\"].sum().reset_index()"
   ]
  },
  {
   "cell_type": "code",
   "execution_count": null,
   "id": "5e88",
   "metadata": {
    "execution": {
     "iopub.execute_input": "2025-01-31T07:32:07.33248Z",
     "iopub.status.busy": "2025-01-31T07:32:07.332164Z",
     "iopub.status.idle": "2025-01-31T07:32:07.35172Z",
     "shell.execute_reply": "2025-01-31T07:32:07.350734Z",
     "shell.execute_reply.started": "2025-01-31T07:32:07.33242Z"
    }
   },
   "outputs": [],
   "source": [
    "train_df_imputed[\"day_of_week\"] = train_df_imputed[\"date\"].dt.dayofweek\n",
    "day_of_week_ratio = (train_df_imputed.groupby(\"day_of_week\")[\"num_sold\"].mean() / train_df_imputed.groupby(\"day_of_week\")[\"num_sold\"].mean().mean()).rename(\"day_of_week_ratios\")\n",
    "display(day_of_week_ratio)\n",
    "train_df_imputed = pd.merge(train_df_imputed, day_of_week_ratio, how=\"left\", on=\"day_of_week\")\n",
    "train_df_imputed[\"num_sold\"] = train_df_imputed[\"num_sold\"] / train_df_imputed[\"day_of_week_ratios\"]\n",
    "train_df_imputed = train_df_imputed.drop(\"day_of_week_ratios\",axis=1)# we don't need it in training."
   ]
  },
  {
   "cell_type": "code",
   "execution_count": null,
   "id": "4f2e",
   "metadata": {
    "execution": {
     "iopub.execute_input": "2025-01-31T07:32:07.35331Z",
     "iopub.status.busy": "2025-01-31T07:32:07.353Z",
     "iopub.status.idle": "2025-01-31T07:32:07.365411Z",
     "shell.execute_reply": "2025-01-31T07:32:07.364135Z",
     "shell.execute_reply.started": "2025-01-31T07:32:07.353281Z"
    }
   },
   "outputs": [],
   "source": [
    "test_total_sales_df = test_df.groupby([\"date\"])[\"id\"].first().reset_index().drop(columns=\"id\")\n",
    "test_total_sales_dates = test_total_sales_df[[\"date\"]]"
   ]
  },
  {
   "cell_type": "code",
   "execution_count": null,
   "id": "e16b",
   "metadata": {
    "execution": {
     "iopub.execute_input": "2025-01-31T07:32:07.367659Z",
     "iopub.status.busy": "2025-01-31T07:32:07.367311Z",
     "iopub.status.idle": "2025-01-31T07:32:07.384125Z",
     "shell.execute_reply": "2025-01-31T07:32:07.382894Z",
     "shell.execute_reply.started": "2025-01-31T07:32:07.367627Z"
    }
   },
   "outputs": [],
   "source": [
    "def feature_engineer(df):\n",
    "    new_df = df.copy()\n",
    "    new_df[\"month\"] = df[\"date\"].dt.month\n",
    "    new_df[\"month_sin\"] = np.sin(new_df['month'] * (2 * np.pi / 12))\n",
    "    new_df[\"month_cos\"] = np.cos(new_df['month'] * (2 * np.pi / 12))\n",
    "    new_df[\"day_of_week\"] = df[\"date\"].dt.dayofweek\n",
    "    new_df[\"day_of_week\"] = new_df[\"day_of_week\"].apply(lambda x: 0 if x<=3 else(1 if x==4 else (2 if x==5 else (3))))    \n",
    "    new_df[\"day_of_year\"] = df['date'].apply(\n",
    "        lambda x: x.timetuple().tm_yday if not (x.is_leap_year and x.month > 2) else x.timetuple().tm_yday - 1\n",
    "    )\n",
    "\n",
    "    new_df['day_sin4'] = np.sin(new_df['day_of_year'] * (8 * np.pi /  365.0))\n",
    "    new_df['day_cos4'] = np.cos(new_df['day_of_year'] * (8 * np.pi /  365.0))\n",
    "    new_df['day_sin3.5'] = np.sin(new_df['day_of_year'] * (7 * np.pi /  365.0))\n",
    "    new_df['day_cos3.5'] = np.cos(new_df['day_of_year'] * (7 * np.pi /  365.0))\n",
    "    new_df['day_sin3'] = np.sin(new_df['day_of_year'] * (6 * np.pi /  365.0))\n",
    "    new_df['day_cos3'] = np.cos(new_df['day_of_year'] * (6 * np.pi /  365.0))\n",
    "    new_df['day_sin2'] = np.sin(new_df['day_of_year'] * (4 * np.pi /  365.0))\n",
    "    new_df['day_cos2'] = np.cos(new_df['day_of_year'] * (4 * np.pi /  365.0))\n",
    "    new_df['day_sin'] = np.sin(new_df['day_of_year'] * (2 * np.pi /  365.0))\n",
    "    new_df['day_cos'] = np.cos(new_df['day_of_year'] * (2 * np.pi /  365.0)) \n",
    "    new_df['day_sin_0.5'] = np.sin(new_df['day_of_year'] * (1 * np.pi /  365.0))\n",
    "    new_df['day_cos_0.5'] = np.cos(new_df['day_of_year'] * (1 * np.pi /  365.0))   \n",
    "    new_df['day_sin_0.25'] = np.sin(new_df['day_of_year'] * (1/2 * np.pi /  365.0))\n",
    "    new_df['day_cos_0.25'] = np.cos(new_df['day_of_year'] * (1/2 * np.pi /  365.0))   \n",
    "    new_df[\"important_dates\"] = new_df[\"day_of_year\"].apply(lambda x: x if x in [1,2,3,4,5,6,7,8,9,10,99, 100, 101, 125,126,355,256,357,358,359,360,361,362,363,364,365] else 0)\n",
    "    \n",
    "    new_df = new_df.drop(columns=[\"date\",\"month\",\"day_of_year\"])\n",
    "    new_df = pd.get_dummies(new_df, columns = [\"important_dates\",\"day_of_week\"], drop_first=True)\n",
    "    \n",
    "    return new_df"
   ]
  },
  {
   "cell_type": "code",
   "execution_count": null,
   "id": "88c1",
   "metadata": {
    "execution": {
     "iopub.execute_input": "2025-01-31T07:32:07.388642Z",
     "iopub.status.busy": "2025-01-31T07:32:07.388209Z",
     "iopub.status.idle": "2025-01-31T07:32:07.455334Z",
     "shell.execute_reply": "2025-01-31T07:32:07.454237Z",
     "shell.execute_reply.started": "2025-01-31T07:32:07.388606Z"
    }
   },
   "outputs": [],
   "source": [
    "train_total_sales_df = feature_engineer(train_df_imputed)\n",
    "test_total_sales_df = feature_engineer(test_total_sales_df)"
   ]
  },
  {
   "cell_type": "code",
   "execution_count": null,
   "id": "fb78",
   "metadata": {
    "execution": {
     "iopub.execute_input": "2025-01-31T07:32:07.456919Z",
     "iopub.status.busy": "2025-01-31T07:32:07.456612Z",
     "iopub.status.idle": "2025-01-31T07:32:07.716402Z",
     "shell.execute_reply": "2025-01-31T07:32:07.715547Z",
     "shell.execute_reply.started": "2025-01-31T07:32:07.456891Z"
    }
   },
   "outputs": [],
   "source": [
    "import holidays\n",
    "train_df_tmp = train_df.copy()\n",
    "test_df_tmp = test_df.copy()\n",
    "alpha2 = dict(zip(np.sort(train_df.country.unique()), ['CA', 'FI', 'IT', 'KE', 'NO', 'SG']))\n",
    "h = {c: holidays.country_holidays(a, years=range(2010, 2020)) for c, a in alpha2.items()}\n",
    "train_df_tmp['is_holiday'] = 0\n",
    "test_df_tmp['is_holiday'] = 0\n",
    "for c in alpha2:\n",
    "    train_df_tmp.loc[train_df_tmp.country==c, 'is_holiday'] = train_df_tmp.date.isin(h[c]).astype(int)\n",
    "    test_df_tmp.loc[test_df_tmp.country==c, 'is_holiday'] = test_df_tmp.date.isin(h[c]).astype(int)\n",
    "\n",
    "\n",
    "train_total_sales_df['is_holiday'] = (train_df_tmp.groupby([\"date\"])[\"is_holiday\"].sum().reset_index())[\"is_holiday\"]\n",
    "test_total_sales_df['is_holiday'] = (test_df_tmp.groupby([\"date\"])[\"is_holiday\"].sum().reset_index())[\"is_holiday\"]"
   ]
  },
  {
   "cell_type": "code",
   "execution_count": null,
   "id": "a9c8",
   "metadata": {
    "execution": {
     "iopub.execute_input": "2025-01-31T07:32:07.717987Z",
     "iopub.status.busy": "2025-01-31T07:32:07.717654Z",
     "iopub.status.idle": "2025-01-31T07:32:07.724976Z",
     "shell.execute_reply": "2025-01-31T07:32:07.723965Z",
     "shell.execute_reply.started": "2025-01-31T07:32:07.717958Z"
    }
   },
   "outputs": [],
   "source": [
    "y = train_total_sales_df[\"num_sold\"]\n",
    "X = train_total_sales_df.drop(columns=\"num_sold\")\n",
    "X_test = test_total_sales_df"
   ]
  },
  {
   "cell_type": "code",
   "execution_count": null,
   "id": "6a61",
   "metadata": {
    "execution": {
     "iopub.execute_input": "2025-01-31T07:32:07.726462Z",
     "iopub.status.busy": "2025-01-31T07:32:07.726144Z",
     "iopub.status.idle": "2025-01-31T07:32:07.760395Z",
     "shell.execute_reply": "2025-01-31T07:32:07.759352Z",
     "shell.execute_reply.started": "2025-01-31T07:32:07.726407Z"
    }
   },
   "outputs": [],
   "source": [
    "X"
   ]
  },
  {
   "cell_type": "code",
   "execution_count": null,
   "id": "4ac4",
   "metadata": {
    "execution": {
     "iopub.execute_input": "2025-01-31T07:32:07.762344Z",
     "iopub.status.busy": "2025-01-31T07:32:07.761927Z",
     "iopub.status.idle": "2025-01-31T07:32:07.815478Z",
     "shell.execute_reply": "2025-01-31T07:32:07.813173Z",
     "shell.execute_reply.started": "2025-01-31T07:32:07.7623Z"
    }
   },
   "outputs": [],
   "source": [
    "from sklearn.metrics import mean_absolute_percentage_error\n",
    "model = Lasso(tol=1e-2, max_iter=1000000, random_state=0)\n",
    "model.fit(X, y)\n",
    "preds = model.predict(X_test)\n",
    "test_total_sales_dates[\"num_sold\"] = preds\n",
    "mean_absolute_percentage_error(y,model.predict(X))\n"
   ]
  },
  {
   "cell_type": "code",
   "execution_count": null,
   "id": "c93e",
   "metadata": {
    "execution": {
     "iopub.execute_input": "2025-01-31T07:32:07.817236Z",
     "iopub.status.busy": "2025-01-31T07:32:07.816798Z",
     "iopub.status.idle": "2025-01-31T07:32:07.833676Z",
     "shell.execute_reply": "2025-01-31T07:32:07.831489Z",
     "shell.execute_reply.started": "2025-01-31T07:32:07.817195Z"
    }
   },
   "outputs": [],
   "source": [
    "def magic_function(X):\n",
    "    y = X.important_dates_1*14514.153142903406+X.important_dates_6+X.important_dates_99-X.important_dates_359+X.important_dates_363*23245.947607750375+64795.970182750174\\\n",
    "    -((X.important_dates_362+np.sqrt(X.important_dates_364+X.important_dates_365))*((X.important_dates_2-X.important_dates_10)*(X.important_dates_101+X.month_sin)+X.important_dates_362-19142.637752625015))\n",
    "    return y"
   ]
  },
  {
   "cell_type": "code",
   "execution_count": null,
   "id": "4579",
   "metadata": {
    "execution": {
     "iopub.execute_input": "2025-01-31T07:32:07.836064Z",
     "iopub.status.busy": "2025-01-31T07:32:07.835635Z",
     "iopub.status.idle": "2025-01-31T07:32:07.879061Z",
     "shell.execute_reply": "2025-01-31T07:32:07.876707Z",
     "shell.execute_reply.started": "2025-01-31T07:32:07.836021Z"
    }
   },
   "outputs": [],
   "source": [
    "preds = magic_function(X_test)\n",
    "test_total_sales_dates[\"num_sold\"] = preds\n",
    "mean_absolute_percentage_error(y,magic_function(X))"
   ]
  },
  {
   "cell_type": "code",
   "execution_count": null,
   "id": "b53c",
   "metadata": {
    "execution": {
     "iopub.execute_input": "2025-01-31T07:32:07.881509Z",
     "iopub.status.busy": "2025-01-31T07:32:07.881046Z",
     "iopub.status.idle": "2025-01-31T07:32:07.92679Z",
     "shell.execute_reply": "2025-01-31T07:32:07.925761Z",
     "shell.execute_reply.started": "2025-01-31T07:32:07.881465Z"
    }
   },
   "outputs": [],
   "source": [
    "product_ratio_2017_df = product_ratio_df.loc[product_ratio_df[\"date\"].dt.year == 2015].copy()\n",
    "product_ratio_2018_df = product_ratio_df.loc[product_ratio_df[\"date\"].dt.year == 2016].copy()\n",
    "product_ratio_2019_df = product_ratio_df.loc[product_ratio_df[\"date\"].dt.year == 2015].copy()\n",
    "\n",
    "product_ratio_2017_df[\"date\"] = product_ratio_2017_df[\"date\"] + pd.DateOffset(years=2)\n",
    "product_ratio_2018_df[\"date\"] = product_ratio_2018_df[\"date\"] + pd.DateOffset(years=2)\n",
    "product_ratio_2019_df[\"date\"] =  product_ratio_2019_df[\"date\"] + pd.DateOffset(years=4)\n",
    "\n",
    "forecasted_ratios_df = pd.concat([product_ratio_2017_df, product_ratio_2018_df, product_ratio_2019_df])"
   ]
  },
  {
   "cell_type": "code",
   "execution_count": null,
   "id": "eea1",
   "metadata": {
    "execution": {
     "iopub.execute_input": "2025-01-31T07:32:07.928888Z",
     "iopub.status.busy": "2025-01-31T07:32:07.928365Z",
     "iopub.status.idle": "2025-01-31T07:32:08.095052Z",
     "shell.execute_reply": "2025-01-31T07:32:08.093932Z",
     "shell.execute_reply.started": "2025-01-31T07:32:07.928851Z"
    }
   },
   "outputs": [],
   "source": [
    "store_weights_df = store_weights.reset_index()\n",
    "test_sub_df = pd.merge(test_df, test_total_sales_dates, how=\"left\", on=\"date\")\n",
    "test_sub_df = test_sub_df.rename(columns = {\"num_sold\":\"day_num_sold\"})\n",
    "# Adding in the product ratios\n",
    "test_sub_df = pd.merge(test_sub_df, store_weights_df, how=\"left\", on=\"store\")\n",
    "test_sub_df = test_sub_df.rename(columns = {\"num_sold\":\"store_ratio\"})\n",
    "# Adding in the country ratios\n",
    "test_sub_df[\"year\"] = test_sub_df[\"date\"].dt.year\n",
    "test_sub_df = pd.merge(test_sub_df, gdp_per_capita_filtered_ratios_df_2, how=\"left\", on=[\"year\", \"country\"])\n",
    "test_sub_df = test_sub_df.rename(columns = {\"ratio\":\"country_ratio\"})\n",
    "# Adding in the product ratio\n",
    "test_sub_df = pd.merge(test_sub_df, forecasted_ratios_df, how=\"left\", on=[\"date\", \"product\"])\n",
    "test_sub_df = test_sub_df.rename(columns = {\"ratios\":\"product_ratio\"})\n",
    "\n",
    "# Adding in the week ratio\n",
    "test_sub_df[\"day_of_week\"] = test_sub_df[\"date\"].dt.dayofweek\n",
    "test_sub_df = pd.merge(test_sub_df, day_of_week_ratio.reset_index(), how=\"left\", on=\"day_of_week\")\n",
    "\n",
    "\n",
    "# Disaggregating the forecast\n",
    "test_sub_df.loc[test_sub_df['country'] == 'Kenya', 'country_ratio'] -= 0.0007/2\n",
    "\n",
    "test_sub_df[\"num_sold\"] = test_sub_df[\"day_num_sold\"] *test_sub_df[\"day_of_week_ratios\"]* test_sub_df[\"store_ratio\"] * test_sub_df[\"country_ratio\"] * test_sub_df[\"product_ratio\"]\n",
    "test_sub_df[\"num_sold\"] = test_sub_df[\"num_sold\"].round()\n",
    "display(test_sub_df.head(2))"
   ]
  },
  {
   "cell_type": "markdown",
   "id": "d93d",
   "metadata": {},
   "source": [
    "# Ensemble"
   ]
  },
  {
   "cell_type": "code",
   "execution_count": null,
   "id": "39e5",
   "metadata": {
    "execution": {
     "iopub.execute_input": "2025-01-31T07:32:08.097816Z",
     "iopub.status.busy": "2025-01-31T07:32:08.096561Z",
     "iopub.status.idle": "2025-01-31T07:32:08.156474Z",
     "shell.execute_reply": "2025-01-31T07:32:08.155637Z",
     "shell.execute_reply.started": "2025-01-31T07:32:08.097755Z"
    }
   },
   "outputs": [],
   "source": [
    "submission = pd.read_csv(\"./input/playground-series-s5e1/sample_submission.csv\")\n",
    "\n",
    "#blend with lgbm model results\n",
    "lgbm_results=pd.read_csv(\"./input/lgbm-model-results/lgbm_model_results.csv\")\n",
    "\n",
    "submission[\"num_sold\"] = 0.40 * lgbm_results['num_sold'] + 0.60  * test_sub_df[\"num_sold\"]\n",
    "#submission[\"num_sold\"] = submission[\"num_sold\"] + 0.5\n",
    "#submission[\"num_sold\"] = submission[\"num_sold\"].astype(int)"
   ]
  },
  {
   "cell_type": "code",
   "execution_count": null,
   "id": "63be",
   "metadata": {
    "execution": {
     "iopub.execute_input": "2025-01-31T07:32:08.15819Z",
     "iopub.status.busy": "2025-01-31T07:32:08.157865Z",
     "iopub.status.idle": "2025-01-31T07:32:08.188907Z",
     "shell.execute_reply": "2025-01-31T07:32:08.187767Z",
     "shell.execute_reply.started": "2025-01-31T07:32:08.158161Z"
    }
   },
   "outputs": [],
   "source": [
    "#blend with other ensembles\n",
    "sub = pd.read_csv(\"./input/sticker-sales-solution-ensembling/submission.csv\")\n",
    "submission[\"num_sold\"] = 0.20 * submission[\"num_sold\"] + 0.80  * sub[\"num_sold\"]\n",
    "submission[\"num_sold\"] = submission[\"num_sold\"] + 0.5\n",
    "submission[\"num_sold\"] = submission[\"num_sold\"].astype(int)"
   ]
  },
  {
   "cell_type": "markdown",
   "id": "a1a0",
   "metadata": {},
   "source": [
    "# Submission"
   ]
  },
  {
   "cell_type": "code",
   "execution_count": null,
   "id": "fa5c",
   "metadata": {
    "execution": {
     "iopub.execute_input": "2025-01-31T07:32:08.190865Z",
     "iopub.status.busy": "2025-01-31T07:32:08.190383Z",
     "iopub.status.idle": "2025-01-31T07:32:08.201154Z",
     "shell.execute_reply": "2025-01-31T07:32:08.199996Z",
     "shell.execute_reply.started": "2025-01-31T07:32:08.190821Z"
    }
   },
   "outputs": [],
   "source": [
    "display(submission.head(10))"
   ]
  },
  {
   "cell_type": "code",
   "execution_count": null,
   "id": "97b0",
   "metadata": {
    "execution": {
     "iopub.execute_input": "2025-01-31T07:32:08.203205Z",
     "iopub.status.busy": "2025-01-31T07:32:08.202758Z",
     "iopub.status.idle": "2025-01-31T07:32:08.318061Z",
     "shell.execute_reply": "2025-01-31T07:32:08.317149Z",
     "shell.execute_reply.started": "2025-01-31T07:32:08.20316Z"
    }
   },
   "outputs": [],
   "source": [
    "submission.to_csv('submission.csv', index = False)"
   ]
  },
  {
   "cell_type": "markdown",
   "id": "44d2",
   "metadata": {},
   "source": [
    "**Please upvote if you find this notebook useful.**"
   ]
  }
 ],
 "metadata": {
  "kaggle": {
   "accelerator": "none",
   "dataSources": [
    {
     "databundleVersionId": 10652996,
     "sourceId": 85723,
     "sourceType": "competition"
    },
    {
     "datasetId": 2007861,
     "sourceId": 3325325,
     "sourceType": "datasetVersion"
    },
    {
     "datasetId": 6488144,
     "sourceId": 10478212,
     "sourceType": "datasetVersion"
    },
    {
     "sourceId": 220032592,
     "sourceType": "kernelVersion"
    },
    {
     "sourceId": 220034822,
     "sourceType": "kernelVersion"
    }
   ],
   "dockerImageVersionId": 30235,
   "isGpuEnabled": false,
   "isInternetEnabled": true,
   "language": "python",
   "sourceType": "notebook"
  },
  "kernelspec": {
   "display_name": "Python 3",
   "language": "python",
   "name": "python3"
  },
  "language_info": {
   "codemirror_mode": {
    "name": "ipython",
    "version": 3
   },
   "file_extension": ".py",
   "mimetype": "text/x-python",
   "name": "python",
   "nbconvert_exporter": "python",
   "pygments_lexer": "ipython3",
   "version": "3.7.12"
  }
 },
 "nbformat": 4,
 "nbformat_minor": 4
}
