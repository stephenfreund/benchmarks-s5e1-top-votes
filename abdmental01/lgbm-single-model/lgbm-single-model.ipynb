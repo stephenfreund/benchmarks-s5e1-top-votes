{
 "cells": [
  {
   "cell_type": "markdown",
   "id": "86cf",
   "metadata": {},
   "source": [
    "# <p style=\"background-color:black; font-family:'Pacifico', cursive; color:yellow; font-size:140%; text-align:center; border: 2px solid black; border-radius:15px; padding: 10px; box-shadow: 5px 5px 20px rgba(0, 0, 0, 0.5); font-weight: bold; letter-spacing: 1px;\">LGBM || Forecasting Sticker Sales</p>"
   ]
  },
  {
   "cell_type": "code",
   "execution_count": null,
   "id": "2df0",
   "metadata": {
    "_cell_guid": "b1076dfc-b9ad-4769-8c92-a6c4dae69d19",
    "_uuid": "8f2839f25d086af736a60e9eeb907d3b93b6e0e5",
    "execution": {
     "iopub.execute_input": "2025-01-08T18:31:16.155121Z",
     "iopub.status.busy": "2025-01-08T18:31:16.154617Z",
     "iopub.status.idle": "2025-01-08T18:31:30.543464Z",
     "shell.execute_reply": "2025-01-08T18:31:30.542261Z",
     "shell.execute_reply.started": "2025-01-08T18:31:16.15508Z"
    }
   },
   "outputs": [],
   "source": [
    "%%time\n",
    "\n",
    "!pip install -qq lifelines\n",
    "\n",
    "import numpy as np, pandas as pd\n",
    "import matplotlib.pyplot as plt\n",
    "from colorama import Fore\n",
    "from IPython.display import clear_output\n",
    "\n",
    "from sklearn.model_selection import *\n",
    "from xgboost import XGBRegressor, XGBClassifier\n",
    "from catboost import CatBoostRegressor, CatBoostClassifier\n",
    "import catboost as cb\n",
    "from lightgbm import LGBMRegressor\n",
    "import lightgbm as lgb\n",
    "from tqdm import tqdm\n",
    "import numpy as np"
   ]
  },
  {
   "cell_type": "markdown",
   "id": "a08f",
   "metadata": {},
   "source": [
    "# <p style=\"background-color:black; font-family:'Pacifico', cursive; color:yellow; font-size:140%; text-align:center; border: 2px solid black; border-radius:15px; padding: 10px; box-shadow: 5px 5px 20px rgba(0, 0, 0, 0.5); font-weight: bold; letter-spacing: 1px;\">Load Data</p>"
   ]
  },
  {
   "cell_type": "code",
   "execution_count": null,
   "id": "be47",
   "metadata": {
    "execution": {
     "iopub.execute_input": "2025-01-08T18:31:30.546139Z",
     "iopub.status.busy": "2025-01-08T18:31:30.545306Z",
     "iopub.status.idle": "2025-01-08T18:31:35.151547Z",
     "shell.execute_reply": "2025-01-08T18:31:35.150356Z",
     "shell.execute_reply.started": "2025-01-08T18:31:30.546102Z"
    }
   },
   "outputs": [],
   "source": [
    "%%time\n",
    "\n",
    "SEED = 114514\n",
    "n_splits = 5\n",
    "\n",
    "!git clone https://github.com/muhammadabdullah0303/AbdML\n",
    "\n",
    "import sys\n",
    "sys.path.append('/kaggle/working/repository')\n",
    "\n",
    "from AbdML.main import AbdBase\n",
    "\n",
    "train = pd.read_csv('./input/playground-series-s5e1/train.csv')\n",
    "test = pd.read_csv('./input/playground-series-s5e1/test.csv')\n",
    "sample = pd.read_csv('./input/playground-series-s5e1/sample_submission.csv')\n",
    "train = train.dropna(subset=['num_sold'])\n",
    "\n",
    "train = train.drop('id', axis=1)\n",
    "test = test.drop('id', axis=1)\n",
    "\n",
    "cat_c = ['country', 'store', 'product','month_name','day_of_week']\n",
    "\n",
    "ohe_cols = {'cat_c': cat_c}\n",
    "\n",
    "base = AbdBase(train_data=train, test_data=test, target_column='num_sold',gpu=False,handle_date=True,\n",
    "                 problem_type=\"regression\", metric=\"mape\", seed=SEED,\n",
    "                 n_splits=n_splits,early_stop=True,num_classes=0,cat_features=None,ohe_fe=ohe_cols,\n",
    "                 fold_type='GKF')"
   ]
  },
  {
   "cell_type": "code",
   "execution_count": null,
   "id": "f0cd",
   "metadata": {
    "execution": {
     "iopub.execute_input": "2025-01-08T18:31:35.154534Z",
     "iopub.status.busy": "2025-01-08T18:31:35.154159Z",
     "iopub.status.idle": "2025-01-08T18:31:35.189875Z",
     "shell.execute_reply": "2025-01-08T18:31:35.188823Z",
     "shell.execute_reply.started": "2025-01-08T18:31:35.154502Z"
    }
   },
   "outputs": [],
   "source": [
    "%%time\n",
    "\n",
    "base.X_train.head()"
   ]
  },
  {
   "cell_type": "code",
   "execution_count": null,
   "id": "7cf6",
   "metadata": {
    "execution": {
     "iopub.execute_input": "2025-01-08T18:31:35.191786Z",
     "iopub.status.busy": "2025-01-08T18:31:35.191489Z",
     "iopub.status.idle": "2025-01-08T18:31:35.219666Z",
     "shell.execute_reply": "2025-01-08T18:31:35.218618Z",
     "shell.execute_reply.started": "2025-01-08T18:31:35.191761Z"
    }
   },
   "outputs": [],
   "source": [
    "%%time\n",
    "\n",
    "base.X_test.head()"
   ]
  },
  {
   "cell_type": "markdown",
   "id": "b453",
   "metadata": {},
   "source": [
    "# <p style=\"background-color:black; font-family:'Pacifico', cursive; color:yellow; font-size:140%; text-align:center; border: 2px solid black; border-radius:15px; padding: 10px; box-shadow: 5px 5px 20px rgba(0, 0, 0, 0.5); font-weight: bold; letter-spacing: 1px;\">LGBM Model | GroupKFold </p>"
   ]
  },
  {
   "cell_type": "code",
   "execution_count": null,
   "id": "ed1a",
   "metadata": {
    "execution": {
     "iopub.execute_input": "2025-01-08T18:31:35.221177Z",
     "iopub.status.busy": "2025-01-08T18:31:35.220841Z",
     "iopub.status.idle": "2025-01-08T18:32:45.665168Z",
     "shell.execute_reply": "2025-01-08T18:32:45.66408Z",
     "shell.execute_reply.started": "2025-01-08T18:31:35.221148Z"
    }
   },
   "outputs": [],
   "source": [
    "%%time\n",
    "\n",
    "params = {'n_estimators': 848, 'max_depth': 4, 'colsample_bytree': 0.40922204719271094, \n",
    "          'subsample': 0.5185247148796622, 'learning_rate': 0.08812296173534281, 'min_child_samples': 91}\n",
    "\n",
    "rLGBM = base.Train_ML(params,'LGBM',e_stop=200, y_log=True, g_col='group')  "
   ]
  },
  {
   "cell_type": "markdown",
   "id": "2bf8",
   "metadata": {},
   "source": [
    "# <p style=\"background-color:black; font-family:'Pacifico', cursive; color:yellow; font-size:140%; text-align:center; border: 2px solid black; border-radius:15px; padding: 10px; box-shadow: 5px 5px 20px rgba(0, 0, 0, 0.5); font-weight: bold; letter-spacing: 1px;\">Submission</p>"
   ]
  },
  {
   "cell_type": "code",
   "execution_count": null,
   "id": "47c2",
   "metadata": {
    "execution": {
     "iopub.execute_input": "2025-01-08T18:33:50.729413Z",
     "iopub.status.busy": "2025-01-08T18:33:50.729126Z",
     "iopub.status.idle": "2025-01-08T18:33:50.952539Z",
     "shell.execute_reply": "2025-01-08T18:33:50.951478Z",
     "shell.execute_reply.started": "2025-01-08T18:33:50.729388Z"
    }
   },
   "outputs": [],
   "source": [
    "%%time\n",
    "\n",
    "sample[\"num_sold\"] = rLGBM[1]\n",
    "sample.to_csv(\"submission.csv\", index=False)\n",
    "print(\"Sub shape:\", sample.shape)\n",
    "sample.head()"
   ]
  }
 ],
 "metadata": {
  "kaggle": {
   "accelerator": "none",
   "dataSources": [
    {
     "databundleVersionId": 10652996,
     "sourceId": 85723,
     "sourceType": "competition"
    },
    {
     "sourceId": 216564509,
     "sourceType": "kernelVersion"
    }
   ],
   "dockerImageVersionId": 30822,
   "isGpuEnabled": false,
   "isInternetEnabled": true,
   "language": "python",
   "sourceType": "notebook"
  },
  "kernelspec": {
   "display_name": "Python 3",
   "language": "python",
   "name": "python3"
  },
  "language_info": {
   "codemirror_mode": {
    "name": "ipython",
    "version": 3
   },
   "file_extension": ".py",
   "mimetype": "text/x-python",
   "name": "python",
   "nbconvert_exporter": "python",
   "pygments_lexer": "ipython3",
   "version": "3.10.12"
  }
 },
 "nbformat": 4,
 "nbformat_minor": 4
}
