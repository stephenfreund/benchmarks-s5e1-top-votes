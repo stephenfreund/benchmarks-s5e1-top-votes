{
 "cells": [
  {
   "cell_type": "markdown",
   "id": "d41d",
   "metadata": {},
   "source": [
    "<div style=\"background-color: #28a745; /* Changed to a shade of green */ \n",
    "            font-family:'Trebuchet MS', sans-serif; \n",
    "            font-weight:bold; \n",
    "            color: #ffffff; /* Changed to white */ \n",
    "            font-size:130%; \n",
    "            text-align:center; \n",
    "            border: 2px solid #1c7430; /* Changed border color */ \n",
    "            border-radius:15px; \n",
    "            padding: 20px; \n",
    "            box-shadow: 0 8px 25px rgba(0, 0, 0, 0.2);\">\n",
    "    <h1>Sticker Sales Forecasting Challenge 🚀</h1>\n",
    "</div>"
   ]
  },
  {
   "cell_type": "markdown",
   "id": "d13e",
   "metadata": {},
   "source": [
    "Notebook Description: \"🚀 Welcome to Sticker Sales Forecasting! In this notebook, I dive into the world of sticker sales prediction using the power of LGBM, XGBoost, and CatBoost. By leveraging advanced machine learning techniques, I aim to predict sticker sales with optimal accuracy. The models are tuned and stacked for performance, and we’ll evaluate them using MAPE (Mean Absolute Percentage Error). Join me in exploring how these powerful algorithms stack up in the quest for predicting sales with real-world data!\""
   ]
  },
  {
   "cell_type": "code",
   "execution_count": null,
   "id": "b756",
   "metadata": {
    "_cell_guid": "b1076dfc-b9ad-4769-8c92-a6c4dae69d19",
    "_uuid": "8f2839f25d086af736a60e9eeb907d3b93b6e0e5",
    "execution": {
     "iopub.execute_input": "2025-01-30T17:10:17.028538Z",
     "iopub.status.busy": "2025-01-30T17:10:17.028141Z",
     "iopub.status.idle": "2025-01-30T17:10:17.033651Z",
     "shell.execute_reply": "2025-01-30T17:10:17.032932Z",
     "shell.execute_reply.started": "2025-01-30T17:10:17.028483Z"
    }
   },
   "outputs": [],
   "source": [
    "import pandas as pd\n",
    "import numpy as np\n",
    "from sklearn.preprocessing import LabelEncoder\n",
    "from sklearn.model_selection import KFold\n",
    "from sklearn.model_selection import train_test_split, cross_val_predict\n",
    "from sklearn.metrics import make_scorer, mean_absolute_percentage_error\n",
    "from sklearn.linear_model import LinearRegression\n",
    "import seaborn as sns\n",
    "import matplotlib.pyplot as plt\n",
    "import optuna\n",
    "from sklearn.model_selection import train_test_split\n",
    "from sklearn.ensemble import StackingRegressor\n",
    "from lightgbm import LGBMRegressor\n",
    "from sklearn.model_selection import cross_val_score, KFold\n",
    "import xgboost as xgb\n",
    "import lightgbm as lgb\n",
    "from xgboost import XGBRegressor\n",
    "from catboost import CatBoostRegressor\n",
    "from sklearn.linear_model import Ridge "
   ]
  },
  {
   "cell_type": "markdown",
   "id": "51d0",
   "metadata": {},
   "source": [
    "# <div style=\"background-color:lightgoldenrodyellow; font-family:'Trebuchet MS', sans-serif; font-weight:bold; color:darkslateblue; font-size:40%; text-align:center; border: 2px solid goldenrod; border-radius:15px; padding: 20px; box-shadow: 0 8px 25px rgba(0, 0, 0, 0.2);\"><h1>🎉 Import Data: Let’s Load It Like It’s Hot 🔥</h1>\n",
    "</div>"
   ]
  },
  {
   "cell_type": "code",
   "execution_count": null,
   "id": "3690",
   "metadata": {
    "execution": {
     "iopub.execute_input": "2025-01-30T17:10:17.035143Z",
     "iopub.status.busy": "2025-01-30T17:10:17.034863Z",
     "iopub.status.idle": "2025-01-30T17:10:17.320594Z",
     "shell.execute_reply": "2025-01-30T17:10:17.319926Z",
     "shell.execute_reply.started": "2025-01-30T17:10:17.035113Z"
    }
   },
   "outputs": [],
   "source": [
    "train = pd.read_csv('./input/playground-series-s5e1/train.csv')\n",
    "test = pd.read_csv('./input/playground-series-s5e1/test.csv')\n",
    "submission = pd.read_csv('./input/playground-series-s5e1/sample_submission.csv')\n",
    "gdp_per_capita = pd.read_csv('./input/world-gdpgdp-gdp-per-capita-and-annual-growths/gdp_per_capita.csv')"
   ]
  },
  {
   "cell_type": "code",
   "execution_count": null,
   "id": "06d7",
   "metadata": {
    "execution": {
     "iopub.execute_input": "2025-01-30T17:10:17.322286Z",
     "iopub.status.busy": "2025-01-30T17:10:17.321934Z",
     "iopub.status.idle": "2025-01-30T17:10:17.332351Z",
     "shell.execute_reply": "2025-01-30T17:10:17.33153Z",
     "shell.execute_reply.started": "2025-01-30T17:10:17.322263Z"
    }
   },
   "outputs": [],
   "source": [
    "train.head()"
   ]
  },
  {
   "cell_type": "code",
   "execution_count": null,
   "id": "8e68",
   "metadata": {
    "execution": {
     "iopub.execute_input": "2025-01-30T17:10:17.334009Z",
     "iopub.status.busy": "2025-01-30T17:10:17.333722Z",
     "iopub.status.idle": "2025-01-30T17:10:17.388398Z",
     "shell.execute_reply": "2025-01-30T17:10:17.38745Z",
     "shell.execute_reply.started": "2025-01-30T17:10:17.33398Z"
    }
   },
   "outputs": [],
   "source": [
    "train.info()"
   ]
  },
  {
   "cell_type": "code",
   "execution_count": null,
   "id": "eb7b",
   "metadata": {
    "execution": {
     "iopub.execute_input": "2025-01-30T17:10:17.389416Z",
     "iopub.status.busy": "2025-01-30T17:10:17.389177Z",
     "iopub.status.idle": "2025-01-30T17:10:17.436018Z",
     "shell.execute_reply": "2025-01-30T17:10:17.435209Z",
     "shell.execute_reply.started": "2025-01-30T17:10:17.389398Z"
    }
   },
   "outputs": [],
   "source": [
    "train['date'] = pd.to_datetime(train['date'])  \n",
    "test['date'] = pd.to_datetime(test['date'])\n",
    "train['year'] = train['date'].dt.year.astype('int')  \n",
    "test['year'] = test['date'].dt.year.astype('int')  "
   ]
  },
  {
   "cell_type": "code",
   "execution_count": null,
   "id": "cf66",
   "metadata": {
    "execution": {
     "iopub.execute_input": "2025-01-30T17:10:17.437223Z",
     "iopub.status.busy": "2025-01-30T17:10:17.436925Z",
     "iopub.status.idle": "2025-01-30T17:10:17.44988Z",
     "shell.execute_reply": "2025-01-30T17:10:17.449261Z",
     "shell.execute_reply.started": "2025-01-30T17:10:17.437195Z"
    }
   },
   "outputs": [],
   "source": [
    "train_df_imputed = train.copy()"
   ]
  },
  {
   "cell_type": "code",
   "execution_count": null,
   "id": "854a",
   "metadata": {
    "execution": {
     "iopub.execute_input": "2025-01-30T17:10:17.451943Z",
     "iopub.status.busy": "2025-01-30T17:10:17.451747Z",
     "iopub.status.idle": "2025-01-30T17:10:17.466253Z",
     "shell.execute_reply": "2025-01-30T17:10:17.465618Z",
     "shell.execute_reply.started": "2025-01-30T17:10:17.451926Z"
    }
   },
   "outputs": [],
   "source": [
    "years = [str(year) for year in range(2010, 2021)]\n",
    "gdp_per_capita_filtered_df = gdp_per_capita.loc[\n",
    "    gdp_per_capita[\"Country Name\"].isin(train[\"country\"].unique()),\n",
    "    [\"Country Name\"] + years\n",
    "].set_index(\"Country Name\")"
   ]
  },
  {
   "cell_type": "code",
   "execution_count": null,
   "id": "fec2",
   "metadata": {
    "execution": {
     "iopub.execute_input": "2025-01-30T17:10:17.468185Z",
     "iopub.status.busy": "2025-01-30T17:10:17.467899Z",
     "iopub.status.idle": "2025-01-30T17:10:17.488126Z",
     "shell.execute_reply": "2025-01-30T17:10:17.487142Z",
     "shell.execute_reply.started": "2025-01-30T17:10:17.468163Z"
    }
   },
   "outputs": [],
   "source": [
    "for year in years:\n",
    "    gdp_per_capita_filtered_df[f\"{year}_ratio\"] = gdp_per_capita_filtered_df[year] / gdp_per_capita_filtered_df[year].sum()\n",
    "\n",
    "gdp_per_capita_filtered_ratios_df = gdp_per_capita_filtered_df[[f\"{year}_ratio\" for year in years]]\n",
    "gdp_per_capita_filtered_ratios_df.columns = [int(year) for year in years]\n",
    "gdp_per_capita_filtered_ratios_df = (\n",
    "    gdp_per_capita_filtered_ratios_df\n",
    "    .unstack()\n",
    "    .reset_index()\n",
    "    .rename(columns={\"level_0\": \"year\", 0: \"ratio\", \"Country Name\": \"country\"})\n",
    ")\n",
    "gdp_per_capita_filtered_ratios_df[\"year\"] = gdp_per_capita_filtered_ratios_df[\"year\"].astype(int)"
   ]
  },
  {
   "cell_type": "code",
   "execution_count": null,
   "id": "e774",
   "metadata": {
    "execution": {
     "iopub.execute_input": "2025-01-30T17:10:17.489488Z",
     "iopub.status.busy": "2025-01-30T17:10:17.48918Z",
     "iopub.status.idle": "2025-01-30T17:10:21.631942Z",
     "shell.execute_reply": "2025-01-30T17:10:21.631045Z",
     "shell.execute_reply.started": "2025-01-30T17:10:17.489459Z"
    }
   },
   "outputs": [],
   "source": [
    "def impute_values(country, store, product, year, target_country, ratio):\n",
    "    target_values = train_df_imputed.loc[\n",
    "        (train_df_imputed[\"country\"] == target_country) &\n",
    "        (train_df_imputed[\"store\"] == store) &\n",
    "        (train_df_imputed[\"product\"] == product) &\n",
    "        (train_df_imputed[\"year\"] == year),\n",
    "        \"num_sold\"\n",
    "    ]\n",
    "\n",
    "    if not target_values.empty:\n",
    "        target_value = target_values.values[0]  \n",
    "        train_df_imputed.loc[\n",
    "            (train_df_imputed[\"country\"] == country) &\n",
    "            (train_df_imputed[\"store\"] == store) &\n",
    "            (train_df_imputed[\"product\"] == product) &\n",
    "            (train_df_imputed[\"year\"] == year) &\n",
    "            (train_df_imputed[\"num_sold\"].isna()),\n",
    "            \"num_sold\"\n",
    "        ] = target_value * ratio\n",
    "\n",
    "for year in train_df_imputed[\"year\"].unique():\n",
    "    norway_ratio = gdp_per_capita_filtered_ratios_df.loc[\n",
    "        (gdp_per_capita_filtered_ratios_df[\"year\"] == year) & \n",
    "        (gdp_per_capita_filtered_ratios_df[\"country\"] == \"Norway\"), \n",
    "        \"ratio\"\n",
    "    ].values[0]\n",
    "\n",
    "    for country in [\"Canada\", \"Kenya\"]:\n",
    "        country_ratio = gdp_per_capita_filtered_ratios_df.loc[\n",
    "            (gdp_per_capita_filtered_ratios_df[\"year\"] == year) & \n",
    "            (gdp_per_capita_filtered_ratios_df[\"country\"] == country), \n",
    "            \"ratio\"\n",
    "        ].values[0]\n",
    "\n",
    "        ratio = country_ratio / norway_ratio\n",
    "\n",
    "        store_product_combinations = [\n",
    "            (\"Discount Stickers\", \"Holographic Goose\"),\n",
    "            (\"Premium Sticker Mart\", \"Holographic Goose\"),\n",
    "            (\"Stickers for Less\", \"Holographic Goose\"),\n",
    "        ]\n",
    "        if country == \"Kenya\":\n",
    "            store_product_combinations.append((\"Discount Stickers\", \"Kerneler\"))\n",
    "\n",
    "        for store, product in store_product_combinations:\n",
    "            impute_values(country, store, product, year, \"Norway\", ratio)\n",
    "\n",
    "train_df_imputed.loc[train_df_imputed[\"id\"] == 23719, \"num_sold\"] = 4\n",
    "train_df_imputed.loc[train_df_imputed[\"id\"] == 207003, \"num_sold\"] = 195"
   ]
  },
  {
   "cell_type": "code",
   "execution_count": null,
   "id": "bdf6",
   "metadata": {
    "execution": {
     "iopub.execute_input": "2025-01-30T17:10:21.633194Z",
     "iopub.status.busy": "2025-01-30T17:10:21.632871Z",
     "iopub.status.idle": "2025-01-30T17:10:21.64221Z",
     "shell.execute_reply": "2025-01-30T17:10:21.64149Z",
     "shell.execute_reply.started": "2025-01-30T17:10:21.633165Z"
    }
   },
   "outputs": [],
   "source": [
    "train_df_imputed.head()"
   ]
  },
  {
   "cell_type": "code",
   "execution_count": null,
   "id": "058f",
   "metadata": {
    "execution": {
     "iopub.execute_input": "2025-01-30T17:10:21.643385Z",
     "iopub.status.busy": "2025-01-30T17:10:21.64313Z",
     "iopub.status.idle": "2025-01-30T17:10:21.6582Z",
     "shell.execute_reply": "2025-01-30T17:10:21.657484Z",
     "shell.execute_reply.started": "2025-01-30T17:10:21.643367Z"
    }
   },
   "outputs": [],
   "source": [
    "def transform_date(df, col):\n",
    "    df['month'] = df[col].dt.month.astype('int')\n",
    "    df['day'] = df[col].dt.day.astype('int')\n",
    "    df['day_of_week'] = df[col].dt.dayofweek.astype('int')\n",
    "    df['week_of_year'] = df[col].dt.isocalendar().week.astype('int')\n",
    "    df['day_sin'] = np.sin(2 * np.pi * df['day'] / 365)\n",
    "    df['month_sin'] = np.sin(2 * np.pi * df['month'] / 12)\n",
    "    df['month_cos'] = np.cos(2 * np.pi * df['month'] / 12)\n",
    "    df['is_weekend'] = df['day_of_week'].isin([5, 6]).astype('int')\n",
    "    df['days_since_start'] = (df[col] - df[col].min()).dt.days\n",
    "    return df"
   ]
  },
  {
   "cell_type": "code",
   "execution_count": null,
   "id": "6c81",
   "metadata": {
    "execution": {
     "iopub.execute_input": "2025-01-30T17:10:21.659642Z",
     "iopub.status.busy": "2025-01-30T17:10:21.659253Z",
     "iopub.status.idle": "2025-01-30T17:10:21.749829Z",
     "shell.execute_reply": "2025-01-30T17:10:21.749185Z",
     "shell.execute_reply.started": "2025-01-30T17:10:21.65961Z"
    }
   },
   "outputs": [],
   "source": [
    "train = transform_date(train_df_imputed, 'date')\n",
    "test = transform_date(test, 'date')"
   ]
  },
  {
   "cell_type": "code",
   "execution_count": null,
   "id": "a9f4",
   "metadata": {
    "execution": {
     "iopub.execute_input": "2025-01-30T17:10:21.750797Z",
     "iopub.status.busy": "2025-01-30T17:10:21.750586Z",
     "iopub.status.idle": "2025-01-30T17:10:21.783137Z",
     "shell.execute_reply": "2025-01-30T17:10:21.782554Z",
     "shell.execute_reply.started": "2025-01-30T17:10:21.750778Z"
    }
   },
   "outputs": [],
   "source": [
    "train_df_imputed = train_df_imputed.drop(columns=['date'], axis=1)\n",
    "test = test.drop(columns=['date'], axis=1)"
   ]
  },
  {
   "cell_type": "code",
   "execution_count": null,
   "id": "1395",
   "metadata": {
    "execution": {
     "iopub.execute_input": "2025-01-30T17:10:21.78401Z",
     "iopub.status.busy": "2025-01-30T17:10:21.783816Z",
     "iopub.status.idle": "2025-01-30T17:10:21.787403Z",
     "shell.execute_reply": "2025-01-30T17:10:21.786614Z",
     "shell.execute_reply.started": "2025-01-30T17:10:21.783993Z"
    }
   },
   "outputs": [],
   "source": [
    "cat_cols = ['country','store','product']"
   ]
  },
  {
   "cell_type": "code",
   "execution_count": null,
   "id": "5cd5",
   "metadata": {
    "execution": {
     "iopub.execute_input": "2025-01-30T17:10:21.78844Z",
     "iopub.status.busy": "2025-01-30T17:10:21.788193Z",
     "iopub.status.idle": "2025-01-30T17:10:21.899312Z",
     "shell.execute_reply": "2025-01-30T17:10:21.898732Z",
     "shell.execute_reply.started": "2025-01-30T17:10:21.788421Z"
    }
   },
   "outputs": [],
   "source": [
    "label_encoders = {}  \n",
    "for col in cat_cols:\n",
    "    le = LabelEncoder()\n",
    "    train_df_imputed[col] = le.fit_transform(train_df_imputed[col])\n",
    "    label_encoders[col] = le"
   ]
  },
  {
   "cell_type": "code",
   "execution_count": null,
   "id": "71ba",
   "metadata": {
    "execution": {
     "iopub.execute_input": "2025-01-30T17:10:21.900342Z",
     "iopub.status.busy": "2025-01-30T17:10:21.900061Z",
     "iopub.status.idle": "2025-01-30T17:10:21.946183Z",
     "shell.execute_reply": "2025-01-30T17:10:21.945513Z",
     "shell.execute_reply.started": "2025-01-30T17:10:21.900314Z"
    }
   },
   "outputs": [],
   "source": [
    "train_df_imputed = train_df_imputed.dropna()"
   ]
  },
  {
   "cell_type": "code",
   "execution_count": null,
   "id": "ca60",
   "metadata": {
    "execution": {
     "iopub.execute_input": "2025-01-30T17:10:21.94725Z",
     "iopub.status.busy": "2025-01-30T17:10:21.94703Z",
     "iopub.status.idle": "2025-01-30T17:10:21.959058Z",
     "shell.execute_reply": "2025-01-30T17:10:21.958197Z",
     "shell.execute_reply.started": "2025-01-30T17:10:21.947231Z"
    }
   },
   "outputs": [],
   "source": [
    "train_df_imputed.head()"
   ]
  },
  {
   "cell_type": "code",
   "execution_count": null,
   "id": "e0aa",
   "metadata": {
    "execution": {
     "iopub.execute_input": "2025-01-30T17:10:21.96025Z",
     "iopub.status.busy": "2025-01-30T17:10:21.959946Z",
     "iopub.status.idle": "2025-01-30T17:10:23.240148Z",
     "shell.execute_reply": "2025-01-30T17:10:23.239338Z",
     "shell.execute_reply.started": "2025-01-30T17:10:21.96022Z"
    }
   },
   "outputs": [],
   "source": [
    "sns.set(style=\"whitegrid\")\n",
    "\n",
    "plt.figure(figsize=(8, 6))\n",
    "sns.histplot(train['num_sold'], kde=True, bins=30, color='violet')\n",
    "\n",
    "plt.title('Distribution of Sticker Sales (num_sold)', fontsize=16)\n",
    "plt.xlabel('Number of Stickers Sold')\n",
    "plt.ylabel('Frequency')\n",
    "\n",
    "plt.show()"
   ]
  },
  {
   "cell_type": "code",
   "execution_count": null,
   "id": "8f6f",
   "metadata": {
    "execution": {
     "iopub.execute_input": "2025-01-30T17:10:23.243329Z",
     "iopub.status.busy": "2025-01-30T17:10:23.243095Z",
     "iopub.status.idle": "2025-01-30T17:10:23.247958Z",
     "shell.execute_reply": "2025-01-30T17:10:23.247252Z",
     "shell.execute_reply.started": "2025-01-30T17:10:23.24331Z"
    }
   },
   "outputs": [],
   "source": [
    "train_df_imputed['num_sold'] = np.log1p(train_df_imputed['num_sold'])"
   ]
  },
  {
   "cell_type": "code",
   "execution_count": null,
   "id": "f135",
   "metadata": {
    "execution": {
     "iopub.execute_input": "2025-01-30T17:10:23.249403Z",
     "iopub.status.busy": "2025-01-30T17:10:23.24916Z",
     "iopub.status.idle": "2025-01-30T17:10:24.367727Z",
     "shell.execute_reply": "2025-01-30T17:10:24.366915Z",
     "shell.execute_reply.started": "2025-01-30T17:10:23.249384Z"
    }
   },
   "outputs": [],
   "source": [
    "sns.set(style=\"whitegrid\")\n",
    "\n",
    "plt.figure(figsize=(8, 6))\n",
    "sns.histplot(train_df_imputed['num_sold'], kde=True, bins=30, color='violet')\n",
    "\n",
    "plt.title('Distribution of Sticker Sales (num_sold)', fontsize=16)\n",
    "plt.xlabel('Number of Stickers Sold')\n",
    "plt.ylabel('Frequency')\n",
    "\n",
    "plt.show()"
   ]
  },
  {
   "cell_type": "markdown",
   "id": "e872",
   "metadata": {},
   "source": [
    "# <div style=\"background-color:lightgoldenrodyellow; font-family:'Trebuchet MS', sans-serif; font-weight:bold; color:darkslateblue; font-size:40%; text-align:center; border: 2px solid goldenrod; border-radius:15px; padding: 20px; box-shadow: 0 8px 25px rgba(0, 0, 0, 0.2);\"><h1>✂️ Split the Data: Train & Test, No Mess! 🧪</h1>\n",
    "</div>"
   ]
  },
  {
   "cell_type": "code",
   "execution_count": null,
   "id": "9eec",
   "metadata": {
    "execution": {
     "iopub.execute_input": "2025-01-30T17:10:24.368862Z",
     "iopub.status.busy": "2025-01-30T17:10:24.368559Z",
     "iopub.status.idle": "2025-01-30T17:10:24.377307Z",
     "shell.execute_reply": "2025-01-30T17:10:24.376499Z",
     "shell.execute_reply.started": "2025-01-30T17:10:24.368825Z"
    }
   },
   "outputs": [],
   "source": [
    "X = train_df_imputed.drop(columns=['num_sold'])\n",
    "y = train_df_imputed['num_sold']"
   ]
  },
  {
   "cell_type": "code",
   "execution_count": null,
   "id": "49fc",
   "metadata": {
    "execution": {
     "iopub.execute_input": "2025-01-30T17:10:24.378434Z",
     "iopub.status.busy": "2025-01-30T17:10:24.378202Z",
     "iopub.status.idle": "2025-01-30T17:10:24.411996Z",
     "shell.execute_reply": "2025-01-30T17:10:24.411323Z",
     "shell.execute_reply.started": "2025-01-30T17:10:24.378414Z"
    }
   },
   "outputs": [],
   "source": [
    "X_train, X_valid, y_train, y_valid  = train_test_split(X, y, test_size=0.1, random_state=42)"
   ]
  },
  {
   "cell_type": "markdown",
   "id": "e7af",
   "metadata": {},
   "source": [
    "# <div style=\"background-color:lightgoldenrodyellow; font-family:'Trebuchet MS', sans-serif; font-weight:bold; color:darkslateblue; font-size:40%; text-align:center; border: 2px solid goldenrod; border-radius:15px; padding: 20px; box-shadow: 0 8px 25px rgba(0, 0, 0, 0.2);\"><h1>🚂 Train the Models: Time to Let the Algorithms Run! 💻</h1>\n",
    "</div>"
   ]
  },
  {
   "cell_type": "code",
   "execution_count": null,
   "id": "da9b",
   "metadata": {
    "execution": {
     "iopub.execute_input": "2025-01-30T17:10:24.413103Z",
     "iopub.status.busy": "2025-01-30T17:10:24.412816Z",
     "iopub.status.idle": "2025-01-30T17:10:24.41889Z",
     "shell.execute_reply": "2025-01-30T17:10:24.418115Z",
     "shell.execute_reply.started": "2025-01-30T17:10:24.413071Z"
    }
   },
   "outputs": [],
   "source": [
    "def tune_xgb(trial):\n",
    "    params = {\n",
    "        'n_estimators': trial.suggest_int('n_estimators', 500, 4000),\n",
    "        'learning_rate': trial.suggest_loguniform('learning_rate', 0.01, 0.1),\n",
    "        'max_depth': trial.suggest_int('max_depth', 3, 15),\n",
    "        'min_child_weight': trial.suggest_int('min_child_weight', 1, 10),\n",
    "        'subsample': trial.suggest_float('subsample', 0.5, 1.0),\n",
    "        'colsample_bytree': trial.suggest_float('colsample_bytree', 0.5, 1.0),\n",
    "        'gamma': trial.suggest_loguniform('gamma', 1e-6, 1e-2),\n",
    "        'reg_alpha': trial.suggest_loguniform('reg_alpha', 1e-6, 10.0),\n",
    "        'reg_lambda': trial.suggest_loguniform('reg_lambda', 1e-6, 10.0),\n",
    "        'random_state': 42,\n",
    "        'tree_method': 'gpu_hist',\n",
    "        'predictor': 'gpu_predictor',\n",
    "        'eval_metric': 'mape'\n",
    "    }\n",
    "    model = XGBRegressor(**params)\n",
    "    model.fit(X_train, y_train)\n",
    "    preds = model.predict(X_valid)\n",
    "    return mean_absolute_percentage_error(y_valid, preds)"
   ]
  },
  {
   "cell_type": "code",
   "execution_count": null,
   "id": "48dc",
   "metadata": {
    "execution": {
     "iopub.execute_input": "2025-01-30T17:10:24.419928Z",
     "iopub.status.busy": "2025-01-30T17:10:24.419695Z",
     "iopub.status.idle": "2025-01-30T17:10:24.433929Z",
     "shell.execute_reply": "2025-01-30T17:10:24.43319Z",
     "shell.execute_reply.started": "2025-01-30T17:10:24.419909Z"
    }
   },
   "outputs": [],
   "source": [
    "%%time\n",
    "#study_xgb = optuna.create_study(direction='minimize')\n",
    "#study_xgb.optimize(tune_xgb, n_trials=10)\n",
    "\n",
    "#print(\"Best XGBoost params:\", study_xgb.best_params)\n",
    "#print(\"XGBoost MAPE:\", study_xgb.best_value)"
   ]
  },
  {
   "cell_type": "code",
   "execution_count": null,
   "id": "997d",
   "metadata": {
    "execution": {
     "iopub.execute_input": "2025-01-30T17:10:24.435158Z",
     "iopub.status.busy": "2025-01-30T17:10:24.434698Z",
     "iopub.status.idle": "2025-01-30T17:10:24.446919Z",
     "shell.execute_reply": "2025-01-30T17:10:24.44609Z",
     "shell.execute_reply.started": "2025-01-30T17:10:24.435138Z"
    }
   },
   "outputs": [],
   "source": [
    "def tune_lgb(trial):\n",
    "    params = {\n",
    "        'n_estimators': trial.suggest_int('n_estimators', 500, 4000),\n",
    "        'learning_rate': trial.suggest_loguniform('learning_rate', 0.01, 0.1),\n",
    "        'max_depth': trial.suggest_int('max_depth', 3, 15),\n",
    "        'min_child_samples': trial.suggest_int('min_child_samples', 5, 50),\n",
    "        'colsample_bytree': trial.suggest_float('colsample_bytree', 0.5, 1.0),\n",
    "        'subsample': trial.suggest_float('subsample', 0.5, 1.0),\n",
    "        'reg_alpha': trial.suggest_loguniform('reg_alpha', 1e-6, 10.0),\n",
    "        'reg_lambda': trial.suggest_loguniform('reg_lambda', 1e-6, 10.0),\n",
    "        'random_state': 42,\n",
    "        'device': 'gpu',\n",
    "        'metric': 'mape'\n",
    "    }\n",
    "    model = LGBMRegressor(**params)\n",
    "    model.fit(X_train, y_train)\n",
    "    preds = model.predict(X_valid)\n",
    "    return mean_absolute_percentage_error(y_valid, preds)"
   ]
  },
  {
   "cell_type": "code",
   "execution_count": null,
   "id": "6829",
   "metadata": {
    "execution": {
     "iopub.execute_input": "2025-01-30T17:10:24.448235Z",
     "iopub.status.busy": "2025-01-30T17:10:24.447919Z",
     "iopub.status.idle": "2025-01-30T17:10:24.464335Z",
     "shell.execute_reply": "2025-01-30T17:10:24.463571Z",
     "shell.execute_reply.started": "2025-01-30T17:10:24.448205Z"
    }
   },
   "outputs": [],
   "source": [
    "%%time\n",
    "#study_lgb = optuna.create_study(direction='minimize')\n",
    "#study_lgb.optimize(tune_lgb, n_trials=10)\n",
    "\n",
    "#print(\"Best LightGBM params:\", study_lgb.best_params)\n",
    "#print(\"LightGBM MAPE:\", study_lgb.best_value)"
   ]
  },
  {
   "cell_type": "code",
   "execution_count": null,
   "id": "49a4",
   "metadata": {
    "execution": {
     "iopub.execute_input": "2025-01-30T17:10:24.465426Z",
     "iopub.status.busy": "2025-01-30T17:10:24.465153Z",
     "iopub.status.idle": "2025-01-30T17:10:24.474828Z",
     "shell.execute_reply": "2025-01-30T17:10:24.473999Z",
     "shell.execute_reply.started": "2025-01-30T17:10:24.465399Z"
    }
   },
   "outputs": [],
   "source": [
    "def tune_catboost(trial):\n",
    "    params = {\n",
    "        'n_estimators': trial.suggest_int('n_estimators', 500, 4000),\n",
    "        'learning_rate': trial.suggest_loguniform('learning_rate', 0.01, 0.1),\n",
    "        'depth': trial.suggest_int('depth', 3, 15),\n",
    "        'l2_leaf_reg': trial.suggest_loguniform('l2_leaf_reg', 1e-6, 10.0),\n",
    "        'bagging_temperature': trial.suggest_float('bagging_temperature', 0.0, 1.0),\n",
    "        'random_strength': trial.suggest_float('random_strength', 0.0, 1.0),\n",
    "        'loss_function': 'MAPE',\n",
    "        'eval_metric': 'MAPE',\n",
    "        'random_state': 42\n",
    "    }\n",
    "    model = CatBoostRegressor(**params, verbose=0)\n",
    "    model.fit(X_train, y_train)\n",
    "    preds = model.predict(X_valid)\n",
    "    return mean_absolute_percentage_error(y_valid, preds)"
   ]
  },
  {
   "cell_type": "code",
   "execution_count": null,
   "id": "e212",
   "metadata": {
    "execution": {
     "iopub.execute_input": "2025-01-30T17:10:24.47573Z",
     "iopub.status.busy": "2025-01-30T17:10:24.475477Z",
     "iopub.status.idle": "2025-01-30T17:10:24.487577Z",
     "shell.execute_reply": "2025-01-30T17:10:24.486759Z",
     "shell.execute_reply.started": "2025-01-30T17:10:24.475712Z"
    }
   },
   "outputs": [],
   "source": [
    "%%time\n",
    "#study_catboost = optuna.create_study(direction='minimize')\n",
    "#study_catboost.optimize(tune_catboost, n_trials=10)\n",
    "\n",
    "#print(\"Best CatBoost params:\", study_catboost.best_params)\n",
    "#print(\"CatBoost MAPE:\", study_catboost.best_value)"
   ]
  },
  {
   "cell_type": "code",
   "execution_count": null,
   "id": "abd7",
   "metadata": {
    "execution": {
     "iopub.execute_input": "2025-01-30T17:10:24.488833Z",
     "iopub.status.busy": "2025-01-30T17:10:24.488556Z",
     "iopub.status.idle": "2025-01-30T17:10:24.502081Z",
     "shell.execute_reply": "2025-01-30T17:10:24.501268Z",
     "shell.execute_reply.started": "2025-01-30T17:10:24.488803Z"
    }
   },
   "outputs": [],
   "source": [
    "xgb_model = xgb.XGBRegressor(\n",
    "    n_estimators=1523, learning_rate=0.01326, max_depth=9, min_child_weight=2,\n",
    "    subsample=0.9756, colsample_bytree=0.6859, gamma=0.0012,\n",
    "    reg_alpha=0.00134, reg_lambda=9.223, eval_metric='mape', tree_method='gpu_hist'\n",
    ")\n",
    "\n",
    "lgb_model = lgb.LGBMRegressor(\n",
    "    n_estimators=1963, learning_rate=0.07046, max_depth=14, min_child_samples=7,\n",
    "    colsample_bytree=0.9881, subsample=0.9268, reg_alpha=0.1826,\n",
    "    reg_lambda=0.00035, metric='mape', device='gpu'\n",
    ")\n",
    "\n",
    "catboost_model = CatBoostRegressor(\n",
    "    n_estimators=2764, learning_rate=0.02683, depth=12,\n",
    "    l2_leaf_reg=2.75e-06, bagging_temperature=0.278, random_strength=0.7234,\n",
    "    loss_function='MAPE', task_type='GPU', devices='0', verbose=0\n",
    ")"
   ]
  },
  {
   "cell_type": "code",
   "execution_count": null,
   "id": "9177",
   "metadata": {
    "execution": {
     "iopub.execute_input": "2025-01-30T17:15:16.749761Z",
     "iopub.status.busy": "2025-01-30T17:15:16.749418Z",
     "iopub.status.idle": "2025-01-30T17:15:16.755337Z",
     "shell.execute_reply": "2025-01-30T17:15:16.754445Z",
     "shell.execute_reply.started": "2025-01-30T17:15:16.749735Z"
    }
   },
   "outputs": [],
   "source": [
    "%%time\n",
    "meta_model = LinearRegression()\n",
    "stacking_model = StackingRegressor(\n",
    "    estimators=[('xgb', xgb_model), ('lgb', lgb_model), ('catboost', catboost_model)],\n",
    "    final_estimator=meta_model,\n",
    "    n_jobs=1  \n",
    ")"
   ]
  },
  {
   "cell_type": "code",
   "execution_count": null,
   "id": "f8bb",
   "metadata": {
    "_kg_hide-input": true,
    "execution": {
     "iopub.execute_input": "2025-01-30T17:15:19.411847Z",
     "iopub.status.busy": "2025-01-30T17:15:19.411533Z",
     "iopub.status.idle": "2025-01-30T17:21:35.75135Z",
     "shell.execute_reply": "2025-01-30T17:21:35.749251Z",
     "shell.execute_reply.started": "2025-01-30T17:15:19.411824Z"
    }
   },
   "outputs": [],
   "source": [
    "stacking_model.fit(X,y)"
   ]
  },
  {
   "cell_type": "markdown",
   "id": "fe01",
   "metadata": {},
   "source": [
    "# <div style=\"background-color:lightgoldenrodyellow; font-family:'Trebuchet MS', sans-serif; font-weight:bold; color:darkslateblue; font-size:40%; text-align:center; border: 2px solid goldenrod; border-radius:15px; padding: 20px; box-shadow: 0 8px 25px rgba(0, 0, 0, 0.2);\"><h1>📝 Submit the Predictions: Final Call for Submission 🚀</h1>\n",
    "</div>"
   ]
  },
  {
   "cell_type": "code",
   "execution_count": null,
   "id": "6571",
   "metadata": {
    "execution": {
     "iopub.execute_input": "2025-01-30T17:26:21.968334Z",
     "iopub.status.busy": "2025-01-30T17:26:21.968017Z",
     "iopub.status.idle": "2025-01-30T17:26:22.015744Z",
     "shell.execute_reply": "2025-01-30T17:26:22.015075Z",
     "shell.execute_reply.started": "2025-01-30T17:26:21.968309Z"
    }
   },
   "outputs": [],
   "source": [
    "label_encoders = {}  \n",
    "for col in cat_cols:\n",
    "    le = LabelEncoder()\n",
    "    test[col] = le.fit_transform(test[col])\n",
    "    label_encoders[col] = le"
   ]
  },
  {
   "cell_type": "code",
   "execution_count": null,
   "id": "fd7a",
   "metadata": {
    "execution": {
     "iopub.execute_input": "2025-01-30T17:26:23.604308Z",
     "iopub.status.busy": "2025-01-30T17:26:23.604014Z",
     "iopub.status.idle": "2025-01-30T17:26:23.615683Z",
     "shell.execute_reply": "2025-01-30T17:26:23.614806Z",
     "shell.execute_reply.started": "2025-01-30T17:26:23.604285Z"
    }
   },
   "outputs": [],
   "source": [
    "test.head()"
   ]
  },
  {
   "cell_type": "code",
   "execution_count": null,
   "id": "e3a8",
   "metadata": {
    "_kg_hide-input": true,
    "execution": {
     "iopub.execute_input": "2025-01-30T17:26:25.801453Z",
     "iopub.status.busy": "2025-01-30T17:26:25.801156Z",
     "iopub.status.idle": "2025-01-30T17:26:34.221998Z",
     "shell.execute_reply": "2025-01-30T17:26:34.220843Z",
     "shell.execute_reply.started": "2025-01-30T17:26:25.80143Z"
    }
   },
   "outputs": [],
   "source": [
    "submission_ids = test['id']\n",
    "predictions = stacking_model.predict(test)"
   ]
  },
  {
   "cell_type": "code",
   "execution_count": null,
   "id": "b2a0",
   "metadata": {
    "execution": {
     "iopub.execute_input": "2025-01-30T17:26:37.05546Z",
     "iopub.status.busy": "2025-01-30T17:26:37.055155Z",
     "iopub.status.idle": "2025-01-30T17:26:37.059763Z",
     "shell.execute_reply": "2025-01-30T17:26:37.058915Z",
     "shell.execute_reply.started": "2025-01-30T17:26:37.055436Z"
    }
   },
   "outputs": [],
   "source": [
    "predictions = np.expm1(predictions)"
   ]
  },
  {
   "cell_type": "code",
   "execution_count": null,
   "id": "dbe3",
   "metadata": {
    "execution": {
     "iopub.execute_input": "2025-01-30T17:26:38.896838Z",
     "iopub.status.busy": "2025-01-30T17:26:38.896484Z",
     "iopub.status.idle": "2025-01-30T17:26:38.90151Z",
     "shell.execute_reply": "2025-01-30T17:26:38.900617Z",
     "shell.execute_reply.started": "2025-01-30T17:26:38.896812Z"
    }
   },
   "outputs": [],
   "source": [
    "submission = pd.DataFrame({\n",
    "    'id': submission_ids,\n",
    "    'num_sold': predictions \n",
    "})"
   ]
  },
  {
   "cell_type": "code",
   "execution_count": null,
   "id": "97d0",
   "metadata": {
    "execution": {
     "iopub.execute_input": "2025-01-30T17:26:40.860964Z",
     "iopub.status.busy": "2025-01-30T17:26:40.860683Z",
     "iopub.status.idle": "2025-01-30T17:26:41.036351Z",
     "shell.execute_reply": "2025-01-30T17:26:41.035629Z",
     "shell.execute_reply.started": "2025-01-30T17:26:40.860945Z"
    }
   },
   "outputs": [],
   "source": [
    "submission.to_csv('submission.csv', index=False)\n",
    "print(\"File Saved!\")\n",
    "print(submission.head())"
   ]
  }
 ],
 "metadata": {
  "kaggle": {
   "accelerator": "nvidiaTeslaT4",
   "dataSources": [
    {
     "databundleVersionId": 10652996,
     "sourceId": 85723,
     "sourceType": "competition"
    },
    {
     "datasetId": 2007861,
     "sourceId": 3325325,
     "sourceType": "datasetVersion"
    }
   ],
   "dockerImageVersionId": 30822,
   "isGpuEnabled": true,
   "isInternetEnabled": true,
   "language": "python",
   "sourceType": "notebook"
  },
  "kernelspec": {
   "display_name": "Python 3",
   "language": "python",
   "name": "python3"
  },
  "language_info": {
   "codemirror_mode": {
    "name": "ipython",
    "version": 3
   },
   "file_extension": ".py",
   "mimetype": "text/x-python",
   "name": "python",
   "nbconvert_exporter": "python",
   "pygments_lexer": "ipython3",
   "version": "3.10.12"
  }
 },
 "nbformat": 4,
 "nbformat_minor": 4
}
