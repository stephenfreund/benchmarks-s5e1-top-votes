{
 "cells": [
  {
   "cell_type": "code",
   "execution_count": null,
   "id": "838a",
   "metadata": {
    "execution": {
     "execution_failed": "2025-01-01T02:16:12.219Z",
     "iopub.status.busy": "2025-01-01T02:10:35.559152Z"
    }
   },
   "outputs": [],
   "source": [
    "!pip install fitter ./input/fitter-1-71/fitter-1.7.1-py3-none-any.whl -q"
   ]
  },
  {
   "cell_type": "code",
   "execution_count": null,
   "id": "9e60",
   "metadata": {
    "execution": {
     "execution_failed": "2025-01-01T02:16:12.222Z"
    }
   },
   "outputs": [],
   "source": [
    "import pandas as pd\n",
    "import numpy as np\n",
    "import matplotlib.pyplot as plt\n",
    "import seaborn as sns\n",
    "import warnings\n",
    "warnings.filterwarnings('ignore')\n",
    "import lightgbm as lgb\n",
    "from catboost import CatBoostRegressor, Pool\n",
    "\n",
    "from sklearn.model_selection import KFold\n",
    "from sklearn.metrics import mean_absolute_percentage_error\n",
    "\n",
    "from fitter import Fitter\n",
    "from scipy import stats\n",
    "\n",
    "SEED = 42\n",
    "n_splits = 5\n",
    "n_estimators=200\n",
    "early_stopping_rounds = 100"
   ]
  },
  {
   "cell_type": "code",
   "execution_count": null,
   "id": "3fdf",
   "metadata": {
    "execution": {
     "execution_failed": "2025-01-01T02:16:12.222Z"
    }
   },
   "outputs": [],
   "source": [
    "train_data = pd.read_csv(r\"./input/playground-series-s5e1/train.csv\")\n",
    "test_data = pd.read_csv(r\"./input/playground-series-s5e1/test.csv\")\n",
    "data = pd.read_csv(r\"./input/playground-series-s5e1/sample_submission.csv\")\n",
    "\n",
    "print(\"train_data shape :\",train_data.shape)\n",
    "print(\"test_data shape :\",test_data.shape)\n",
    "print(\"data shape :\",data.shape)"
   ]
  },
  {
   "cell_type": "code",
   "execution_count": null,
   "id": "f439",
   "metadata": {
    "execution": {
     "execution_failed": "2025-01-01T02:16:12.223Z"
    }
   },
   "outputs": [],
   "source": [
    "train_data.head()"
   ]
  },
  {
   "cell_type": "code",
   "execution_count": null,
   "id": "ff15",
   "metadata": {
    "execution": {
     "execution_failed": "2025-01-01T02:16:12.223Z"
    }
   },
   "outputs": [],
   "source": [
    "train_data.describe()"
   ]
  },
  {
   "cell_type": "code",
   "execution_count": null,
   "id": "d29b",
   "metadata": {
    "execution": {
     "execution_failed": "2025-01-01T02:16:12.223Z"
    }
   },
   "outputs": [],
   "source": [
    "train_data.isna().sum().sort_values(ascending=False)"
   ]
  },
  {
   "cell_type": "code",
   "execution_count": null,
   "id": "49c0",
   "metadata": {
    "execution": {
     "execution_failed": "2025-01-01T02:16:12.223Z"
    }
   },
   "outputs": [],
   "source": [
    "train_data['country'].value_counts()"
   ]
  },
  {
   "cell_type": "code",
   "execution_count": null,
   "id": "7d6b",
   "metadata": {
    "execution": {
     "execution_failed": "2025-01-01T02:16:12.223Z"
    }
   },
   "outputs": [],
   "source": [
    "train_data = train_data.drop_duplicates()\n",
    "train_data = train_data.dropna()\n",
    "print(\"train_data shape :\",train_data.shape)"
   ]
  },
  {
   "cell_type": "code",
   "execution_count": null,
   "id": "67bd",
   "metadata": {
    "execution": {
     "execution_failed": "2025-01-01T02:16:12.223Z"
    }
   },
   "outputs": [],
   "source": [
    "test_data.head()"
   ]
  },
  {
   "cell_type": "code",
   "execution_count": null,
   "id": "8666",
   "metadata": {
    "execution": {
     "execution_failed": "2025-01-01T02:16:12.223Z"
    }
   },
   "outputs": [],
   "source": [
    "test_data.isna().sum().sort_values(ascending=False)"
   ]
  },
  {
   "cell_type": "code",
   "execution_count": null,
   "id": "358b",
   "metadata": {
    "execution": {
     "execution_failed": "2025-01-01T02:16:12.224Z"
    }
   },
   "outputs": [],
   "source": [
    "train_data['date'] = pd.to_datetime(train_data['date'])\n",
    "test_data['date'] = pd.to_datetime(test_data['date'])\n",
    "\n",
    "train_data['Year'] = train_data['date'].dt.year\n",
    "train_data['Month'] = train_data['date'].dt.month\n",
    "train_data['Day'] = train_data['date'].dt.day\n",
    "train_data['day_of_week'] = train_data['date'].dt.day_name()\n",
    "\n",
    "test_data['Year'] = test_data['date'].dt.year\n",
    "test_data['Month'] = test_data['date'].dt.month\n",
    "test_data['Day'] = test_data['date'].dt.day\n",
    "test_data['day_of_week'] = test_data['date'].dt.day_name()\n",
    "\n",
    "train_data.drop('date',axis=1,inplace=True)\n",
    "test_data.drop('date',axis=1,inplace=True)"
   ]
  },
  {
   "cell_type": "code",
   "execution_count": null,
   "id": "36ee",
   "metadata": {
    "execution": {
     "execution_failed": "2025-01-01T02:16:12.224Z"
    }
   },
   "outputs": [],
   "source": [
    "f = Fitter(train_data['num_sold'], distributions=['norm', 'lognorm', 'laplace', 'expon', 'gamma'])\n",
    "f.fit()\n",
    "print('Distribution of original training data:')\n",
    "f.summary()\n",
    "lognorm_params = f.fitted_param['lognorm']"
   ]
  },
  {
   "cell_type": "code",
   "execution_count": null,
   "id": "09f3",
   "metadata": {
    "execution": {
     "execution_failed": "2025-01-01T02:16:12.224Z"
    }
   },
   "outputs": [],
   "source": [
    "train_data['num_sold'] = np.log(train_data['num_sold'])"
   ]
  },
  {
   "cell_type": "code",
   "execution_count": null,
   "id": "6563",
   "metadata": {
    "execution": {
     "execution_failed": "2025-01-01T02:16:12.224Z"
    }
   },
   "outputs": [],
   "source": [
    "train_data = train_data.drop('id', axis = 1)\n",
    "num_cols = list(train_data.select_dtypes(exclude=['object']).columns.difference(['num_sold']))\n",
    "cat_cols = list(train_data.select_dtypes(include=['object']).columns)\n",
    "\n",
    "num_cols_test = list(test_data.select_dtypes(exclude=['object']).columns.difference(['id']))\n",
    "cat_cols_test = list(test_data.select_dtypes(include=['object']).columns)"
   ]
  },
  {
   "cell_type": "code",
   "execution_count": null,
   "id": "29aa",
   "metadata": {
    "execution": {
     "execution_failed": "2025-01-01T02:16:12.224Z"
    }
   },
   "outputs": [],
   "source": [
    "from sklearn.preprocessing import LabelEncoder\n",
    "# Initialize LabelEncoder\n",
    "label_encoders = {col: LabelEncoder() for col in cat_cols}\n",
    "\n",
    "# Apply LabelEncoder to each categorical column\n",
    "for col in cat_cols:\n",
    "    train_data[col] = label_encoders[col].fit_transform(train_data[col])\n",
    "    test_data[col] = label_encoders[col].transform(test_data[col])\n",
    "    "
   ]
  },
  {
   "cell_type": "code",
   "execution_count": null,
   "id": "9f96",
   "metadata": {
    "execution": {
     "execution_failed": "2025-01-01T02:16:12.224Z"
    }
   },
   "outputs": [],
   "source": [
    "from sklearn.model_selection import train_test_split\n",
    "X = train_data.drop(['num_sold'], axis=1)\n",
    "y = train_data['num_sold']\n",
    "test = test_data.drop(['id'],axis=1)\n",
    "\n",
    "# Split datainto training set and test set\n",
    "X_train, X_test, y_train, y_test = train_test_split(X, y, test_size=0.2, random_state=42)"
   ]
  },
  {
   "cell_type": "code",
   "execution_count": null,
   "id": "2c90",
   "metadata": {
    "execution": {
     "execution_failed": "2025-01-01T02:16:12.225Z"
    }
   },
   "outputs": [],
   "source": [
    "# Define MAPE metric\n",
    "def mape(y_true, y_pred):\n",
    "    return mean_absolute_percentage_error(y_true, y_pred)"
   ]
  },
  {
   "cell_type": "code",
   "execution_count": null,
   "id": "cd30",
   "metadata": {
    "execution": {
     "execution_failed": "2025-01-01T02:16:12.225Z"
    }
   },
   "outputs": [],
   "source": [
    "kf = KFold(n_splits, shuffle=True, random_state=SEED)\n",
    "kf_splits = kf.split(X)\n",
    "scores1 = []\n",
    "test_preds1 = []\n",
    "\n",
    "lgbm_params1 = {\n",
    "    'boosting_type': 'gbdt',\n",
    "    'objective': 'regression',\n",
    "    'metric': 'rmse',\n",
    "    'n_estimators': n_estimators,\n",
    "    'learning_rate': 0.08,\n",
    "    'max_depth': 6,\n",
    "    'reg_alpha': 1,\n",
    "    'lambda_l2': 5,  \n",
    "    'subsample': 1.0, \n",
    "    'seed': SEED,\n",
    "    'verbose': -1,\n",
    "    'device' : 'cpu' \n",
    "}\n",
    "\n",
    "for i, (train_idx, val_idx) in enumerate(kf_splits):\n",
    "    X_train_fold, X_val_fold = X.iloc[train_idx], X.iloc[val_idx]\n",
    "    y_train_fold, y_val_fold = y.iloc[train_idx], y.iloc[val_idx]\n",
    "    \n",
    "    train_lgbm_dataset = lgb.Dataset(X_train_fold, label=y_train_fold, categorical_feature=cat_cols)\n",
    "    valid_lgbm_dataset = lgb.Dataset(X_val_fold, label=y_val_fold, categorical_feature=cat_cols)\n",
    "    \n",
    "    callbacks = [lgb.early_stopping(stopping_rounds=early_stopping_rounds, verbose=False)]\n",
    "    model = lgb.LGBMRegressor(**lgbm_params1)\n",
    "    model.fit(X_train_fold, y_train_fold, eval_set=[(X_val_fold, y_val_fold)], eval_metric='mape', callbacks=callbacks)\n",
    "    \n",
    "    val_pred = model.predict(X_val_fold, num_iteration=model.best_iteration_)\n",
    "    score = mape(y_val_fold, val_pred)\n",
    "    scores1.append(score)\n",
    "    \n",
    "    test_pred = np.maximum(model.predict(test, num_iteration=model.best_iteration_),0)\n",
    "    test_preds1.append(test_pred)\n",
    "    \n",
    "    print(f'LightGBM Fold {i + 1} mape: {score}')\n",
    "\n",
    "print(f'LightGBM mape: {np.mean(scores1):.4f};');"
   ]
  },
  {
   "cell_type": "code",
   "execution_count": null,
   "id": "c118",
   "metadata": {
    "execution": {
     "execution_failed": "2025-01-01T02:16:12.225Z"
    }
   },
   "outputs": [],
   "source": [
    "kf = KFold(n_splits, shuffle=True, random_state=SEED)\n",
    "kf_splits = kf.split(X)\n",
    "scores2 = []\n",
    "test_preds2 = []\n",
    "\n",
    "catboost_params2 = {\n",
    "    'loss_function': 'RMSE',  \n",
    "    'eval_metric': 'RMSE',   \n",
    "    'learning_rate': 0.08,\n",
    "    'iterations': n_estimators,\n",
    "    'depth': 6,\n",
    "    'l2_leaf_reg': 8,\n",
    "    'min_data_in_leaf' : 2,\n",
    "    'random_seed':SEED,\n",
    "    'verbose':False,\n",
    "    'task_type': 'CPU'\n",
    "}\n",
    "\n",
    "X_test_pool = Pool(test, cat_features=cat_cols)\n",
    "\n",
    "for i, (train_idx, val_idx) in enumerate(kf_splits):\n",
    "    model = CatBoostRegressor(**catboost_params2)\n",
    "    X_train_fold, X_val_fold = X.iloc[train_idx], X.iloc[val_idx]\n",
    "    y_train_fold, y_val_fold = y.iloc[train_idx], y.iloc[val_idx]\n",
    "    X_train_pool = Pool(X_train_fold, y_train_fold, cat_features=cat_cols)\n",
    "    X_valid_pool = Pool(X_val_fold, y_val_fold, cat_features=cat_cols)\n",
    "    model.fit(X=X_train_pool, eval_set=X_valid_pool, verbose=False, early_stopping_rounds=early_stopping_rounds)\n",
    "    val_pred = model.predict(X_valid_pool)\n",
    "    score = mape(y_val_fold, val_pred)  \n",
    "    scores2.append(score)\n",
    "    test_pred = np.maximum(model.predict(X_test_pool),0)\n",
    "    test_preds2.append(test_pred)\n",
    "    print(f'CatBoost Fold {i + 1} mape: {score}')\n",
    "\n",
    "print(f'CatBoost mape: {np.mean(scores2):.4f};');"
   ]
  },
  {
   "cell_type": "code",
   "execution_count": null,
   "id": "de1c",
   "metadata": {
    "execution": {
     "execution_failed": "2025-01-01T02:16:12.225Z"
    }
   },
   "outputs": [],
   "source": [
    "y_preds = (np.mean(test_preds1, axis=0)+np.mean(test_preds2, axis=0))/2\n",
    "y_preds = np.exp(y_preds)\n",
    "y_preds = np.clip(y_preds,5,5939)\n",
    "print('predict mean:',y_preds.mean())\n",
    "print('predict median',np.median(y_preds))"
   ]
  },
  {
   "cell_type": "code",
   "execution_count": null,
   "id": "a57a",
   "metadata": {
    "execution": {
     "execution_failed": "2025-01-01T02:16:12.225Z"
    }
   },
   "outputs": [],
   "source": [
    "f = Fitter(y_preds, distributions=['norm', 'lognorm', 'laplace', 'expon', 'gamma'])\n",
    "f.fit()\n",
    "print('Distribution of predicting data:')\n",
    "f.summary()   \n",
    "norm_params = f.fitted_param['norm']"
   ]
  },
  {
   "cell_type": "code",
   "execution_count": null,
   "id": "55a1",
   "metadata": {
    "execution": {
     "execution_failed": "2025-01-01T02:16:12.225Z"
    }
   },
   "outputs": [],
   "source": [
    "# Save predictions for submission\n",
    "submission = pd.DataFrame({'id': test_data['id'], 'num_sold': y_preds})\n",
    "submission.to_csv('submission.csv', index=False)\n",
    "print(submission.head())"
   ]
  }
 ],
 "metadata": {
  "kaggle": {
   "accelerator": "nvidiaTeslaT4",
   "dataSources": [
    {
     "databundleVersionId": 10652996,
     "sourceId": 85723,
     "sourceType": "competition"
    },
    {
     "datasetId": 6218383,
     "sourceId": 10085759,
     "sourceType": "datasetVersion"
    }
   ],
   "isGpuEnabled": true,
   "isInternetEnabled": true,
   "language": "python",
   "sourceType": "notebook"
  },
  "kernelspec": {
   "display_name": "Python 3",
   "language": "python",
   "name": "python3"
  },
  "language_info": {
   "codemirror_mode": {
    "name": "ipython",
    "version": 3
   },
   "file_extension": ".py",
   "mimetype": "text/x-python",
   "name": "python",
   "nbconvert_exporter": "python",
   "pygments_lexer": "ipython3",
   "version": "3.10.12"
  }
 },
 "nbformat": 4,
 "nbformat_minor": 4
}
