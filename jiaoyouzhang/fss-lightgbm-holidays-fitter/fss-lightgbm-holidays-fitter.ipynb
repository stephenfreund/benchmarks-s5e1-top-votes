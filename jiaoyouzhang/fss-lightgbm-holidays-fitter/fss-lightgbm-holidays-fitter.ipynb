{
 "cells": [
  {
   "cell_type": "markdown",
   "id": "3c9f",
   "metadata": {},
   "source": [
    "1. My contribution mainly lies in extracting holiday features. \n",
    "2. I used Fitter to view the data distribution of the target column and used statistical indicators to check the deviation between predicted values and true values.\n",
    "3. It is a stable model. When I tried changing the random number and cross validation fold, the difference in results was very small.\n",
    "4. I haven't programmed for many years. I have been learning Python for the past few months, but I am still not very proficient. If it is helpful, please upvote. Thanks to everyone."
   ]
  },
  {
   "cell_type": "code",
   "execution_count": null,
   "id": "d261",
   "metadata": {
    "execution": {
     "iopub.execute_input": "2025-01-06T14:07:11.593963Z",
     "iopub.status.busy": "2025-01-06T14:07:11.59361Z",
     "iopub.status.idle": "2025-01-06T14:07:20.526422Z",
     "shell.execute_reply": "2025-01-06T14:07:20.524572Z",
     "shell.execute_reply.started": "2025-01-06T14:07:11.593938Z"
    }
   },
   "outputs": [],
   "source": [
    "!pip install -U --q ./input/fitter-1-71/fitter-1.7.1-py3-none-any.whl\n",
    "!pip install -U --q pycountry"
   ]
  },
  {
   "cell_type": "code",
   "execution_count": null,
   "id": "6626",
   "metadata": {
    "execution": {
     "iopub.execute_input": "2025-01-06T14:28:40.105036Z",
     "iopub.status.busy": "2025-01-06T14:28:40.104624Z",
     "iopub.status.idle": "2025-01-06T14:28:40.112059Z",
     "shell.execute_reply": "2025-01-06T14:28:40.11089Z",
     "shell.execute_reply.started": "2025-01-06T14:28:40.105009Z"
    }
   },
   "outputs": [],
   "source": [
    "import pandas as pd\n",
    "import numpy as np\n",
    "import matplotlib.pyplot as plt\n",
    "import seaborn as sns\n",
    "import warnings\n",
    "warnings.filterwarnings('ignore')\n",
    "import lightgbm as lgb\n",
    "from catboost import CatBoostRegressor, Pool\n",
    "\n",
    "from sklearn.model_selection import KFold\n",
    "from sklearn.metrics import mean_absolute_percentage_error,mean_squared_error \n",
    "import holidays\n",
    "import pycountry\n",
    "\n",
    "from fitter import Fitter\n",
    "from scipy import stats\n",
    "import shap\n",
    "from datetime import datetime, timedelta\n",
    "\n",
    "SEED = 42\n",
    "n_splits = 5\n",
    "n_estimators=5000\n",
    "early_stopping_rounds = 100\n",
    "FE_holidays = True"
   ]
  },
  {
   "cell_type": "code",
   "execution_count": null,
   "id": "16f5",
   "metadata": {
    "execution": {
     "iopub.execute_input": "2025-01-06T14:07:20.539082Z",
     "iopub.status.busy": "2025-01-06T14:07:20.538651Z",
     "iopub.status.idle": "2025-01-06T14:07:20.947984Z",
     "shell.execute_reply": "2025-01-06T14:07:20.9469Z",
     "shell.execute_reply.started": "2025-01-06T14:07:20.539049Z"
    }
   },
   "outputs": [],
   "source": [
    "train_data = pd.read_csv(r\"./input/playground-series-s5e1/train.csv\")\n",
    "test_data = pd.read_csv(r\"./input/playground-series-s5e1/test.csv\")\n",
    "data = pd.read_csv(r\"./input/playground-series-s5e1/sample_submission.csv\")\n",
    "\n",
    "print(\"train_data shape :\",train_data.shape)\n",
    "print(\"test_data shape :\",test_data.shape)\n",
    "print(\"data shape :\",data.shape)"
   ]
  },
  {
   "cell_type": "code",
   "execution_count": null,
   "id": "75d1",
   "metadata": {
    "execution": {
     "iopub.execute_input": "2025-01-06T14:07:20.95003Z",
     "iopub.status.busy": "2025-01-06T14:07:20.949655Z",
     "iopub.status.idle": "2025-01-06T14:07:20.969147Z",
     "shell.execute_reply": "2025-01-06T14:07:20.967798Z",
     "shell.execute_reply.started": "2025-01-06T14:07:20.950002Z"
    }
   },
   "outputs": [],
   "source": [
    "train_data.head()"
   ]
  },
  {
   "cell_type": "code",
   "execution_count": null,
   "id": "adc0",
   "metadata": {
    "execution": {
     "iopub.execute_input": "2025-01-06T14:07:20.971262Z",
     "iopub.status.busy": "2025-01-06T14:07:20.970812Z",
     "iopub.status.idle": "2025-01-06T14:07:21.016083Z",
     "shell.execute_reply": "2025-01-06T14:07:21.014379Z",
     "shell.execute_reply.started": "2025-01-06T14:07:20.971214Z"
    }
   },
   "outputs": [],
   "source": [
    "train_data.describe()"
   ]
  },
  {
   "cell_type": "code",
   "execution_count": null,
   "id": "a29a",
   "metadata": {
    "execution": {
     "iopub.execute_input": "2025-01-06T14:07:21.017832Z",
     "iopub.status.busy": "2025-01-06T14:07:21.01738Z",
     "iopub.status.idle": "2025-01-06T14:07:21.072449Z",
     "shell.execute_reply": "2025-01-06T14:07:21.071151Z",
     "shell.execute_reply.started": "2025-01-06T14:07:21.017783Z"
    }
   },
   "outputs": [],
   "source": [
    "train_data.isna().sum().sort_values(ascending=False)"
   ]
  },
  {
   "cell_type": "code",
   "execution_count": null,
   "id": "80cd",
   "metadata": {
    "execution": {
     "iopub.execute_input": "2025-01-06T14:07:21.073967Z",
     "iopub.status.busy": "2025-01-06T14:07:21.073576Z",
     "iopub.status.idle": "2025-01-06T14:07:21.103691Z",
     "shell.execute_reply": "2025-01-06T14:07:21.102538Z",
     "shell.execute_reply.started": "2025-01-06T14:07:21.073922Z"
    }
   },
   "outputs": [],
   "source": [
    "train_data['country'].value_counts()"
   ]
  },
  {
   "cell_type": "code",
   "execution_count": null,
   "id": "f4e8",
   "metadata": {
    "execution": {
     "iopub.execute_input": "2025-01-06T14:07:21.10514Z",
     "iopub.status.busy": "2025-01-06T14:07:21.104831Z",
     "iopub.status.idle": "2025-01-06T14:07:21.263985Z",
     "shell.execute_reply": "2025-01-06T14:07:21.262871Z",
     "shell.execute_reply.started": "2025-01-06T14:07:21.105115Z"
    }
   },
   "outputs": [],
   "source": [
    "train_data = train_data.drop_duplicates()\n",
    "train_data = train_data.dropna()\n",
    "print(\"train_data shape :\",train_data.shape)"
   ]
  },
  {
   "cell_type": "code",
   "execution_count": null,
   "id": "c5c9",
   "metadata": {
    "execution": {
     "iopub.execute_input": "2025-01-06T14:07:21.267476Z",
     "iopub.status.busy": "2025-01-06T14:07:21.267107Z",
     "iopub.status.idle": "2025-01-06T14:07:21.278939Z",
     "shell.execute_reply": "2025-01-06T14:07:21.277715Z",
     "shell.execute_reply.started": "2025-01-06T14:07:21.267445Z"
    }
   },
   "outputs": [],
   "source": [
    "test_data.head()"
   ]
  },
  {
   "cell_type": "code",
   "execution_count": null,
   "id": "52b3",
   "metadata": {
    "execution": {
     "iopub.execute_input": "2025-01-06T14:07:21.281392Z",
     "iopub.status.busy": "2025-01-06T14:07:21.281013Z",
     "iopub.status.idle": "2025-01-06T14:07:21.326089Z",
     "shell.execute_reply": "2025-01-06T14:07:21.324995Z",
     "shell.execute_reply.started": "2025-01-06T14:07:21.28136Z"
    }
   },
   "outputs": [],
   "source": [
    "test_data.isna().sum().sort_values(ascending=False)"
   ]
  },
  {
   "cell_type": "code",
   "execution_count": null,
   "id": "5a2d",
   "metadata": {
    "execution": {
     "iopub.execute_input": "2025-01-06T14:07:21.3276Z",
     "iopub.status.busy": "2025-01-06T14:07:21.327217Z",
     "iopub.status.idle": "2025-01-06T14:07:21.399721Z",
     "shell.execute_reply": "2025-01-06T14:07:21.398114Z",
     "shell.execute_reply.started": "2025-01-06T14:07:21.327571Z"
    }
   },
   "outputs": [],
   "source": [
    "train_data['last'] = train_data.groupby(['country', 'store', 'product'])['num_sold'].transform('last')\n",
    "#train_data['mean'] = train_data.groupby(['country', 'store', 'product'])['num_sold'].transform('mean')"
   ]
  },
  {
   "cell_type": "code",
   "execution_count": null,
   "id": "b104",
   "metadata": {
    "execution": {
     "iopub.execute_input": "2025-01-06T14:07:21.401268Z",
     "iopub.status.busy": "2025-01-06T14:07:21.400933Z",
     "iopub.status.idle": "2025-01-06T14:07:21.527876Z",
     "shell.execute_reply": "2025-01-06T14:07:21.5267Z",
     "shell.execute_reply.started": "2025-01-06T14:07:21.401241Z"
    }
   },
   "outputs": [],
   "source": [
    "mean_mapping = train_data.drop_duplicates(['country', 'store', 'product'])[['country', 'store', 'product', 'last']]\n",
    "test_data = test_data.merge(mean_mapping, on=['country', 'store', 'product'], how='left')\n",
    "\n",
    "#mean_mapping = train_data.drop_duplicates(['country', 'store', 'product'])[['country', 'store', 'product', 'mean']]\n",
    "#test_data = test_data.merge(mean_mapping, on=['country', 'store', 'product'], how='left')\n",
    "\n",
    "train_data.isna().sum().sort_values(ascending=False)"
   ]
  },
  {
   "cell_type": "code",
   "execution_count": null,
   "id": "70a0",
   "metadata": {
    "execution": {
     "iopub.execute_input": "2025-01-06T14:07:21.529744Z",
     "iopub.status.busy": "2025-01-06T14:07:21.529276Z",
     "iopub.status.idle": "2025-01-06T14:07:21.535068Z",
     "shell.execute_reply": "2025-01-06T14:07:21.533844Z",
     "shell.execute_reply.started": "2025-01-06T14:07:21.529702Z"
    }
   },
   "outputs": [],
   "source": [
    "#print(train_data['last'].value_counts())"
   ]
  },
  {
   "cell_type": "code",
   "execution_count": null,
   "id": "9416",
   "metadata": {
    "execution": {
     "iopub.execute_input": "2025-01-06T14:07:21.536734Z",
     "iopub.status.busy": "2025-01-06T14:07:21.536424Z",
     "iopub.status.idle": "2025-01-06T14:07:21.827247Z",
     "shell.execute_reply": "2025-01-06T14:07:21.826223Z",
     "shell.execute_reply.started": "2025-01-06T14:07:21.536705Z"
    }
   },
   "outputs": [],
   "source": [
    "train_data['date'] = pd.to_datetime(train_data['date'])\n",
    "test_data['date'] = pd.to_datetime(test_data['date'])\n",
    "\n",
    "train_data['Year'] = train_data['date'].dt.year\n",
    "train_data['Quarter'] = train_data['date'].dt.quarter\n",
    "train_data['Month'] = train_data['date'].dt.month\n",
    "train_data['Day'] = train_data['date'].dt.day\n",
    "train_data['day_of_week'] = train_data['date'].dt.day_name()\n",
    "train_data['week_of_year'] = train_data['date'].dt.isocalendar().week\n",
    "\n",
    "#train_data['day_sin'] = np.sin(2 * np.pi * train_data['Day'] / 365.0)\n",
    "train_data['day_cos'] = np.cos(2 * np.pi * train_data['Day'] / 365.0)\n",
    "train_data['month_sin'] = np.sin(2 * np.pi * train_data['Month'] / 12.0)\n",
    "train_data['month_cos'] = np.cos(2 * np.pi * train_data['Month'] / 12.0)\n",
    "train_data['year_sin'] = np.sin(2 * np.pi * train_data['Year'] / 7.0)\n",
    "train_data['year_cos'] = np.cos(2 * np.pi * train_data['Year'] / 7.0)\n",
    "train_data['Group']=(train_data['Year']-2010)*48+train_data['Month']*4+train_data['Day']//7\n",
    "\n",
    "test_data['Year'] = test_data['date'].dt.year\n",
    "test_data['Quarter'] = test_data['date'].dt.quarter\n",
    "test_data['Month'] = test_data['date'].dt.month\n",
    "test_data['Day'] = test_data['date'].dt.day\n",
    "test_data['day_of_week'] = test_data['date'].dt.day_name()\n",
    "test_data['week_of_year'] = test_data['date'].dt.isocalendar().week\n",
    "\n",
    "#test_data['day_sin'] = np.sin(2 * np.pi * test_data['Day'] / 365.0)\n",
    "test_data['day_cos'] = np.cos(2 * np.pi * test_data['Day'] / 365.0)\n",
    "test_data['month_sin'] = np.sin(2 * np.pi * test_data['Month'] / 12.0)\n",
    "test_data['month_cos'] = np.cos(2 * np.pi * test_data['Month'] / 12.0)\n",
    "test_data['year_sin'] = np.sin(2 * np.pi * test_data['Year'] / 7.0)\n",
    "test_data['year_cos'] = np.cos(2 * np.pi * test_data['Year'] / 7.0)\n",
    "test_data['Group']=(test_data['Year']-2010)*48+test_data['Month']*4+test_data['Day']//7\n",
    "\n"
   ]
  },
  {
   "cell_type": "code",
   "execution_count": null,
   "id": "c807",
   "metadata": {
    "execution": {
     "iopub.execute_input": "2025-01-06T14:07:21.82986Z",
     "iopub.status.busy": "2025-01-06T14:07:21.829551Z",
     "iopub.status.idle": "2025-01-06T14:07:22.229673Z",
     "shell.execute_reply": "2025-01-06T14:07:22.228605Z",
     "shell.execute_reply.started": "2025-01-06T14:07:21.829834Z"
    }
   },
   "outputs": [],
   "source": [
    "train_data['Quarter'] = train_data['Quarter'].astype('str')\n",
    "train_data['Month'] = train_data['Month'].astype('str')\n",
    "train_data['day_of_week'] = train_data['day_of_week'].astype('str')\n",
    "train_data['week_of_year'] = train_data['week_of_year'].astype('str')\n",
    "\n",
    "test_data['Quarter'] = test_data['Quarter'].astype('str')\n",
    "test_data['Month'] = test_data['Month'].astype('str')\n",
    "test_data['day_of_week'] = test_data['day_of_week'].astype('str')\n",
    "test_data['week_of_year'] = test_data['week_of_year'].astype('str')"
   ]
  },
  {
   "cell_type": "code",
   "execution_count": null,
   "id": "4cc6",
   "metadata": {
    "execution": {
     "iopub.execute_input": "2025-01-06T14:07:22.230962Z",
     "iopub.status.busy": "2025-01-06T14:07:22.230679Z",
     "iopub.status.idle": "2025-01-06T14:07:22.23539Z",
     "shell.execute_reply": "2025-01-06T14:07:22.234129Z",
     "shell.execute_reply.started": "2025-01-06T14:07:22.230931Z"
    }
   },
   "outputs": [],
   "source": [
    "#train_data['country_store'] = train_data['country'] + \"_\" + train_data['store'] \n",
    "#train_data['country_product'] = train_data['country'] + \"_\" + train_data['product']\n",
    "#train_data['store_product'] = train_data['store'] + \"_\" + train_data['store'] \n",
    "#train_data['country_store_product'] = train_data['country'] + \"_\" + train_data['store'] + \"_\" + train_data['product']"
   ]
  },
  {
   "cell_type": "code",
   "execution_count": null,
   "id": "f2df",
   "metadata": {
    "execution": {
     "iopub.execute_input": "2025-01-06T14:07:22.236919Z",
     "iopub.status.busy": "2025-01-06T14:07:22.236529Z",
     "iopub.status.idle": "2025-01-06T14:07:22.256629Z",
     "shell.execute_reply": "2025-01-06T14:07:22.255657Z",
     "shell.execute_reply.started": "2025-01-06T14:07:22.236877Z"
    }
   },
   "outputs": [],
   "source": [
    "#test_data['country_store'] = test_data['country'] + \"_\" + test_data['store'] \n",
    "#test_data['country_product'] = test_data['country'] + \"_\" + test_data['product']\n",
    "#test_data['store_product'] = test_data['store'] + \"_\" + test_data['store'] \n",
    "#test_data['country_store_product'] = test_data['country'] + \"_\" + test_data['store'] + \"_\" + test_data['product']"
   ]
  },
  {
   "cell_type": "code",
   "execution_count": null,
   "id": "9a54",
   "metadata": {
    "execution": {
     "iopub.execute_input": "2025-01-06T14:07:22.258163Z",
     "iopub.status.busy": "2025-01-06T14:07:22.257833Z",
     "iopub.status.idle": "2025-01-06T14:07:22.278095Z",
     "shell.execute_reply": "2025-01-06T14:07:22.276966Z",
     "shell.execute_reply.started": "2025-01-06T14:07:22.258121Z"
    }
   },
   "outputs": [],
   "source": [
    "def get_holiday_name(country_code, date_obj):\n",
    "    country_holiday = holidays.CountryHoliday(country_code, years=date_obj.year)\n",
    "    return country_holiday.get(date_obj)\n",
    "\n",
    "def get_country_code(country_name):\n",
    "    try:\n",
    "        country = pycountry.countries.get(name=country_name)\n",
    "        return country.alpha_2  \n",
    "    except KeyError:\n",
    "        print(f\"Unknown Country: {country_name}\")\n",
    "        return None\n",
    "\n",
    "def get_holiday_for_row(row):\n",
    "    country_code = get_country_code(row['country'])\n",
    "    if country_code is None:\n",
    "        return 'Unknown Country'\n",
    "    \n",
    "    try:\n",
    "        date_obj = row['date']\n",
    "    except ValueError:\n",
    "        print(f\"Invalid Date: {row['date']}\")\n",
    "        return 'Invalid Date'\n",
    "    \n",
    "    return get_holiday_name(country_code, date_obj)\n",
    "\n"
   ]
  },
  {
   "cell_type": "code",
   "execution_count": null,
   "id": "cdaa",
   "metadata": {
    "execution": {
     "iopub.execute_input": "2025-01-06T14:07:22.279444Z",
     "iopub.status.busy": "2025-01-06T14:07:22.279143Z",
     "iopub.status.idle": "2025-01-06T14:07:22.301355Z",
     "shell.execute_reply": "2025-01-06T14:07:22.300133Z",
     "shell.execute_reply.started": "2025-01-06T14:07:22.279419Z"
    }
   },
   "outputs": [],
   "source": [
    "def get_holiday_pre1_for_row(row):\n",
    "    country_code = get_country_code(row['country'])\n",
    "    if country_code is None:\n",
    "        return 'Unknown Country'\n",
    "    \n",
    "    try:\n",
    "        date_obj = row['date']+ timedelta(days=1)\n",
    "    except ValueError:\n",
    "        print(f\"Invalid Date: {row['date']}\")\n",
    "        return 'Invalid Date'\n",
    "    \n",
    "    return get_holiday_name(country_code, date_obj)"
   ]
  },
  {
   "cell_type": "code",
   "execution_count": null,
   "id": "030d",
   "metadata": {
    "execution": {
     "iopub.execute_input": "2025-01-06T14:07:22.302944Z",
     "iopub.status.busy": "2025-01-06T14:07:22.302539Z",
     "iopub.status.idle": "2025-01-06T14:07:22.327434Z",
     "shell.execute_reply": "2025-01-06T14:07:22.326209Z",
     "shell.execute_reply.started": "2025-01-06T14:07:22.302915Z"
    }
   },
   "outputs": [],
   "source": [
    "def get_holiday_pre2_for_row(row):\n",
    "    country_code = get_country_code(row['country'])\n",
    "    if country_code is None:\n",
    "        return 'Unknown Country'\n",
    "    \n",
    "    try:\n",
    "        date_obj = row['date']+ timedelta(days=2)\n",
    "    except ValueError:\n",
    "        print(f\"Invalid Date: {row['date']}\")\n",
    "        return 'Invalid Date'\n",
    "    \n",
    "    return get_holiday_name(country_code, date_obj)"
   ]
  },
  {
   "cell_type": "code",
   "execution_count": null,
   "id": "521f",
   "metadata": {
    "execution": {
     "iopub.execute_input": "2025-01-06T14:07:22.328944Z",
     "iopub.status.busy": "2025-01-06T14:07:22.328546Z",
     "iopub.status.idle": "2025-01-06T14:07:22.34749Z",
     "shell.execute_reply": "2025-01-06T14:07:22.34619Z",
     "shell.execute_reply.started": "2025-01-06T14:07:22.328906Z"
    }
   },
   "outputs": [],
   "source": [
    "def get_holiday_pre3_for_row(row):\n",
    "    country_code = get_country_code(row['country'])\n",
    "    if country_code is None:\n",
    "        return 'Unknown Country'\n",
    "    \n",
    "    try:\n",
    "        date_obj = row['date']+ timedelta(days=3)\n",
    "    except ValueError:\n",
    "        print(f\"Invalid Date: {row['date']}\")\n",
    "        return 'Invalid Date'\n",
    "    \n",
    "    return get_holiday_name(country_code, date_obj)"
   ]
  },
  {
   "cell_type": "code",
   "execution_count": null,
   "id": "a5aa",
   "metadata": {
    "execution": {
     "iopub.execute_input": "2025-01-06T14:07:22.349128Z",
     "iopub.status.busy": "2025-01-06T14:07:22.348712Z",
     "iopub.status.idle": "2025-01-06T14:15:08.940143Z",
     "shell.execute_reply": "2025-01-06T14:15:08.939012Z",
     "shell.execute_reply.started": "2025-01-06T14:07:22.349094Z"
    }
   },
   "outputs": [],
   "source": [
    "if FE_holidays:\n",
    "    train_data['holidays_name'] = train_data.apply(get_holiday_for_row, axis=1)\n",
    "    test_data['holidays_name'] = test_data.apply(get_holiday_for_row, axis=1)\n",
    "    print(train_data['holidays_name'].value_counts() )\n",
    "    \n",
    "    train_data['holidays_name_pre1'] = train_data.apply(get_holiday_pre1_for_row, axis=1)\n",
    "    test_data['holidays_name_pre1'] = test_data.apply(get_holiday_pre1_for_row, axis=1)\n",
    "\n",
    "    #train_data['holidays_name_pre2'] = train_data.apply(get_holiday_pre2_for_row, axis=1)\n",
    "    #test_data['holidays_name_pre2'] = test_data.apply(get_holiday_pre2_for_row, axis=1)\n",
    "\n",
    "    #train_data['holidays_name_pre3'] = train_data.apply(get_holiday_pre3_for_row, axis=1)\n",
    "    #test_data['holidays_name_pre3'] = test_data.apply(get_holiday_pre3_for_row, axis=1)"
   ]
  },
  {
   "cell_type": "code",
   "execution_count": null,
   "id": "94f7",
   "metadata": {
    "execution": {
     "iopub.execute_input": "2025-01-06T14:15:08.941578Z",
     "iopub.status.busy": "2025-01-06T14:15:08.941203Z",
     "iopub.status.idle": "2025-01-06T14:15:09.004989Z",
     "shell.execute_reply": "2025-01-06T14:15:09.003914Z",
     "shell.execute_reply.started": "2025-01-06T14:15:08.941547Z"
    }
   },
   "outputs": [],
   "source": [
    "train_data.drop('date',axis=1,inplace=True)\n",
    "test_data.drop('date',axis=1,inplace=True)"
   ]
  },
  {
   "cell_type": "code",
   "execution_count": null,
   "id": "1ef2",
   "metadata": {
    "execution": {
     "iopub.execute_input": "2025-01-06T14:15:09.006415Z",
     "iopub.status.busy": "2025-01-06T14:15:09.006069Z",
     "iopub.status.idle": "2025-01-06T14:15:09.302168Z",
     "shell.execute_reply": "2025-01-06T14:15:09.300215Z",
     "shell.execute_reply.started": "2025-01-06T14:15:09.006385Z"
    }
   },
   "outputs": [],
   "source": [
    "print(train_data.info())\n",
    "\n",
    "train_data = train_data.drop('id', axis = 1)\n",
    "num_cols = list(train_data.select_dtypes(exclude=['object']).columns.difference(['num_sold']))\n",
    "cat_cols = list(train_data.select_dtypes(include=['object']).columns)\n",
    "\n",
    "num_cols_test = list(test_data.select_dtypes(exclude=['object']).columns.difference(['id']))\n",
    "cat_cols_test = list(test_data.select_dtypes(include=['object']).columns)\n",
    "\n",
    "print('num_cols:',num_cols)\n",
    "print('cat_cols:',cat_cols)"
   ]
  },
  {
   "cell_type": "code",
   "execution_count": null,
   "id": "44f3",
   "metadata": {
    "execution": {
     "iopub.execute_input": "2025-01-06T14:15:09.30469Z",
     "iopub.status.busy": "2025-01-06T14:15:09.304009Z",
     "iopub.status.idle": "2025-01-06T14:15:09.907074Z",
     "shell.execute_reply": "2025-01-06T14:15:09.905812Z",
     "shell.execute_reply.started": "2025-01-06T14:15:09.304622Z"
    }
   },
   "outputs": [],
   "source": [
    "from sklearn.preprocessing import LabelEncoder\n",
    "# Initialize LabelEncoder\n",
    "label_encoders = {col: LabelEncoder() for col in cat_cols}\n",
    "\n",
    "# Apply LabelEncoder to each categorical column\n",
    "for col in cat_cols:\n",
    "    combined_data = pd.concat([train_data[col], test_data[col]])\n",
    "    le = LabelEncoder()\n",
    "    le.fit(combined_data)\n",
    "    train_data[col] = le.transform(train_data[col])\n",
    "    test_data[col] = le.transform(test_data[col])\n",
    "    "
   ]
  },
  {
   "cell_type": "code",
   "execution_count": null,
   "id": "7b21",
   "metadata": {
    "execution": {
     "iopub.execute_input": "2025-01-06T14:20:38.618732Z",
     "iopub.status.busy": "2025-01-06T14:20:38.618345Z",
     "iopub.status.idle": "2025-01-06T14:20:49.281706Z",
     "shell.execute_reply": "2025-01-06T14:20:49.280099Z",
     "shell.execute_reply.started": "2025-01-06T14:20:38.618702Z"
    }
   },
   "outputs": [],
   "source": [
    "from sklearn.model_selection import train_test_split\n",
    "#train_data['num_sold'] = np.log1p(train_data['num_sold'])\n",
    "X = train_data.drop(['num_sold'], axis=1)\n",
    "y = train_data['num_sold']-train_data['last']\n",
    "test = test_data.drop(['id'],axis=1)\n",
    "\n",
    "\n",
    "f = Fitter(y, distributions=['norm', 'lognorm', 'laplace', 'expon', 'gamma'])\n",
    "f.fit()\n",
    "print('Distribution of original training data:')\n",
    "f.summary()\n",
    "lognorm_params = f.fitted_param['lognorm']"
   ]
  },
  {
   "cell_type": "code",
   "execution_count": null,
   "id": "6974",
   "metadata": {
    "execution": {
     "iopub.execute_input": "2025-01-06T14:22:08.395234Z",
     "iopub.status.busy": "2025-01-06T14:22:08.394821Z",
     "iopub.status.idle": "2025-01-06T14:22:08.495773Z",
     "shell.execute_reply": "2025-01-06T14:22:08.494574Z",
     "shell.execute_reply.started": "2025-01-06T14:22:08.395202Z"
    }
   },
   "outputs": [],
   "source": [
    "\n",
    "# Split datainto training set and test set\n",
    "X_train, X_test, y_train, y_test = train_test_split(X, y, test_size=0.2, random_state=42)"
   ]
  },
  {
   "cell_type": "code",
   "execution_count": null,
   "id": "f0ed",
   "metadata": {
    "execution": {
     "iopub.execute_input": "2025-01-06T14:28:51.883389Z",
     "iopub.status.busy": "2025-01-06T14:28:51.88298Z",
     "iopub.status.idle": "2025-01-06T14:28:51.888184Z",
     "shell.execute_reply": "2025-01-06T14:28:51.886824Z",
     "shell.execute_reply.started": "2025-01-06T14:28:51.883361Z"
    }
   },
   "outputs": [],
   "source": [
    "# Define MAPE metric\n",
    "def mape(y_true, y_pred):\n",
    "    return mean_squared_error (y_true, y_pred)"
   ]
  },
  {
   "cell_type": "code",
   "execution_count": null,
   "id": "79f3",
   "metadata": {
    "execution": {
     "iopub.execute_input": "2025-01-06T14:28:55.666729Z",
     "iopub.status.busy": "2025-01-06T14:28:55.666379Z",
     "iopub.status.idle": "2025-01-06T14:32:25.439159Z",
     "shell.execute_reply": "2025-01-06T14:32:25.437727Z",
     "shell.execute_reply.started": "2025-01-06T14:28:55.666695Z"
    }
   },
   "outputs": [],
   "source": [
    "kf = KFold(n_splits, shuffle=True, random_state=SEED)\n",
    "kf_splits = kf.split(X)\n",
    "scores1 = []\n",
    "train_preds1 = []\n",
    "test_preds1 = []\n",
    "models = []\n",
    "\n",
    "lgbm_params1 = {\n",
    "    'boosting_type': 'gbdt',\n",
    "    'objective': 'regression',\n",
    "    'metric': 'rmse',\n",
    "    'n_estimators': n_estimators,\n",
    "    'learning_rate': 0.08,\n",
    "    'max_depth': 13,\n",
    "    'reg_alpha': 0.01,\n",
    "    'lambda_l2': 0.01,  \n",
    "    'min_child_samples' : 32,\n",
    "    'colsample_bytree': 0.93,\n",
    "    'subsample': 0.7, \n",
    "    'seed': SEED,\n",
    "    'verbose': -1,\n",
    "    'device' : 'cpu' \n",
    "}\n",
    "\n",
    "for i, (train_idx, val_idx) in enumerate(kf_splits):\n",
    "    X_train_fold, X_val_fold = X.iloc[train_idx], X.iloc[val_idx]\n",
    "    y_train_fold, y_val_fold = y.iloc[train_idx], y.iloc[val_idx]\n",
    "    \n",
    "    #train_lgbm_dataset = lgb.Dataset(X_train_fold, label=y_train_fold, categorical_feature=cat_cols)\n",
    "    #valid_lgbm_dataset = lgb.Dataset(X_val_fold, label=y_val_fold, categorical_feature=cat_cols)\n",
    "    \n",
    "    callbacks = [lgb.early_stopping(stopping_rounds=early_stopping_rounds, verbose=False)]\n",
    "    model = lgb.LGBMRegressor(**lgbm_params1)\n",
    "    model.fit(X_train_fold, y_train_fold, eval_set=[(X_val_fold, y_val_fold)], categorical_feature=cat_cols,eval_metric='l2', callbacks=callbacks)\n",
    "    models.append(model)\n",
    "    \n",
    "    val_pred = np.maximum(model.predict(X_val_fold, num_iteration=model.best_iteration_),0)\n",
    "    score = mape(y_val_fold, val_pred)\n",
    "    scores1.append(score)\n",
    "    \n",
    "    test_pred = np.maximum(model.predict(test, num_iteration=model.best_iteration_),0)\n",
    "    test_preds1.append(test_pred)\n",
    "    \n",
    "    print(f'LightGBM Fold {i + 1} mean_squared_error : {score:.5f}')\n",
    "print(f'LightGBM mean_squared_error : {np.mean(scores1):.5f};');\n"
   ]
  },
  {
   "cell_type": "code",
   "execution_count": null,
   "id": "c867",
   "metadata": {
    "execution": {
     "iopub.execute_input": "2025-01-06T14:32:34.042494Z",
     "iopub.status.busy": "2025-01-06T14:32:34.042075Z",
     "iopub.status.idle": "2025-01-06T14:32:34.050033Z",
     "shell.execute_reply": "2025-01-06T14:32:34.048476Z",
     "shell.execute_reply.started": "2025-01-06T14:32:34.042461Z"
    }
   },
   "outputs": [],
   "source": [
    "print('best_iteration: ',model.best_iteration_)"
   ]
  },
  {
   "cell_type": "code",
   "execution_count": null,
   "id": "69fb",
   "metadata": {
    "execution": {
     "iopub.execute_input": "2025-01-06T14:32:43.395001Z",
     "iopub.status.busy": "2025-01-06T14:32:43.394605Z",
     "iopub.status.idle": "2025-01-06T14:32:45.382606Z",
     "shell.execute_reply": "2025-01-06T14:32:45.38133Z",
     "shell.execute_reply.started": "2025-01-06T14:32:43.394971Z"
    }
   },
   "outputs": [],
   "source": [
    "for i, model in enumerate(models):\n",
    "    lgb.plot_importance(model, max_num_features=50, importance_type='split') \n",
    "    plt.title(f\"Feature Importances for Model {i+1}\")\n",
    "    plt.show()"
   ]
  },
  {
   "cell_type": "code",
   "execution_count": null,
   "id": "98eb",
   "metadata": {
    "execution": {
     "iopub.execute_input": "2025-01-06T14:35:09.830994Z",
     "iopub.status.busy": "2025-01-06T14:35:09.830577Z",
     "iopub.status.idle": "2025-01-06T14:35:09.858243Z",
     "shell.execute_reply": "2025-01-06T14:35:09.856515Z",
     "shell.execute_reply.started": "2025-01-06T14:35:09.830963Z"
    }
   },
   "outputs": [],
   "source": [
    "#y_preds = (np.mean(test_preds1, axis=0)+np.mean(test_preds2, axis=0))/2\n",
    "y_preds = np.mean(test_preds1, axis=0)\n",
    "y_preds = y_preds+test[\"last\"].fillna(5)\n",
    "print(y_preds)\n",
    "print('predict mean before:',y_preds.mean())\n",
    "print('predict median before:',np.median(y_preds))\n",
    "y_preds = np.round(y_preds*1.004)\n",
    "print('predict mean after:',y_preds.mean())\n",
    "print('predict median after:',np.median(y_preds))\n",
    "\n",
    "y_preds = np.clip(y_preds, 5, 5939)\n"
   ]
  },
  {
   "cell_type": "code",
   "execution_count": null,
   "id": "3de2",
   "metadata": {
    "execution": {
     "iopub.execute_input": "2025-01-06T14:35:13.630896Z",
     "iopub.status.busy": "2025-01-06T14:35:13.630497Z",
     "iopub.status.idle": "2025-01-06T14:35:16.350411Z",
     "shell.execute_reply": "2025-01-06T14:35:16.348113Z",
     "shell.execute_reply.started": "2025-01-06T14:35:13.630867Z"
    }
   },
   "outputs": [],
   "source": [
    "f = Fitter(y_preds, distributions=['norm', 'lognorm', 'laplace', 'expon', 'gamma'])\n",
    "f.fit()\n",
    "print('Distribution of predicting data:')\n",
    "f.summary()   \n",
    "norm_params = f.fitted_param['norm']"
   ]
  },
  {
   "cell_type": "code",
   "execution_count": null,
   "id": "6de6",
   "metadata": {
    "execution": {
     "iopub.execute_input": "2025-01-06T14:35:23.74221Z",
     "iopub.status.busy": "2025-01-06T14:35:23.741842Z",
     "iopub.status.idle": "2025-01-06T14:35:23.892561Z",
     "shell.execute_reply": "2025-01-06T14:35:23.89108Z",
     "shell.execute_reply.started": "2025-01-06T14:35:23.742184Z"
    }
   },
   "outputs": [],
   "source": [
    "# Save predictions for submission\n",
    "submission = pd.DataFrame({'id': test_data['id'], 'num_sold': y_preds})\n",
    "submission.to_csv('submission.csv', index=False)\n",
    "print(submission.head())"
   ]
  }
 ],
 "metadata": {
  "kaggle": {
   "accelerator": "none",
   "dataSources": [
    {
     "databundleVersionId": 10652996,
     "sourceId": 85723,
     "sourceType": "competition"
    },
    {
     "datasetId": 6218383,
     "sourceId": 10085759,
     "sourceType": "datasetVersion"
    }
   ],
   "dockerImageVersionId": 30822,
   "isGpuEnabled": false,
   "isInternetEnabled": true,
   "language": "python",
   "sourceType": "notebook"
  },
  "kernelspec": {
   "display_name": "Python 3",
   "language": "python",
   "name": "python3"
  },
  "language_info": {
   "codemirror_mode": {
    "name": "ipython",
    "version": 3
   },
   "file_extension": ".py",
   "mimetype": "text/x-python",
   "name": "python",
   "nbconvert_exporter": "python",
   "pygments_lexer": "ipython3",
   "version": "3.10.12"
  }
 },
 "nbformat": 4,
 "nbformat_minor": 4
}
