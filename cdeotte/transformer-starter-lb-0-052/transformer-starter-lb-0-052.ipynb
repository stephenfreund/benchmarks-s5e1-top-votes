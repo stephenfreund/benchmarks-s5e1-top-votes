{
 "cells": [
  {
   "cell_type": "markdown",
   "id": "e15c",
   "metadata": {
    "_cell_guid": "b1076dfc-b9ad-4769-8c92-a6c4dae69d19",
    "_uuid": "8f2839f25d086af736a60e9eeb907d3b93b6e0e5"
   },
   "source": [
    "# Transformer Starter - LB 0.052 - No Feature Engineering\n",
    "This notebook is a Transformer starter (built upon my WaveNet starter [here][1]). The advantage of using time series deep learning (like CNN, RNN, or Transformer) is that we do not need to do feature engieering! The model does the feature engineeing for us! We input only `num_sold` and the model does the rest! This Transformer model is as accurate as GBDT (like XGB, CAT, LGBM) all on it's own without us engineering any features! Wow!\n",
    "\n",
    "To make a submission CSV, we need to run this notebook 5 times with `PROD = 0,1,2,3,4`. Each time we train a model for one specific product and predict test for one specific product. Each run loads and saves an intermediate CSV file with partial predicitons. When we run this notebook the fifth time with `PROD=4` then it will write `submission.csv` to submit to comp. \n",
    "\n",
    "# New Transformer Model Details\n",
    "This notebook is a fork of my WaveNet starter [here][1]. Then I made the following changes:\n",
    "* Replaced WaveNet with Transformer\n",
    "* Use WaveNet to extract features for Transformer\n",
    "* Data loader avoids outputting samples with NAN in target\n",
    "* Train data adds a boolean indicating whether `num_sold` is NAN or not\n",
    "* Train for 10 epochs using cosine learning schedule\n",
    "* Use TensorFlow version 2.17.0 instead of 2.13.0\n",
    "\n",
    "# Old WaveNet Model Details\n",
    "This notebook uses the following techniques from my WaveNet starter:\n",
    "* **No feature engineering. Uses the raw `num_sold` time series data only!**\n",
    "* Train one `Transformer` model for each of the 5 `products`.\n",
    "* Standardize all 18 time series for each `product` into the same range of values.\n",
    "* Standardize with `GDP`, `store ratio`, time series `mean`, time series `std`.\n",
    "* Use all 18 `store` and `country` time series for each `product` to learn about `product`\n",
    "* `Transformer` takes input time series of length `1440` days and predicts `32` future days\n",
    "* Infer using `auto regression`. We use predictions to make more predictions 35 times.\n",
    "* `Transformer` trains with `random crops` from train data\n",
    "* Train using `2x T4 GPU` and `mixed precision`\n",
    "\n",
    "# Load Data\n",
    "Load train data and define which product to train and predict.\n",
    "\n",
    "[1]: https://www.kaggle.com/code/cdeotte/wavenet-starter-lb-0-08207"
   ]
  },
  {
   "cell_type": "code",
   "execution_count": null,
   "id": "22fa",
   "metadata": {
    "execution": {
     "iopub.execute_input": "2025-01-24T05:10:59.431533Z",
     "iopub.status.busy": "2025-01-24T05:10:59.431216Z",
     "iopub.status.idle": "2025-01-24T05:10:59.436096Z",
     "shell.execute_reply": "2025-01-24T05:10:59.435133Z",
     "shell.execute_reply.started": "2025-01-24T05:10:59.431491Z"
    }
   },
   "outputs": [],
   "source": [
    "# VERSION\n",
    "VER=1\n",
    "# WHICH OF 5 PRODUCTS 0,1,2,3,4 TO TRAIN AND PREDICT\n",
    "PROD = 0\n",
    "# LENGTH OF TRAIN FEATURES\n",
    "LEN = 1440\n",
    "\n",
    "# TRAIN OR LOAD MODEL\n",
    "TRAIN_MODEL = True\n",
    "PATH = \"./input/kaggle-sticker-comp-sub-v2/\"\n",
    "USE_INTERNET = False"
   ]
  },
  {
   "cell_type": "code",
   "execution_count": null,
   "id": "9de6",
   "metadata": {
    "execution": {
     "iopub.execute_input": "2025-01-24T05:10:59.437315Z",
     "iopub.status.busy": "2025-01-24T05:10:59.437004Z",
     "iopub.status.idle": "2025-01-24T05:11:01.145835Z",
     "shell.execute_reply": "2025-01-24T05:11:01.14486Z",
     "shell.execute_reply.started": "2025-01-24T05:10:59.437287Z"
    }
   },
   "outputs": [],
   "source": [
    "import pandas as pd, numpy as np, os\n",
    "import matplotlib.pyplot as plt\n",
    "\n",
    "train = pd.read_csv(\"./input/playground-series-s5e1/train.csv\")\n",
    "train.date = pd.to_datetime(train.date)\n",
    "print(\"Train shape:\", train.shape )\n",
    "train.head()"
   ]
  },
  {
   "cell_type": "markdown",
   "id": "25ea",
   "metadata": {},
   "source": [
    "# Download GDP\n",
    "We download GDP per country as explained in discussion [here][1]\n",
    "\n",
    "[1]: https://www.kaggle.com/competitions/playground-series-s5e1/discussion/554349"
   ]
  },
  {
   "cell_type": "code",
   "execution_count": null,
   "id": "7904",
   "metadata": {
    "execution": {
     "iopub.execute_input": "2025-01-24T05:11:01.146752Z",
     "iopub.status.busy": "2025-01-24T05:11:01.146525Z",
     "iopub.status.idle": "2025-01-24T05:11:05.439776Z",
     "shell.execute_reply": "2025-01-24T05:11:05.438828Z",
     "shell.execute_reply.started": "2025-01-24T05:11:01.146732Z"
    }
   },
   "outputs": [],
   "source": [
    "import requests \n",
    "def get_gdp_per_capita(alpha3, year):\n",
    "    url='https://api.worldbank.org/v2/country/{0}/indicator/NY.GDP.PCAP.CD?date={1}&format=json'\n",
    "    response = requests.get(url.format(alpha3,year)).json()\n",
    "    return response[1][0]['value']\n",
    "\n",
    "alpha3s = ['CAN', 'FIN', 'ITA', 'KEN', 'NOR', 'SGP']\n",
    "train['alpha3'] = train['country'].map(dict(zip(\n",
    "    np.sort(train['country'].unique()), alpha3s)))\n",
    "years = np.sort(train['date'].dt.year.unique())\n",
    "train['year'] = train['date'].dt.year\n",
    "if USE_INTERNET:\n",
    "    gdp = np.array([\n",
    "        [get_gdp_per_capita(alpha3, year) for year in years]\n",
    "        for alpha3 in alpha3s\n",
    "    ])\n",
    "    gdp = pd.DataFrame(gdp, index=alpha3s, columns=years)\n",
    "else:\n",
    "    gdp = pd.read_csv(f\"{PATH}gdp0.csv\")\n",
    "    gdp = gdp.set_index(\"Unnamed: 0\")\n",
    "    gdp = gdp.rename(columns=lambda x: int(x))\n",
    "train['GDP'] = train.apply(lambda s: gdp.loc[s['alpha3'], s['year']], axis=1)\n",
    "train = train.drop(['alpha3','year'],axis=1)\n",
    "train.head()"
   ]
  },
  {
   "cell_type": "markdown",
   "id": "3adb",
   "metadata": {},
   "source": [
    "# Standardize with GDP and Store Ratio\n",
    "We now divide each `num_sold` by it's countries GDP, this normalizes all the `num_sold` and makes different countries have similar values so we can use all the data together to train our model. We also normalize per store by dividing by each store's percentage of total sales.\n",
    "\n",
    "After these two normalizations, then all 18 country store combinations will have `num_sold` values that are similar and we can train with everything together."
   ]
  },
  {
   "cell_type": "code",
   "execution_count": null,
   "id": "8f4f",
   "metadata": {
    "execution": {
     "iopub.execute_input": "2025-01-24T05:11:05.442303Z",
     "iopub.status.busy": "2025-01-24T05:11:05.442027Z",
     "iopub.status.idle": "2025-01-24T05:11:05.502148Z",
     "shell.execute_reply": "2025-01-24T05:11:05.501519Z",
     "shell.execute_reply.started": "2025-01-24T05:11:05.442272Z"
    }
   },
   "outputs": [],
   "source": [
    "train[\"num_sold\"] /= train[\"GDP\"]\n",
    "store_ratio = train.groupby(\"store\").num_sold.mean().to_dict()\n",
    "train[\"store_ratio\"] = train.store.map(store_ratio)\n",
    "train[\"num_sold\"] /= train[\"store_ratio\"]"
   ]
  },
  {
   "cell_type": "markdown",
   "id": "9afc",
   "metadata": {},
   "source": [
    "# Create Train Data (standardize with mean and std)\n",
    "We will standarize all time series by subtracting mean and dividing by standard deviation for training (to get mean=0 and std=1). Additionally we multiply Kenya by 1.15 because even after GDP normalization (in above code cell), Kenya predictions are lower than other countries. \n",
    "\n",
    "Later, after making test predictions, we reverse this by dividing Kenya predictions by 1.15 in code cell #15. And we reverse standardization by multiplying by standard deviation and adding mean (which we save now for later)."
   ]
  },
  {
   "cell_type": "code",
   "execution_count": null,
   "id": "a62b",
   "metadata": {
    "execution": {
     "iopub.execute_input": "2025-01-24T05:11:05.503926Z",
     "iopub.status.busy": "2025-01-24T05:11:05.503608Z",
     "iopub.status.idle": "2025-01-24T05:11:15.469622Z",
     "shell.execute_reply": "2025-01-24T05:11:15.468776Z",
     "shell.execute_reply.started": "2025-01-24T05:11:05.503896Z"
    }
   },
   "outputs": [],
   "source": [
    "C = list( train.country.unique() )\n",
    "S = list( train.store.unique() )\n",
    "P = list( train[\"product\"].unique() )\n",
    "print(\"Countries:\", C )\n",
    "print(\"Stores:\", S )\n",
    "print(\"Products:\", P)\n",
    "\n",
    "# DATA IS PRODUCT X 7 YEARS X STORE+COUNTRY\n",
    "data = np.zeros( (5,2557,18) )\n",
    "for i in range(5):\n",
    "    for j in range(3):\n",
    "        for k in range(6):\n",
    "            f = 1 \n",
    "            if k==3: f=1.15 # FUDGE FACTOR FOR KENYA\n",
    "            df = train.loc[(train.country==C[k])&(train.store==S[j])&(train[\"product\"]==P[i])].copy()\n",
    "            data[i,:,j*6+k] = df[\"num_sold\"].values*f\n",
    "\n",
    "# COMPUTE MEANS AND STDS\n",
    "means = {}; stds = {}\n",
    "for k in range(5):\n",
    "    m = np.nanmean( data[k,:,:] )\n",
    "    s = np.nanstd( data[k,:,:] )\n",
    "    means[k]=m; stds[k]=s\n",
    "\n",
    "# PLOT ALL TIME SERIES DATA\n",
    "for i in range(5):\n",
    "    plt.figure(figsize=(10,5))\n",
    "    for j in range(3):\n",
    "        for k in range(6):\n",
    "            f = 1\n",
    "            if k==3: f=1.15\n",
    "            df = train.loc[(train.country==C[k])&(train.store==S[j])&(train[\"product\"]==P[i])].copy()\n",
    "            df[\"smooth_sold\"] = df[\"num_sold\"].rolling(window=180).mean()\n",
    "            m = means[i]; s = stds[i]\n",
    "            plt.plot(df[\"date\"], (df[\"smooth_sold\"]*f-m)/s )\n",
    "            data[i,:,j*6+k] = (df[\"num_sold\"].values*f-m)/s\n",
    "    plt.title(f\"Product = {P[i]}, All 18 Country Store Pairs smoothed and standardized.\",size=10)\n",
    "    plt.show()"
   ]
  },
  {
   "cell_type": "markdown",
   "id": "bfa3",
   "metadata": {},
   "source": [
    "# Data Loader\n",
    "We will make a dataloader to train our Transformer NN. This can be improved. Currently we just take 32x1024 `random crops` from the train data per epoch. We avoid outputting samples where target contains NAN."
   ]
  },
  {
   "cell_type": "code",
   "execution_count": null,
   "id": "3c78",
   "metadata": {
    "execution": {
     "iopub.execute_input": "2025-01-24T05:11:15.470872Z",
     "iopub.status.busy": "2025-01-24T05:11:15.470503Z",
     "iopub.status.idle": "2025-01-24T05:11:28.50883Z",
     "shell.execute_reply": "2025-01-24T05:11:28.508161Z",
     "shell.execute_reply.started": "2025-01-24T05:11:15.470836Z"
    }
   },
   "outputs": [],
   "source": [
    "import tensorflow as tf\n",
    "\n",
    "class DataGenerator(tf.keras.utils.Sequence):\n",
    "    'Generates data for Keras'\n",
    "    def __init__(self, data, batch_size=32, shuffle=False, product=0, f_length=768, t_length=32): \n",
    "\n",
    "        self.data = np.expand_dims(data,axis=-1)\n",
    "        nans = np.isnan(self.data).astype('float32')\n",
    "        self.data = np.concatenate([self.data,nans],axis=-1)\n",
    "        \n",
    "        self.batch_size = batch_size\n",
    "        self.shuffle = shuffle\n",
    "        self.product = product\n",
    "        self.f_length = f_length\n",
    "        self.t_length = t_length\n",
    "        self.on_epoch_end()\n",
    "        \n",
    "    def __len__(self):\n",
    "        'Denotes the number of batches per epoch'\n",
    "        ct = int(np.ceil(32*1024/self.batch_size))\n",
    "        return ct\n",
    "\n",
    "    def __getitem__(self, index):\n",
    "        'Generate one batch of data'\n",
    "        indexes = self.indexes[index*self.batch_size:(index+1)*self.batch_size]\n",
    "        X, y = self.__data_generation(indexes)\n",
    "        return X, y\n",
    "\n",
    "    def on_epoch_end(self):\n",
    "        'Updates indexes after each epoch'\n",
    "        self.indexes = np.arange( 32*1024 )\n",
    "        if self.shuffle: np.random.shuffle(self.indexes)\n",
    "                        \n",
    "    def __data_generation(self, indexes):\n",
    "        'Generates data containing batch_size samples' \n",
    "    \n",
    "        SIZE = self.f_length\n",
    "        TARGET = self.t_length\n",
    "        X = np.zeros((len(indexes),SIZE,2),dtype='float32')\n",
    "        y = np.zeros((len(indexes),TARGET),dtype='float32')\n",
    "        \n",
    "        for k in range(len(indexes)):\n",
    "            r = np.random.randint(0,self.data.shape[2])\n",
    "            a = np.random.randint(0,self.data.shape[1]-SIZE-TARGET)\n",
    "            y[k,:] = self.data[self.product,a+SIZE:a+SIZE+TARGET,r,0]\n",
    "            while np.isnan(y[k,:]).sum()>0:\n",
    "                r = np.random.randint(0,self.data.shape[2])\n",
    "                a = np.random.randint(0,self.data.shape[1]-SIZE-TARGET)\n",
    "                y[k,:] = self.data[self.product,a+SIZE:a+SIZE+TARGET,r,0]\n",
    "            X[k,:,:] = self.data[self.product,a:a+SIZE,r,:]\n",
    "\n",
    "        return np.nan_to_num(X),np.nan_to_num(y)"
   ]
  },
  {
   "cell_type": "code",
   "execution_count": null,
   "id": "89eb",
   "metadata": {
    "execution": {
     "iopub.execute_input": "2025-01-24T05:11:28.510107Z",
     "iopub.status.busy": "2025-01-24T05:11:28.509582Z",
     "iopub.status.idle": "2025-01-24T05:11:29.486851Z",
     "shell.execute_reply": "2025-01-24T05:11:29.485997Z",
     "shell.execute_reply.started": "2025-01-24T05:11:28.510084Z"
    }
   },
   "outputs": [],
   "source": [
    "# DISPLAY DATA LOADER\n",
    "gen = DataGenerator(data, shuffle=False, f_length=LEN, product=PROD)\n",
    "for x,y in gen:\n",
    "    for k in range(4):\n",
    "        plt.figure(figsize=(20,5))\n",
    "        LN = x.shape[1]\n",
    "        LN2 = y.shape[1]\n",
    "        plt.plot(np.arange(LN),x[k,:,0],label='features')\n",
    "        plt.plot(np.arange(LN2)+LN,y[k,:],label='target')\n",
    "        plt.legend()\n",
    "        plt.title(f\"Product = {P[PROD]}. Sample Dataloader.\",size=14)\n",
    "        plt.show()\n",
    "    break"
   ]
  },
  {
   "cell_type": "markdown",
   "id": "ce60",
   "metadata": {},
   "source": [
    "# Train Schedule\n",
    "We use cosine learning schedule and train our transformer for 10 epochs."
   ]
  },
  {
   "cell_type": "code",
   "execution_count": null,
   "id": "a79d",
   "metadata": {
    "execution": {
     "iopub.execute_input": "2025-01-24T05:14:35.794403Z",
     "iopub.status.busy": "2025-01-24T05:14:35.794055Z",
     "iopub.status.idle": "2025-01-24T05:14:35.961865Z",
     "shell.execute_reply": "2025-01-24T05:14:35.960767Z",
     "shell.execute_reply.started": "2025-01-24T05:14:35.794373Z"
    }
   },
   "outputs": [],
   "source": [
    "import math, numpy as np\n",
    "import matplotlib.pyplot as plt\n",
    "import tensorflow as tf\n",
    "\n",
    "LR_START = 1e-6\n",
    "LR_MAX = 1e-3\n",
    "LR_MIN = 1e-6\n",
    "LR_RAMPUP_EPOCHS = 0\n",
    "LR_SUSTAIN_EPOCHS = 0\n",
    "EPOCHS = 10\n",
    "\n",
    "def lrfn(epoch):\n",
    "    if epoch < LR_RAMPUP_EPOCHS:\n",
    "        lr = (LR_MAX - LR_START) / LR_RAMPUP_EPOCHS * epoch + LR_START\n",
    "    elif epoch < LR_RAMPUP_EPOCHS + LR_SUSTAIN_EPOCHS:\n",
    "        lr = LR_MAX\n",
    "    else:\n",
    "        decay_total_epochs = EPOCHS - LR_RAMPUP_EPOCHS - LR_SUSTAIN_EPOCHS - 1\n",
    "        decay_epoch_index = epoch - LR_RAMPUP_EPOCHS - LR_SUSTAIN_EPOCHS\n",
    "        phase = math.pi * decay_epoch_index / decay_total_epochs\n",
    "        cosine_decay = 0.5 * (1 + math.cos(phase))\n",
    "        lr = (LR_MAX - LR_MIN) * cosine_decay + LR_MIN\n",
    "    return lr\n",
    "\n",
    "rng = [i for i in range(EPOCHS)]\n",
    "lr_y = [lrfn(x) for x in rng]\n",
    "plt.figure(figsize=(10, 4))\n",
    "plt.plot(rng, lr_y, '-o')\n",
    "plt.xlabel('Epoch'); plt.ylabel('LR')\n",
    "print(\"Learning rate schedule: {:.3g} to {:.3g} to {:.3g}\". \\\n",
    "      format(lr_y[0], max(lr_y), lr_y[-1]))\n",
    "LR = tf.keras.callbacks.LearningRateScheduler(lrfn, verbose = True)"
   ]
  },
  {
   "cell_type": "markdown",
   "id": "99ef",
   "metadata": {},
   "source": [
    "# Build Transformer Layers\n",
    "This code is from my gold medal solution to Brain comp [here][1] with discussion [here][2]\n",
    "\n",
    "[1]: https://www.kaggle.com/code/cdeotte/11th-place-gold-cv-835-public-lb-788\n",
    "[2]: https://www.kaggle.com/competitions/child-mind-institute-detect-sleep-states/discussion/459596"
   ]
  },
  {
   "cell_type": "code",
   "execution_count": null,
   "id": "a869",
   "metadata": {
    "execution": {
     "iopub.execute_input": "2025-01-24T05:11:29.65808Z",
     "iopub.status.busy": "2025-01-24T05:11:29.657833Z",
     "iopub.status.idle": "2025-01-24T05:11:29.665236Z",
     "shell.execute_reply": "2025-01-24T05:11:29.664564Z",
     "shell.execute_reply.started": "2025-01-24T05:11:29.658058Z"
    }
   },
   "outputs": [],
   "source": [
    "import tensorflow.keras.backend as K\n",
    "from tensorflow import keras\n",
    "from tensorflow.keras import layers\n",
    "print(\"Tensorflow version\",tf.__version__)"
   ]
  },
  {
   "cell_type": "code",
   "execution_count": null,
   "id": "3db0",
   "metadata": {
    "execution": {
     "iopub.execute_input": "2025-01-24T05:11:29.666387Z",
     "iopub.status.busy": "2025-01-24T05:11:29.66606Z",
     "iopub.status.idle": "2025-01-24T05:11:29.680879Z",
     "shell.execute_reply": "2025-01-24T05:11:29.680193Z",
     "shell.execute_reply.started": "2025-01-24T05:11:29.666356Z"
    }
   },
   "outputs": [],
   "source": [
    "class TransformerBlock(layers.Layer):\n",
    "    def __init__(self, embed_dim, feat_dim, num_heads, ff_dim, rate=0.1):\n",
    "        super(TransformerBlock, self).__init__()\n",
    "        self.att = layers.MultiHeadAttention(num_heads=num_heads, key_dim=embed_dim)\n",
    "        self.ffn = keras.Sequential(\n",
    "            [layers.Dense(ff_dim, activation=\"gelu\"), layers.Dense(feat_dim)]\n",
    "        )\n",
    "        self.layernorm1 = layers.LayerNormalization(epsilon=1e-6)\n",
    "        self.layernorm2 = layers.LayerNormalization(epsilon=1e-6)\n",
    "        self.dropout1 = layers.Dropout(rate)\n",
    "        self.dropout2 = layers.Dropout(rate)\n",
    "\n",
    "    def call(self, inputs, training=None):  \n",
    "        attn_output = self.att(inputs, inputs, training=training)  \n",
    "        attn_output = self.dropout1(attn_output, training=training)  \n",
    "        out1 = self.layernorm1(inputs + attn_output)\n",
    "        ffn_output = self.ffn(out1)\n",
    "        ffn_output = self.dropout2(ffn_output, training=training)  \n",
    "        return self.layernorm2(out1 + ffn_output)"
   ]
  },
  {
   "cell_type": "code",
   "execution_count": null,
   "id": "7c6e",
   "metadata": {
    "execution": {
     "iopub.execute_input": "2025-01-24T05:11:29.681836Z",
     "iopub.status.busy": "2025-01-24T05:11:29.681629Z",
     "iopub.status.idle": "2025-01-24T05:11:29.701272Z",
     "shell.execute_reply": "2025-01-24T05:11:29.700603Z",
     "shell.execute_reply.started": "2025-01-24T05:11:29.681817Z"
    }
   },
   "outputs": [],
   "source": [
    "def positional_encoding(maxlen, num_hid):\n",
    "        depth = num_hid/2\n",
    "        positions = tf.range(maxlen, dtype = tf.float32)[..., tf.newaxis]\n",
    "        depths = tf.range(depth, dtype = tf.float32)[np.newaxis, :]/depth\n",
    "        angle_rates = tf.math.divide(1, tf.math.pow(tf.cast(10000, tf.float32), depths))\n",
    "        angle_rads = tf.linalg.matmul(positions, angle_rates)\n",
    "        pos_encoding = tf.concat(\n",
    "          [tf.math.sin(angle_rads), tf.math.cos(angle_rads)],\n",
    "          axis=-1)\n",
    "        return pos_encoding"
   ]
  },
  {
   "cell_type": "markdown",
   "id": "62a1",
   "metadata": {},
   "source": [
    "# Build WaveNet Layers\n",
    "We will use WaveNet layers to extract features for our transformer layers. This code is from my gold medal solution to Brain comp [here][1] with discussion [here][2]\n",
    "\n",
    "[1]: https://www.kaggle.com/code/cdeotte/11th-place-gold-cv-835-public-lb-788\n",
    "[2]: https://www.kaggle.com/competitions/child-mind-institute-detect-sleep-states/discussion/459596"
   ]
  },
  {
   "cell_type": "code",
   "execution_count": null,
   "id": "dfa6",
   "metadata": {
    "execution": {
     "iopub.execute_input": "2025-01-24T05:11:29.702465Z",
     "iopub.status.busy": "2025-01-24T05:11:29.702131Z",
     "iopub.status.idle": "2025-01-24T05:11:29.719029Z",
     "shell.execute_reply": "2025-01-24T05:11:29.718288Z",
     "shell.execute_reply.started": "2025-01-24T05:11:29.702434Z"
    }
   },
   "outputs": [],
   "source": [
    "from tensorflow.keras.layers import Input, Dense, Multiply, Add, Conv1D, Concatenate\n",
    "\n",
    "def wave_block(x, filters, kernel_size, n):\n",
    "    dilation_rates = [2**i for i in range(n)]\n",
    "    x = Conv1D(filters = filters,\n",
    "               kernel_size = 1,\n",
    "               padding = 'same')(x)\n",
    "    res_x = x\n",
    "    for dilation_rate in dilation_rates:\n",
    "        tanh_out = Conv1D(filters = filters,\n",
    "                          kernel_size = kernel_size,\n",
    "                          padding = 'same', \n",
    "                          activation = 'tanh', \n",
    "                          dilation_rate = dilation_rate)(x)\n",
    "        sigm_out = Conv1D(filters = filters,\n",
    "                          kernel_size = kernel_size,\n",
    "                          padding = 'same',\n",
    "                          activation = 'sigmoid', \n",
    "                          dilation_rate = dilation_rate)(x)\n",
    "        x = Multiply()([tanh_out, sigm_out])\n",
    "        x = Conv1D(filters = filters,\n",
    "                   kernel_size = 1,\n",
    "                   padding = 'same')(x)\n",
    "        res_x = Add()([res_x, x])\n",
    "    return res_x"
   ]
  },
  {
   "cell_type": "markdown",
   "id": "2d84",
   "metadata": {},
   "source": [
    "# Build Transformer Model\n",
    "This model is based on my model from gold medal solution to Brain comp [here][1] with discussion [here][2]\n",
    "\n",
    "[1]: https://www.kaggle.com/code/cdeotte/11th-place-gold-cv-835-public-lb-788\n",
    "[2]: https://www.kaggle.com/competitions/child-mind-institute-detect-sleep-states/discussion/459596"
   ]
  },
  {
   "cell_type": "code",
   "execution_count": null,
   "id": "e2ac",
   "metadata": {
    "execution": {
     "iopub.execute_input": "2025-01-24T05:11:29.722465Z",
     "iopub.status.busy": "2025-01-24T05:11:29.722216Z",
     "iopub.status.idle": "2025-01-24T05:11:29.738737Z",
     "shell.execute_reply": "2025-01-24T05:11:29.737952Z",
     "shell.execute_reply.started": "2025-01-24T05:11:29.722447Z"
    }
   },
   "outputs": [],
   "source": [
    "feat_dim = 16 \n",
    "embed_dim = 32  \n",
    "num_heads = 4  \n",
    "ff_dim = 64\n",
    "dropout_rate = 0.0\n",
    "num_blocks = 3\n",
    "\n",
    "def build_model():\n",
    "        \n",
    "    # INPUT \n",
    "    inp = tf.keras.Input(shape=(LEN,2))\n",
    "    \n",
    "    # POSITIONAL ENCODING\n",
    "    x = layers.Dense(feat_dim)(inp)\n",
    "    p = positional_encoding(1440,feat_dim)\n",
    "    x = x + p\n",
    "    \n",
    "    # THREE BLOCKS of WAVENET and TRANSFORMER\n",
    "    for k in range(num_blocks):\n",
    "        skip = x\n",
    "        x = wave_block(x, feat_dim, 3, 12)\n",
    "        x = wave_block(x, feat_dim, 3, 12)\n",
    "        x = TransformerBlock(embed_dim, feat_dim, num_heads, ff_dim, dropout_rate)(x)\n",
    "        x = 0.9*x + 0.1*skip \n",
    "\n",
    "    # HEAD\n",
    "    x = tf.keras.layers.GlobalAveragePooling1D()(x)\n",
    "    x = tf.keras.layers.Dense(64, activation='relu')(x)\n",
    "    x = tf.keras.layers.Dense(32,activation='linear', dtype='float32')(x)\n",
    "    \n",
    "    # COMPILE MODEL\n",
    "    model = tf.keras.Model(inputs=inp, outputs=x)\n",
    "    opt = tf.keras.optimizers.Adam(learning_rate = 1e-3)\n",
    "    loss = tf.keras.losses.MeanSquaredError()\n",
    "    model.compile(loss=loss, optimizer = opt)\n",
    "    \n",
    "    return model"
   ]
  },
  {
   "cell_type": "markdown",
   "id": "5644",
   "metadata": {},
   "source": [
    "# Initialize GPUs\n",
    "We will use both 2x T4 Kaggle GPUs. And we will enable mixed precision. This will speed up training."
   ]
  },
  {
   "cell_type": "code",
   "execution_count": null,
   "id": "eb68",
   "metadata": {
    "execution": {
     "iopub.execute_input": "2025-01-24T05:11:29.739947Z",
     "iopub.status.busy": "2025-01-24T05:11:29.73975Z",
     "iopub.status.idle": "2025-01-24T05:11:30.952882Z",
     "shell.execute_reply": "2025-01-24T05:11:30.951957Z",
     "shell.execute_reply.started": "2025-01-24T05:11:29.739929Z"
    }
   },
   "outputs": [],
   "source": [
    "import os\n",
    "os.environ[\"CUDA_VISIBLE_DEVICES\"]=\"0,1\"\n",
    "import tensorflow as tf\n",
    "print('TensorFlow version =',tf.__version__)\n",
    "\n",
    "# USE MULTIPLE GPUS\n",
    "gpus = tf.config.list_physical_devices('GPU')\n",
    "if len(gpus)<=1: \n",
    "    strategy = tf.distribute.OneDeviceStrategy(device=\"/gpu:0\")\n",
    "    print(f'Using {len(gpus)} GPU')\n",
    "else: \n",
    "    strategy = tf.distribute.MirroredStrategy()\n",
    "    print(f'Using {len(gpus)} GPUs')"
   ]
  },
  {
   "cell_type": "code",
   "execution_count": null,
   "id": "df77",
   "metadata": {
    "execution": {
     "iopub.execute_input": "2025-01-24T05:11:30.954127Z",
     "iopub.status.busy": "2025-01-24T05:11:30.953804Z",
     "iopub.status.idle": "2025-01-24T05:11:30.960758Z",
     "shell.execute_reply": "2025-01-24T05:11:30.959959Z",
     "shell.execute_reply.started": "2025-01-24T05:11:30.954094Z"
    }
   },
   "outputs": [],
   "source": [
    "# USE MIXED PRECISION\n",
    "from tensorflow.keras.mixed_precision import set_global_policy\n",
    "\n",
    "policy = 'mixed_float16'\n",
    "set_global_policy(policy)\n",
    "print(f\"Mixed precision policy set to: {policy}\")"
   ]
  },
  {
   "cell_type": "markdown",
   "id": "0a6e",
   "metadata": {},
   "source": [
    "# Train Model\n",
    "We train without proper validation. The validation data overlaps the train data. We need to update this to proper validation. One way to create a non-overlapping train and valid data is to use 6 KFolds. During each of the 6 folds, we train with 5 countries and validate on the other 1 country. This is not a time series cross validation but it could work here and allow us to use maximum time data to train our models."
   ]
  },
  {
   "cell_type": "code",
   "execution_count": null,
   "id": "3506",
   "metadata": {
    "collapsed": true,
    "execution": {
     "iopub.execute_input": "2025-01-24T05:11:30.961681Z",
     "iopub.status.busy": "2025-01-24T05:11:30.961486Z",
     "iopub.status.idle": "2025-01-24T05:14:04.918498Z",
     "shell.execute_reply": "2025-01-24T05:14:04.917095Z",
     "shell.execute_reply.started": "2025-01-24T05:11:30.961663Z"
    },
    "jupyter": {
     "outputs_hidden": true
    }
   },
   "outputs": [],
   "source": [
    "os.makedirs(f'models_v{VER}', exist_ok=True)\n",
    "\n",
    "train_gen = DataGenerator(data, shuffle=True, batch_size=64, f_length=LEN, product=PROD)\n",
    "valid_gen = DataGenerator(data, shuffle=False, batch_size=128, f_length=LEN, product=PROD)\n",
    "\n",
    "with strategy.scope():\n",
    "    model = build_model()\n",
    "if TRAIN_MODEL:\n",
    "    model.fit(train_gen, verbose=1,\n",
    "          validation_data = valid_gen,\n",
    "          epochs=EPOCHS, callbacks = [LR])\n",
    "    model.save_weights(f'models_v{VER}/model_v{VER}_p{PROD}.weights.h5')\n",
    "else:\n",
    "    model.load_weights(f'{PATH}model_v{VER}_p{PROD}.weights.h5')"
   ]
  },
  {
   "cell_type": "markdown",
   "id": "f286",
   "metadata": {},
   "source": [
    "# Predict Test\n",
    "We predict and display predictions. We iterate over each country store pair. Train data was standardized so test predictions will be standarized. We will \"un-standardize\" test predictions below.\n",
    "\n",
    "We predict using `auto regression`. Our model predicts 32 days into the future. Then we use those predictions together with train data to predict another 32 days into the future. We repeat this process 35 times to predict 3 years into the future."
   ]
  },
  {
   "cell_type": "code",
   "execution_count": null,
   "id": "9f2b",
   "metadata": {
    "execution": {
     "iopub.status.busy": "2025-01-24T05:14:04.919344Z",
     "iopub.status.idle": "2025-01-24T05:14:04.919784Z",
     "shell.execute_reply": "2025-01-24T05:14:04.919591Z"
    }
   },
   "outputs": [],
   "source": [
    "# ADD NAN INDICATOR FEATURE TO DATA\n",
    "data = np.expand_dims(data,axis=-1)\n",
    "nans = np.isnan(data).astype('float32')\n",
    "data = np.concatenate([data,nans],axis=-1)"
   ]
  },
  {
   "cell_type": "code",
   "execution_count": null,
   "id": "dcd6",
   "metadata": {
    "execution": {
     "iopub.status.busy": "2025-01-24T05:14:04.920564Z",
     "iopub.status.idle": "2025-01-24T05:14:04.920904Z",
     "shell.execute_reply": "2025-01-24T05:14:04.920775Z"
    }
   },
   "outputs": [],
   "source": [
    "preds = np.zeros((18,32*35))\n",
    "\n",
    "# ITERATE OVER ALL COMBINATIONS OF COUNTRY AND STORE FOR SPECIFIC PRODUCT\n",
    "# PREDICT 3 YEARS INTO THE FUTURE\n",
    "\n",
    "bad_rows = []\n",
    "for jj in range(18):\n",
    "    ddd0 = data[PROD:PROD+1,-LEN:,jj,:].copy()\n",
    "    if np.isnan(ddd0[:,:,0]).sum()==LEN:\n",
    "        bad_rows.append(jj)\n",
    "    \n",
    "    pp = []\n",
    "    for j in range(0,35):\n",
    "        print(j,\", \",end=\"\")\n",
    "        if j==0: dd2 = ddd0\n",
    "        else: dd2 = np.concatenate([ddd0[:,32*j:,:]]+pp,axis=1) \n",
    "        p2 = model.predict( np.nan_to_num(dd2[:,-LEN:,:]) ,verbose=0)\n",
    "        p2 = p2.reshape((1,32,1)) # ADD NAN INDICATOR TO PREDICTIONS\n",
    "        p2 = np.concatenate([p2,np.zeros_like(p2)],axis=-1)\n",
    "        pp.append(p2)\n",
    "        if j==34:\n",
    "            print()\n",
    "            plt.figure(figsize=(20,5))\n",
    "            plt.plot(np.arange(LEN), np.nan_to_num(ddd0[0,:,0]) )\n",
    "            for k in range(j+1):\n",
    "                plt.plot(np.arange(32)+LEN+32*k,pp[k][0,:,0])\n",
    "            cc = C[jj%6]\n",
    "            ss = S[jj//6]\n",
    "            plt.title(f\"Product={P[PROD]}, Country={cc}, Store={ss}\",size=16)\n",
    "            plt.show()\n",
    "            \n",
    "    preds[jj,:] = np.concatenate([z[:,:,:1] for z in pp],axis=1).flatten() "
   ]
  },
  {
   "cell_type": "markdown",
   "id": "3b75",
   "metadata": {},
   "source": [
    "# Reverse Standardize\n",
    "We standarized the train data by minus mean divide std. So now before we can submit predictions, we need to reverse this with multiply std and add mean to preds. Also we need to reverse our Kenya fudge factor. When all train features are NAN, we convert predictions to the average prediction."
   ]
  },
  {
   "cell_type": "code",
   "execution_count": null,
   "id": "ffc3",
   "metadata": {
    "execution": {
     "iopub.status.busy": "2025-01-24T05:14:04.921649Z",
     "iopub.status.idle": "2025-01-24T05:14:04.921931Z",
     "shell.execute_reply": "2025-01-24T05:14:04.921796Z"
    }
   },
   "outputs": [],
   "source": [
    "# FILLNAN PREDS\n",
    "FILLNAN = np.nanmean(preds,axis=0)\n",
    "for r in bad_rows:\n",
    "    preds[r,:] = FILLNAN\n",
    "\n",
    "# REVERSE STANDARIZE PREDICTIONS AND FIX KENYA\n",
    "preds = (preds*stds[PROD])+means[PROD]\n",
    "for i in [3,9,15]: preds[i,:] = preds[i,:]/1.15"
   ]
  },
  {
   "cell_type": "markdown",
   "id": "2b2f",
   "metadata": {},
   "source": [
    "# Create Submission File"
   ]
  },
  {
   "cell_type": "code",
   "execution_count": null,
   "id": "1145",
   "metadata": {
    "execution": {
     "iopub.status.busy": "2025-01-24T05:14:04.922439Z",
     "iopub.status.idle": "2025-01-24T05:14:04.922772Z",
     "shell.execute_reply": "2025-01-24T05:14:04.922652Z"
    }
   },
   "outputs": [],
   "source": [
    "if PROD==0:\n",
    "    test = pd.read_csv(\"./input/playground-series-s5e1/test.csv\")\n",
    "    test.date = pd.to_datetime(test.date)\n",
    "    test['alpha3'] = test['country'].map(dict(zip(\n",
    "        np.sort(test['country'].unique()), alpha3s)))\n",
    "    years = np.sort(test['date'].dt.year.unique())\n",
    "    test['year'] = test['date'].dt.year\n",
    "    if USE_INTERNET:\n",
    "        gdp = np.array([\n",
    "            [get_gdp_per_capita(alpha3, year) for year in years]\n",
    "            for alpha3 in alpha3s\n",
    "        ])\n",
    "        gdp1 = pd.DataFrame(gdp, index=alpha3s, columns=years)\n",
    "    else:\n",
    "        gdp1 = pd.read_csv(f\"{PATH}gdp1.csv\")\n",
    "        gdp1 = gdp1.set_index(\"Unnamed: 0\")\n",
    "        gdp1 = gdp1.rename(columns=lambda x: int(x))\n",
    "    test['GDP'] = test.apply(lambda s: gdp1.loc[s['alpha3'], s['year']], axis=1)\n",
    "    test[\"num_sold\"] = 0.0\n",
    "else:\n",
    "    test = pd.read_csv(f\"test_v{VER}_p{PROD-1}.csv\")\n",
    "    test.date = pd.to_datetime(test.date)"
   ]
  },
  {
   "cell_type": "markdown",
   "id": "0339",
   "metadata": {},
   "source": [
    "# Reverse GDP, Store Ratio\n",
    "We divided train by GDP and divided train by Store Ratio, so we need to reverse this and multiple test by GDP and multiply test by Store Ratio"
   ]
  },
  {
   "cell_type": "code",
   "execution_count": null,
   "id": "cefb",
   "metadata": {
    "execution": {
     "iopub.status.busy": "2025-01-24T05:14:04.923399Z",
     "iopub.status.idle": "2025-01-24T05:14:04.923744Z",
     "shell.execute_reply": "2025-01-24T05:14:04.923627Z"
    }
   },
   "outputs": [],
   "source": [
    "for i in range(3):\n",
    "    for j in range(6):\n",
    "        test.loc[(test['product']==P[PROD])&(test.store==S[i])&(test.country==C[j]),'num_sold'] =\\\n",
    "            preds[i*6+j,:1095]\n",
    "test[\"store_ratio\"] = test.store.map(store_ratio)\n",
    "test.loc[test['product']==P[PROD],\"num_sold\"] =\\\n",
    "    test.loc[test['product']==P[PROD],\"num_sold\"] * test.loc[test['product']==P[PROD],\"GDP\"]\n",
    "test.loc[test['product']==P[PROD],\"num_sold\"] =\\\n",
    "    test.loc[test['product']==P[PROD],\"num_sold\"] * test.loc[test['product']==P[PROD],\"store_ratio\"]\n",
    "\n",
    "print( test.shape )\n",
    "display( test.head() )"
   ]
  },
  {
   "cell_type": "markdown",
   "id": "9886",
   "metadata": {},
   "source": [
    "# Display Test Predictions\n",
    "These are train and test data without any standardization."
   ]
  },
  {
   "cell_type": "code",
   "execution_count": null,
   "id": "ffa1",
   "metadata": {
    "execution": {
     "iopub.status.busy": "2025-01-24T05:14:04.924454Z",
     "iopub.status.idle": "2025-01-24T05:14:04.924739Z",
     "shell.execute_reply": "2025-01-24T05:14:04.924598Z"
    }
   },
   "outputs": [],
   "source": [
    "for ss in range(3):\n",
    "    for cc in range(6):\n",
    "        df1 = train.loc[(train.country==C[cc])&(train['product']==P[PROD])&(train.store==S[ss])]\n",
    "        df2 = test.loc[(test.country==C[cc])&(test['product']==P[PROD])&(test.store==S[ss])]\n",
    "\n",
    "        plt.figure(figsize=(20,5))\n",
    "        tmp = df1.num_sold * df1.GDP * df1.store_ratio\n",
    "        tmp.iloc[0] = np.nan_to_num( tmp.iloc[0] )\n",
    "        plt.plot(np.arange(len(df1)), tmp )\n",
    "        plt.plot(np.arange(len(df2))+len(df1),df2.num_sold)\n",
    "        plt.title(f\"Product={P[PROD]}, Country={cc}, Store={ss}\",size=14)\n",
    "        plt.show()"
   ]
  },
  {
   "cell_type": "markdown",
   "id": "6fee",
   "metadata": {},
   "source": [
    "# Write Partial Submission CSV\n",
    "We run this notebook 5 times with `PROD = 0,1,2,3,4`. The first 4 times write intermediate files. The last 5th time will write our `submission.csv` file to submit to competition."
   ]
  },
  {
   "cell_type": "code",
   "execution_count": null,
   "id": "b716",
   "metadata": {
    "execution": {
     "iopub.status.busy": "2025-01-24T05:14:04.925386Z",
     "iopub.status.idle": "2025-01-24T05:14:04.925729Z",
     "shell.execute_reply": "2025-01-24T05:14:04.925594Z"
    }
   },
   "outputs": [],
   "source": [
    "# DELETE THIS IF YOU RUN THIS NOTEBOOK 5 TIMES AND MAKE YOUR OWN SUBMISSION.CSV\n",
    "if PROD!=4:\n",
    "    os.system(f\"cp {PATH}submission_v1.csv submission_v1.csv\")"
   ]
  },
  {
   "cell_type": "code",
   "execution_count": null,
   "id": "e142",
   "metadata": {
    "execution": {
     "iopub.status.busy": "2025-01-24T05:14:04.926353Z",
     "iopub.status.idle": "2025-01-24T05:14:04.926691Z",
     "shell.execute_reply": "2025-01-24T05:14:04.926566Z"
    }
   },
   "outputs": [],
   "source": [
    "if PROD<4:\n",
    "    test.to_csv(f\"test_v{VER}_p{PROD}.csv\",index=False)\n",
    "    print(f\"Saved partial predictions for product {P[PROD]} (PROD = {PROD})\")\n",
    "    print(f\"Now run this notebook again with PROD = {PROD+1} to make more predictions.\")\n",
    "else:\n",
    "    test[['id','num_sold']].to_csv(f\"submission_v{VER}.csv\",index=False)\n",
    "    print(f\"Wrote submission_v{VER}.csv, now submit to comp!\")\n",
    "test[['id','num_sold']].head()"
   ]
  }
 ],
 "metadata": {
  "kaggle": {
   "accelerator": "nvidiaTeslaT4",
   "dataSources": [
    {
     "databundleVersionId": 10652996,
     "sourceId": 85723,
     "sourceType": "competition"
    },
    {
     "datasetId": 6538310,
     "sourceId": 10566196,
     "sourceType": "datasetVersion"
    }
   ],
   "dockerImageVersionId": 30840,
   "isGpuEnabled": true,
   "isInternetEnabled": false,
   "language": "python",
   "sourceType": "notebook"
  },
  "kernelspec": {
   "display_name": "Python 3",
   "language": "python",
   "name": "python3"
  },
  "language_info": {
   "codemirror_mode": {
    "name": "ipython",
    "version": 3
   },
   "file_extension": ".py",
   "mimetype": "text/x-python",
   "name": "python",
   "nbconvert_exporter": "python",
   "pygments_lexer": "ipython3",
   "version": "3.10.12"
  }
 },
 "nbformat": 4,
 "nbformat_minor": 4
}
