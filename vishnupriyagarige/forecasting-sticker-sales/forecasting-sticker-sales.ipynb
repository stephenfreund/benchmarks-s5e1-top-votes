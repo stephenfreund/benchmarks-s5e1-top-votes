{
 "cells": [
  {
   "cell_type": "code",
   "execution_count": null,
   "id": "3479",
   "metadata": {
    "_cell_guid": "b1076dfc-b9ad-4769-8c92-a6c4dae69d19",
    "_uuid": "8f2839f25d086af736a60e9eeb907d3b93b6e0e5",
    "execution": {
     "iopub.execute_input": "2025-01-21T19:33:18.493258Z",
     "iopub.status.busy": "2025-01-21T19:33:18.492903Z",
     "iopub.status.idle": "2025-01-21T19:33:18.811933Z",
     "shell.execute_reply": "2025-01-21T19:33:18.810795Z",
     "shell.execute_reply.started": "2025-01-21T19:33:18.493229Z"
    }
   },
   "outputs": [],
   "source": [
    "# This Python 3 environment comes with many helpful analytics libraries installed\n",
    "# It is defined by the kaggle/python Docker image: https://github.com/kaggle/docker-python\n",
    "# For example, here's several helpful packages to load\n",
    "\n",
    "import numpy as np # linear algebra\n",
    "import pandas as pd # data processing, CSV file I/O (e.g. pd.read_csv)\n",
    "\n",
    "# Input data files are available in the read-only \"../input/\" directory\n",
    "# For example, running this (by clicking run or pressing Shift+Enter) will list all files under the input directory\n",
    "\n",
    "import os\n",
    "for dirname, _, filenames in os.walk('./input'):\n",
    "    for filename in filenames:\n",
    "        print(os.path.join(dirname, filename))\n",
    "\n",
    "# You can write up to 20GB to the current directory (/kaggle/working/) that gets preserved as output when you create a version using \"Save & Run All\" \n",
    "# You can also write temporary files to /kaggle/temp/, but they won't be saved outside of the current session"
   ]
  },
  {
   "cell_type": "code",
   "execution_count": null,
   "id": "e6b0",
   "metadata": {
    "execution": {
     "iopub.status.busy": "2025-01-21T19:33:18.813893Z",
     "iopub.status.idle": "2025-01-21T19:33:20.206889Z",
     "shell.execute_reply": "2025-01-21T19:33:20.205659Z",
     "shell.execute_reply.started": "2025-01-21T19:33:18.814499Z"
    }
   },
   "outputs": [],
   "source": [
    "import pandas as pd\n",
    "import numpy as np\n",
    "import matplotlib.pyplot as plt\n",
    "import seaborn as sns\n",
    "\n",
    "from sklearn.model_selection import KFold\n",
    "from sklearn.metrics import mean_absolute_percentage_error\n",
    "from sklearn.model_selection import train_test_split\n",
    "import xgboost as xgb\n",
    "from lightgbm import LGBMRegressor\n",
    "from xgboost import XGBRegressor\n",
    "from catboost import CatBoostRegressor"
   ]
  },
  {
   "cell_type": "code",
   "execution_count": null,
   "id": "42f2",
   "metadata": {
    "execution": {
     "iopub.execute_input": "2025-01-21T19:33:20.20924Z",
     "iopub.status.busy": "2025-01-21T19:33:20.2086Z",
     "iopub.status.idle": "2025-01-21T19:33:20.423691Z",
     "shell.execute_reply": "2025-01-21T19:33:20.422262Z",
     "shell.execute_reply.started": "2025-01-21T19:33:20.209219Z"
    }
   },
   "outputs": [],
   "source": [
    "train_data = pd.read_csv(r\"./input/playground-series-s5e1/train.csv\")\n",
    "test_data = pd.read_csv(r\"./input/playground-series-s5e1/test.csv\")\n",
    "sample_submission = pd.read_csv(r\"./input/playground-series-s5e1/sample_submission.csv\")\n",
    "\n",
    "print(\"train_data shape :\",train_data.shape)\n",
    "print(\"test_data shape :\",test_data.shape)\n",
    "print(\"sample_submission shape :\",sample_submission.shape)"
   ]
  },
  {
   "cell_type": "code",
   "execution_count": null,
   "id": "66bf",
   "metadata": {
    "execution": {
     "iopub.execute_input": "2025-01-21T19:33:20.425531Z",
     "iopub.status.busy": "2025-01-21T19:33:20.425233Z",
     "iopub.status.idle": "2025-01-21T19:33:20.441235Z",
     "shell.execute_reply": "2025-01-21T19:33:20.440151Z",
     "shell.execute_reply.started": "2025-01-21T19:33:20.425504Z"
    }
   },
   "outputs": [],
   "source": [
    "train_data.head()"
   ]
  },
  {
   "cell_type": "code",
   "execution_count": null,
   "id": "cd6c",
   "metadata": {
    "execution": {
     "iopub.execute_input": "2025-01-21T19:33:20.442193Z",
     "iopub.status.busy": "2025-01-21T19:33:20.441943Z",
     "iopub.status.idle": "2025-01-21T19:33:20.488358Z",
     "shell.execute_reply": "2025-01-21T19:33:20.48685Z",
     "shell.execute_reply.started": "2025-01-21T19:33:20.442168Z"
    }
   },
   "outputs": [],
   "source": [
    "train_data.isna().sum().sort_values(ascending=False)"
   ]
  },
  {
   "cell_type": "code",
   "execution_count": null,
   "id": "6455",
   "metadata": {
    "execution": {
     "iopub.execute_input": "2025-01-21T19:33:20.489649Z",
     "iopub.status.busy": "2025-01-21T19:33:20.489383Z",
     "iopub.status.idle": "2025-01-21T19:33:20.517148Z",
     "shell.execute_reply": "2025-01-21T19:33:20.515937Z",
     "shell.execute_reply.started": "2025-01-21T19:33:20.489624Z"
    }
   },
   "outputs": [],
   "source": [
    "train_data['country'].value_counts()"
   ]
  },
  {
   "cell_type": "code",
   "execution_count": null,
   "id": "d0ae",
   "metadata": {
    "execution": {
     "iopub.execute_input": "2025-01-21T19:33:20.518241Z",
     "iopub.status.busy": "2025-01-21T19:33:20.517974Z",
     "iopub.status.idle": "2025-01-21T19:33:20.658899Z",
     "shell.execute_reply": "2025-01-21T19:33:20.657474Z",
     "shell.execute_reply.started": "2025-01-21T19:33:20.518222Z"
    }
   },
   "outputs": [],
   "source": [
    "train_data = train_data.drop_duplicates()\n",
    "train_data = train_data.dropna()\n",
    "print(\"train_data shape :\",train_data.shape)"
   ]
  },
  {
   "cell_type": "code",
   "execution_count": null,
   "id": "07be",
   "metadata": {
    "execution": {
     "iopub.execute_input": "2025-01-21T19:33:20.662647Z",
     "iopub.status.busy": "2025-01-21T19:33:20.662315Z",
     "iopub.status.idle": "2025-01-21T19:33:20.672992Z",
     "shell.execute_reply": "2025-01-21T19:33:20.67154Z",
     "shell.execute_reply.started": "2025-01-21T19:33:20.662627Z"
    }
   },
   "outputs": [],
   "source": [
    "test_data.head()"
   ]
  },
  {
   "cell_type": "code",
   "execution_count": null,
   "id": "a22f",
   "metadata": {
    "execution": {
     "iopub.execute_input": "2025-01-21T19:33:20.67487Z",
     "iopub.status.busy": "2025-01-21T19:33:20.674594Z",
     "iopub.status.idle": "2025-01-21T19:33:20.712033Z",
     "shell.execute_reply": "2025-01-21T19:33:20.711092Z",
     "shell.execute_reply.started": "2025-01-21T19:33:20.674848Z"
    }
   },
   "outputs": [],
   "source": [
    "test_data.isna().sum().sort_values(ascending=False)"
   ]
  },
  {
   "cell_type": "code",
   "execution_count": null,
   "id": "ac05",
   "metadata": {
    "execution": {
     "iopub.execute_input": "2025-01-21T19:33:20.713216Z",
     "iopub.status.busy": "2025-01-21T19:33:20.712978Z",
     "iopub.status.idle": "2025-01-21T19:33:20.730151Z",
     "shell.execute_reply": "2025-01-21T19:33:20.729225Z",
     "shell.execute_reply.started": "2025-01-21T19:33:20.713197Z"
    }
   },
   "outputs": [],
   "source": [
    "import numpy as np\n",
    "import pandas as pd\n",
    "\n",
    "def date_feature_engineering(df):\n",
    "    \"\"\"\n",
    "    Performs feature engineering on a date column in the given DataFrame.\n",
    "    Adds various date-related features to the DataFrame.\n",
    "\n",
    "    Args:\n",
    "        df (pd.DataFrame): DataFrame containing a 'date' column.\n",
    "\n",
    "    Returns:\n",
    "        pd.DataFrame: DataFrame with additional date features.\n",
    "    \"\"\"\n",
    "    df['date'] = pd.to_datetime(df['date'])\n",
    "    df['Year'] = df['date'].dt.year\n",
    "    df['Quarter'] = df['date'].dt.quarter\n",
    "    df['Month'] = df['date'].dt.month\n",
    "    df['Day'] = df['date'].dt.day\n",
    "    df['day_of_week'] = df['date'].dt.dayofweek\n",
    "    df['week'] = df['date'].dt.isocalendar().week\n",
    "    df['week_of_year'] = df['date'].dt.isocalendar().week\n",
    "\n",
    "\n",
    "    # Cyclical Features\n",
    "    df['day_sin'] = np.sin(2 * np.pi * df['Day'] / 365.0)\n",
    "    df['day_cos'] = np.cos(2 * np.pi * df['Day'] / 365.0)\n",
    "    df['week_sin'] = np.sin(df['week'] * (2 * np.pi/ 53))\n",
    "    df['week_cos'] = np.cos(df['week'] * (2 * np.pi/ 53))\n",
    "    df['month_sin'] = np.sin(2 * np.pi * df['Month'] / 12.0)\n",
    "    df['month_cos'] = np.cos(2 * np.pi * df['Month'] / 12.0)\n",
    "    df['year_sin'] = np.sin(2 * np.pi * df['Year'] / 7.0)\n",
    "    df['year_cos'] = np.cos(2 * np.pi * df['Year'] / 7.0)\n",
    "\n",
    "    # Group Calculation\n",
    "    df['Group'] = (df['Year'] - 2010) * 48 + df['Month'] * 4 + df['Day'] // 7\n",
    "    #df[['Month', 'Day', 'week', 'Year']] = df[['Month', 'Day', 'week', 'Year']].astype('object')\n",
    "    \n",
    "    return df\n"
   ]
  },
  {
   "cell_type": "code",
   "execution_count": null,
   "id": "0951",
   "metadata": {
    "execution": {
     "iopub.execute_input": "2025-01-21T19:33:20.731112Z",
     "iopub.status.busy": "2025-01-21T19:33:20.730879Z",
     "iopub.status.idle": "2025-01-21T19:33:20.890554Z",
     "shell.execute_reply": "2025-01-21T19:33:20.889499Z",
     "shell.execute_reply.started": "2025-01-21T19:33:20.731092Z"
    }
   },
   "outputs": [],
   "source": [
    "train_data = date_feature_engineering(train_data)\n",
    "test_data = date_feature_engineering(test_data)"
   ]
  },
  {
   "cell_type": "code",
   "execution_count": null,
   "id": "25a8",
   "metadata": {
    "execution": {
     "iopub.execute_input": "2025-01-21T19:33:20.892115Z",
     "iopub.status.busy": "2025-01-21T19:33:20.89168Z",
     "iopub.status.idle": "2025-01-21T19:33:20.936333Z",
     "shell.execute_reply": "2025-01-21T19:33:20.934921Z",
     "shell.execute_reply.started": "2025-01-21T19:33:20.892085Z"
    }
   },
   "outputs": [],
   "source": [
    "train_data.drop('date',axis=1,inplace=True)\n",
    "test_data.drop('date',axis=1,inplace=True)"
   ]
  },
  {
   "cell_type": "code",
   "execution_count": null,
   "id": "fe02",
   "metadata": {
    "execution": {
     "iopub.execute_input": "2025-01-21T19:33:20.937436Z",
     "iopub.status.busy": "2025-01-21T19:33:20.93722Z",
     "iopub.status.idle": "2025-01-21T19:33:20.942496Z",
     "shell.execute_reply": "2025-01-21T19:33:20.941431Z",
     "shell.execute_reply.started": "2025-01-21T19:33:20.937413Z"
    }
   },
   "outputs": [],
   "source": [
    "print(\"train data shape :\", train_data.shape)\n",
    "print(\"test data shape :\", test_data.shape)"
   ]
  },
  {
   "cell_type": "code",
   "execution_count": null,
   "id": "7404",
   "metadata": {
    "execution": {
     "iopub.execute_input": "2025-01-21T19:33:20.943734Z",
     "iopub.status.busy": "2025-01-21T19:33:20.943474Z",
     "iopub.status.idle": "2025-01-21T19:33:20.977508Z",
     "shell.execute_reply": "2025-01-21T19:33:20.975872Z",
     "shell.execute_reply.started": "2025-01-21T19:33:20.943712Z"
    }
   },
   "outputs": [],
   "source": [
    "train_data.head(2)"
   ]
  },
  {
   "cell_type": "code",
   "execution_count": null,
   "id": "713d",
   "metadata": {
    "execution": {
     "iopub.execute_input": "2025-01-21T19:33:20.978759Z",
     "iopub.status.busy": "2025-01-21T19:33:20.978467Z",
     "iopub.status.idle": "2025-01-21T19:33:20.997281Z",
     "shell.execute_reply": "2025-01-21T19:33:20.996298Z",
     "shell.execute_reply.started": "2025-01-21T19:33:20.978732Z"
    }
   },
   "outputs": [],
   "source": [
    "train_data['num_sold'] = np.log1p(train_data['num_sold'])"
   ]
  },
  {
   "cell_type": "code",
   "execution_count": null,
   "id": "5b17",
   "metadata": {
    "execution": {
     "iopub.execute_input": "2025-01-21T19:33:20.998366Z",
     "iopub.status.busy": "2025-01-21T19:33:20.998169Z",
     "iopub.status.idle": "2025-01-21T19:33:21.179701Z",
     "shell.execute_reply": "2025-01-21T19:33:21.177882Z",
     "shell.execute_reply.started": "2025-01-21T19:33:20.998348Z"
    }
   },
   "outputs": [],
   "source": [
    "train_data['num_sold'].hist()"
   ]
  },
  {
   "cell_type": "code",
   "execution_count": null,
   "id": "ab50",
   "metadata": {
    "execution": {
     "iopub.execute_input": "2025-01-21T19:33:21.180851Z",
     "iopub.status.busy": "2025-01-21T19:33:21.180603Z",
     "iopub.status.idle": "2025-01-21T19:33:21.241808Z",
     "shell.execute_reply": "2025-01-21T19:33:21.24106Z",
     "shell.execute_reply.started": "2025-01-21T19:33:21.180831Z"
    }
   },
   "outputs": [],
   "source": [
    "train_data = train_data.drop('id', axis = 1)\n",
    "num_cols = list(train_data.select_dtypes(exclude=['object']).columns.difference(['num_sold']))\n",
    "cat_cols = list(train_data.select_dtypes(include=['object']).columns)\n",
    "\n",
    "num_cols_test = list(test_data.select_dtypes(exclude=['object']).columns.difference(['id']))\n",
    "cat_cols_test = list(test_data.select_dtypes(include=['object']).columns)"
   ]
  },
  {
   "cell_type": "code",
   "execution_count": null,
   "id": "9f88",
   "metadata": {
    "execution": {
     "iopub.execute_input": "2025-01-21T19:33:21.24272Z",
     "iopub.status.busy": "2025-01-21T19:33:21.242511Z",
     "iopub.status.idle": "2025-01-21T19:33:21.249224Z",
     "shell.execute_reply": "2025-01-21T19:33:21.247687Z",
     "shell.execute_reply.started": "2025-01-21T19:33:21.242701Z"
    }
   },
   "outputs": [],
   "source": [
    "len(cat_cols), len(cat_cols_test)"
   ]
  },
  {
   "cell_type": "code",
   "execution_count": null,
   "id": "ac68",
   "metadata": {
    "execution": {
     "iopub.execute_input": "2025-01-21T19:33:21.250559Z",
     "iopub.status.busy": "2025-01-21T19:33:21.250249Z",
     "iopub.status.idle": "2025-01-21T19:33:21.271509Z",
     "shell.execute_reply": "2025-01-21T19:33:21.270512Z",
     "shell.execute_reply.started": "2025-01-21T19:33:21.250519Z"
    }
   },
   "outputs": [],
   "source": [
    "cat_cols"
   ]
  },
  {
   "cell_type": "code",
   "execution_count": null,
   "id": "6c34",
   "metadata": {
    "execution": {
     "iopub.execute_input": "2025-01-21T19:33:21.273373Z",
     "iopub.status.busy": "2025-01-21T19:33:21.272918Z",
     "iopub.status.idle": "2025-01-21T19:33:21.38671Z",
     "shell.execute_reply": "2025-01-21T19:33:21.385765Z",
     "shell.execute_reply.started": "2025-01-21T19:33:21.273349Z"
    }
   },
   "outputs": [],
   "source": [
    "from sklearn.preprocessing import OneHotEncoder, LabelEncoder\n",
    "# Initialize LabelEncoder\n",
    "label_encoders = {col: LabelEncoder() for col in cat_cols}\n",
    "\n",
    "# Apply LabelEncoder to each categorical column\n",
    "for col in cat_cols:\n",
    "    train_data[col] = label_encoders[col].fit_transform(train_data[col])\n",
    "    test_data[col] = label_encoders[col].transform(test_data[col])\n",
    "    "
   ]
  },
  {
   "cell_type": "code",
   "execution_count": null,
   "id": "5381",
   "metadata": {
    "execution": {
     "iopub.execute_input": "2025-01-21T19:33:21.387753Z",
     "iopub.status.busy": "2025-01-21T19:33:21.387493Z",
     "iopub.status.idle": "2025-01-21T19:33:21.416021Z",
     "shell.execute_reply": "2025-01-21T19:33:21.415059Z",
     "shell.execute_reply.started": "2025-01-21T19:33:21.38773Z"
    }
   },
   "outputs": [],
   "source": [
    "train_data = train_data.dropna()\n",
    "train_data.shape"
   ]
  },
  {
   "cell_type": "code",
   "execution_count": null,
   "id": "caa8",
   "metadata": {
    "execution": {
     "iopub.execute_input": "2025-01-21T19:33:21.417119Z",
     "iopub.status.busy": "2025-01-21T19:33:21.416838Z",
     "iopub.status.idle": "2025-01-21T19:33:22.523936Z",
     "shell.execute_reply": "2025-01-21T19:33:22.523066Z",
     "shell.execute_reply.started": "2025-01-21T19:33:21.417063Z"
    }
   },
   "outputs": [],
   "source": [
    "# Calculate the correlation matrix\n",
    "correlation_matrix = train_data.corr()\n",
    "\n",
    "# Plot the heatmap\n",
    "plt.figure(figsize=(15, 8))\n",
    "sns.heatmap(correlation_matrix, annot=True, cmap='coolwarm', linewidths=0.5, vmin=-1, vmax=1)\n",
    "plt.title('Feature Correlation Heatmap')\n",
    "plt.tight_layout()\n",
    "plt.show()"
   ]
  },
  {
   "cell_type": "code",
   "execution_count": null,
   "id": "5f94",
   "metadata": {
    "execution": {
     "iopub.execute_input": "2025-01-21T19:33:22.528262Z",
     "iopub.status.busy": "2025-01-21T19:33:22.527844Z",
     "iopub.status.idle": "2025-01-21T19:33:22.585391Z",
     "shell.execute_reply": "2025-01-21T19:33:22.584585Z",
     "shell.execute_reply.started": "2025-01-21T19:33:22.52822Z"
    }
   },
   "outputs": [],
   "source": [
    "from sklearn.model_selection import train_test_split\n",
    "X = train_data.drop(['num_sold'], axis=1)\n",
    "y = train_data['num_sold']\n",
    "test = test_data.drop(['id'],axis=1)\n",
    "\n",
    "# Split datainto training set and test set\n",
    "X_train, X_test, y_train, y_test = train_test_split(X, y, test_size=0.2, random_state=42)"
   ]
  },
  {
   "cell_type": "markdown",
   "id": "f71f",
   "metadata": {},
   "source": [
    "# LGBMRegressor:"
   ]
  },
  {
   "cell_type": "code",
   "execution_count": null,
   "id": "e8bb",
   "metadata": {
    "execution": {
     "iopub.execute_input": "2025-01-21T19:33:22.586643Z",
     "iopub.status.busy": "2025-01-21T19:33:22.586419Z",
     "iopub.status.idle": "2025-01-21T19:33:22.592457Z",
     "shell.execute_reply": "2025-01-21T19:33:22.590795Z",
     "shell.execute_reply.started": "2025-01-21T19:33:22.586624Z"
    }
   },
   "outputs": [],
   "source": [
    "parameters = {'n_estimators': 3946, 'learning_rate': 0.10203344298643195, 'max_depth': 12, 'num_leaves': 20, 'min_child_samples': 39, 'subsample': 0.7786665459484634, 'colsample_bytree': 0.7352055562065795, 'reg_alpha': 0.2840216195298897, 'reg_lambda': 6.583320975256993, \"verbosity\" : -1}\n",
    "#value: 0.7870\n",
    "parameters1 = {'n_estimators': 948, 'learning_rate': 0.2572216421493241, 'max_depth': 10, 'num_leaves': 27, 'min_child_samples': 40, 'subsample': 0.9264384761923773, 'colsample_bytree': 0.8186182049938401, 'reg_alpha': 0.6102633505892816, 'reg_lambda': 5.665127298860676,\"verbosity\" : -1}\n",
    "#Best MAPE: 0.8254249144142861\n",
    "parameters2= {'n_estimators': 893, 'learning_rate': 0.23375403457795774, 'max_depth': 12, 'num_leaves': 26, 'min_child_samples': 17, 'subsample': 0.6523663128317455, 'colsample_bytree': 0.6883423157544275, 'reg_alpha': 0.6211257930715601, 'reg_lambda': 2.3321790675873793,\"verbosity\" : -1}\n",
    "#Best MAPE: 0.8235897672508037"
   ]
  },
  {
   "cell_type": "code",
   "execution_count": null,
   "id": "38b5",
   "metadata": {
    "execution": {
     "iopub.execute_input": "2025-01-21T19:33:22.594461Z",
     "iopub.status.busy": "2025-01-21T19:33:22.594085Z",
     "iopub.status.idle": "2025-01-21T19:35:44.951861Z",
     "shell.execute_reply": "2025-01-21T19:35:44.950338Z",
     "shell.execute_reply.started": "2025-01-21T19:33:22.594427Z"
    }
   },
   "outputs": [],
   "source": [
    "# Define MAPE metric\n",
    "def mape(y_true, y_pred):\n",
    "    return mean_absolute_percentage_error(y_true, y_pred)*100\n",
    "\n",
    "# Cross-validation for LGBMRegressor\n",
    "n_splits = 5\n",
    "def cross_val_lgbm_mape(X, y, test, n_splits=n_splits, **parameters):\n",
    "    kf = KFold(n_splits=n_splits, shuffle=True, random_state=42)\n",
    "    mape_scores = []\n",
    "    preds = []\n",
    "\n",
    "    for train_index, valid_index in kf.split(X):\n",
    "        # Ensure data types for indexing\n",
    "        if isinstance(X, pd.DataFrame):\n",
    "            X_train, X_valid = X.iloc[train_index], X.iloc[valid_index]\n",
    "            y_train, y_valid = y.iloc[train_index], y.iloc[valid_index]\n",
    "        else:\n",
    "            X_train, X_valid = X[train_index], X[valid_index]\n",
    "            y_train, y_valid = y[train_index], y[valid_index]\n",
    "\n",
    "        # Initialize and train the model\n",
    "        model = LGBMRegressor(random_state=42, **parameters)\n",
    "        model.fit(X_train, y_train)\n",
    "\n",
    "        # Predictions and evaluation\n",
    "        y_pred = model.predict(X_valid)\n",
    "        score = mape(y_valid, y_pred)\n",
    "        mape_scores.append(score)\n",
    "\n",
    "        # Predict on the test set\n",
    "        preds.append(model.predict(test))\n",
    "\n",
    "    # Average predictions over all folds\n",
    "    test_preds_mean = np.mean(preds, axis=0)\n",
    "\n",
    "    return np.mean(mape_scores), test_preds_mean\n",
    "\n",
    "\n",
    "average_mape, lgb_preds = cross_val_lgbm_mape(X, y, test, n_splits=n_splits, **parameters)\n",
    "\n",
    "print(f\"Average MAPE across folds: {average_mape:.4f}\")\n",
    "\n",
    "# Save predictions for submission\n",
    "submission = pd.DataFrame({'id': test_data['id'], 'num_sold': np.expm1(lgb_preds).round()})\n",
    "print(submission.head())\n",
    "submission.to_csv('submission_lgb.csv', index=False)\n"
   ]
  },
  {
   "cell_type": "markdown",
   "id": "c4b9",
   "metadata": {},
   "source": [
    "# XGBRegressor:"
   ]
  },
  {
   "cell_type": "code",
   "execution_count": null,
   "id": "856f",
   "metadata": {
    "execution": {
     "iopub.execute_input": "2025-01-21T19:35:44.953128Z",
     "iopub.status.busy": "2025-01-21T19:35:44.952817Z",
     "iopub.status.idle": "2025-01-21T19:36:11.515548Z",
     "shell.execute_reply": "2025-01-21T19:36:11.513959Z",
     "shell.execute_reply.started": "2025-01-21T19:35:44.953105Z"
    }
   },
   "outputs": [],
   "source": [
    "paramsxgb = {'n_estimators': 702, 'learning_rate': 0.1316466004260925, 'max_depth': 6, 'min_child_weight': 5, 'subsample': 0.7085976110203339, 'colsample_bytree': 0.9306214290853707, 'gamma': 0.0006666226876864524, 'reg_alpha': 4.783736210532281, 'reg_lambda': 5.162091591648421}\n",
    "#Best MAPE: 0.00829858896550044\n",
    "\n",
    "# Define MAPE metric\n",
    "def mape(y_true, y_pred):\n",
    "    return mean_absolute_percentage_error(y_true, y_pred) * 100\n",
    "\n",
    "# Cross-validation for XGBRegressor\n",
    "def cross_val_xgbr_mape(X, y, test, n_splits=5, **paramsxgb):\n",
    "    kf = KFold(n_splits=n_splits, shuffle=True, random_state=42)\n",
    "    mape_scores = []\n",
    "    preds = []\n",
    "\n",
    "    for train_index, valid_index in kf.split(X):\n",
    "        # Ensure data types for indexing\n",
    "        if isinstance(X, pd.DataFrame):\n",
    "            X_train, X_valid = X.iloc[train_index], X.iloc[valid_index]\n",
    "            y_train, y_valid = y.iloc[train_index], y.iloc[valid_index]\n",
    "        else:\n",
    "            X_train, X_valid = X[train_index], X[valid_index]\n",
    "            y_train, y_valid = y[train_index], y[valid_index]\n",
    "\n",
    "        # Initialize and train the model\n",
    "        xgb_model = XGBRegressor(random_state=42, **paramsxgb)\n",
    "        xgb_model.fit(X_train, y_train)\n",
    "\n",
    "        # Predictions and evaluation\n",
    "        y_pred = xgb_model.predict(X_valid)\n",
    "        score = mape(y_valid, y_pred)\n",
    "        mape_scores.append(score)\n",
    "\n",
    "        # Predict on the test set\n",
    "        preds.append(xgb_model.predict(test))\n",
    "\n",
    "    # Average predictions over all folds\n",
    "    test_preds_mean = np.mean(preds, axis=0)\n",
    "\n",
    "    return np.mean(mape_scores), test_preds_mean\n",
    "\n",
    "# Example usage\n",
    "model_params = {\n",
    "    \"n_estimators\": 100,\n",
    "    \"learning_rate\": 0.1,\n",
    "    \"max_depth\": 6,\n",
    "    \"subsample\": 0.8,\n",
    "    \"colsample_bytree\": 0.8\n",
    "}\n",
    "\n",
    "average_mape, xgb_preds = cross_val_xgbr_mape(X, y, test, n_splits=5, **paramsxgb)\n",
    "\n",
    "print(f\"Average MAPE across folds: {average_mape:.4f}\")\n",
    "\n",
    "# Save predictions for submission\n",
    "submission = pd.DataFrame({'id': test_data['id'], 'num_sold': np.expm1(xgb_preds).round()})\n",
    "print(submission.head())\n",
    "submission.to_csv('submission_xgb.csv', index=False)\n"
   ]
  },
  {
   "cell_type": "markdown",
   "id": "1d06",
   "metadata": {},
   "source": [
    "# CatBoostRegressor:"
   ]
  },
  {
   "cell_type": "code",
   "execution_count": null,
   "id": "0278",
   "metadata": {
    "execution": {
     "iopub.execute_input": "2025-01-21T19:36:11.51796Z",
     "iopub.status.busy": "2025-01-21T19:36:11.517573Z",
     "iopub.status.idle": "2025-01-21T19:37:14.180779Z",
     "shell.execute_reply": "2025-01-21T19:37:14.179374Z",
     "shell.execute_reply.started": "2025-01-21T19:36:11.517937Z"
    }
   },
   "outputs": [],
   "source": [
    "params_cat = {'iterations': 746, 'learning_rate': 0.2702240852251232, 'depth': 7, 'l2_leaf_reg': 0.005010078257154434, 'border_count': 250, 'subsample': 0.6439427477473476, 'random_strength': 4.895400575086264}\n",
    "#Best MAPE: 0.00834734201702038\n",
    "\n",
    "# Define MAPE metric\n",
    "def mape(y_true, y_pred):\n",
    "    return mean_absolute_percentage_error(y_true, y_pred)*100\n",
    "\n",
    "# Cross-validation for CatBoostRegressor\n",
    "def cross_val_catboost_mape(X, y, test, n_splits=5, **params_cat):\n",
    "    kf = KFold(n_splits=n_splits, shuffle=True, random_state=42)\n",
    "    mape_scores = []\n",
    "    preds = []\n",
    "\n",
    "    for train_index, valid_index in kf.split(X):\n",
    "        # Ensure data types for indexing\n",
    "        if isinstance(X, pd.DataFrame):\n",
    "            X_train, X_valid = X.iloc[train_index], X.iloc[valid_index]\n",
    "            y_train, y_valid = y.iloc[train_index], y.iloc[valid_index]\n",
    "        else:\n",
    "            X_train, X_valid = X[train_index], X[valid_index]\n",
    "            y_train, y_valid = y[train_index], y[valid_index]\n",
    "\n",
    "        # Initialize and train the model\n",
    "        cat_model = CatBoostRegressor(random_state=42, silent=True, **params_cat)\n",
    "        cat_model.fit(X_train, y_train)\n",
    "\n",
    "        # Predictions and evaluation\n",
    "        y_pred = cat_model.predict(X_valid)\n",
    "        score = mape(y_valid, y_pred)\n",
    "        mape_scores.append(score)\n",
    "\n",
    "        # Predict on the test set\n",
    "        preds.append(cat_model.predict(test))\n",
    "\n",
    "    # Average predictions over all folds\n",
    "    test_preds_mean = np.mean(preds, axis=0)\n",
    "\n",
    "    return np.mean(mape_scores), test_preds_mean\n",
    "\n",
    "# Example usage\n",
    "model_params = {\n",
    "    \"iterations\": 500,\n",
    "    \"learning_rate\": 0.05,\n",
    "    \"depth\": 6,\n",
    "    \"loss_function\": \"MAPE\"\n",
    "}\n",
    "\n",
    "average_mape, catboost_preds = cross_val_catboost_mape(X, y, test, n_splits=5, **params_cat)\n",
    "\n",
    "print(f\"Average MAPE across folds: {average_mape:.4f}\")\n",
    "\n",
    "# Save predictions for submission\n",
    "submission = pd.DataFrame({'id': test_data['id'], 'num_sold': np.expm1(catboost_preds).round()})\n",
    "print(submission.head())\n",
    "submission.to_csv('submission_catboost.csv', index=False)\n"
   ]
  }
 ],
 "metadata": {
  "kaggle": {
   "accelerator": "none",
   "dataSources": [
    {
     "databundleVersionId": 10652996,
     "sourceId": 85723,
     "sourceType": "competition"
    }
   ],
   "dockerImageVersionId": 30822,
   "isGpuEnabled": false,
   "isInternetEnabled": true,
   "language": "python",
   "sourceType": "notebook"
  },
  "kernelspec": {
   "display_name": "Python 3",
   "language": "python",
   "name": "python3"
  },
  "language_info": {
   "codemirror_mode": {
    "name": "ipython",
    "version": 3
   },
   "file_extension": ".py",
   "mimetype": "text/x-python",
   "name": "python",
   "nbconvert_exporter": "python",
   "pygments_lexer": "ipython3",
   "version": "3.10.12"
  }
 },
 "nbformat": 4,
 "nbformat_minor": 4
}
